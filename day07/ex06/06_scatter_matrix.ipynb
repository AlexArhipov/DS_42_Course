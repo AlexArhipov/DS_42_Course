{
  "nbformat": 4,
  "nbformat_minor": 0,
  "metadata": {
    "colab": {
      "name": "ex02_joins.ipynb",
      "provenance": []
    },
    "kernelspec": {
      "name": "python3",
      "display_name": "Python 3"
    },
    "language_info": {
      "name": "python"
    }
  },
  "cells": [
    {
      "cell_type": "code",
      "metadata": {
        "id": "vnwOjIVdJZPz"
      },
      "source": [
        "import pandas as pd\n",
        "import sqlite3\n",
        "from pandas.plotting import scatter_matrix"
      ],
      "execution_count": 685,
      "outputs": []
    },
    {
      "cell_type": "code",
      "metadata": {
        "colab": {
          "base_uri": "https://localhost:8080/",
          "height": 452
        },
        "id": "cjy9TBUGSu1F",
        "outputId": "df30aac2-0dbd-42aa-9371-f26b9e34d00f"
      },
      "source": [
        "connect_db = sqlite3.connect('../data/checking-logs.sqlite.sqlite')\n",
        "query = '''\n",
        "        select uid, count(1) as count_page from pageviews where uid like 'user_%' group by uid\n",
        "        '''\n",
        "df_pageviews = pd.io.sql.read_sql(query, connect_db)\n",
        "df_pageviews"
      ],
      "execution_count": 686,
      "outputs": [
        {
          "output_type": "execute_result",
          "data": {
            "text/html": [
              "<div>\n",
              "<style scoped>\n",
              "    .dataframe tbody tr th:only-of-type {\n",
              "        vertical-align: middle;\n",
              "    }\n",
              "\n",
              "    .dataframe tbody tr th {\n",
              "        vertical-align: top;\n",
              "    }\n",
              "\n",
              "    .dataframe thead th {\n",
              "        text-align: right;\n",
              "    }\n",
              "</style>\n",
              "<table border=\"1\" class=\"dataframe\">\n",
              "  <thead>\n",
              "    <tr style=\"text-align: right;\">\n",
              "      <th></th>\n",
              "      <th>uid</th>\n",
              "      <th>count_page</th>\n",
              "    </tr>\n",
              "  </thead>\n",
              "  <tbody>\n",
              "    <tr>\n",
              "      <th>0</th>\n",
              "      <td>user_1</td>\n",
              "      <td>28</td>\n",
              "    </tr>\n",
              "    <tr>\n",
              "      <th>1</th>\n",
              "      <td>user_10</td>\n",
              "      <td>89</td>\n",
              "    </tr>\n",
              "    <tr>\n",
              "      <th>2</th>\n",
              "      <td>user_14</td>\n",
              "      <td>143</td>\n",
              "    </tr>\n",
              "    <tr>\n",
              "      <th>3</th>\n",
              "      <td>user_17</td>\n",
              "      <td>47</td>\n",
              "    </tr>\n",
              "    <tr>\n",
              "      <th>4</th>\n",
              "      <td>user_18</td>\n",
              "      <td>3</td>\n",
              "    </tr>\n",
              "    <tr>\n",
              "      <th>5</th>\n",
              "      <td>user_19</td>\n",
              "      <td>16</td>\n",
              "    </tr>\n",
              "    <tr>\n",
              "      <th>6</th>\n",
              "      <td>user_21</td>\n",
              "      <td>10</td>\n",
              "    </tr>\n",
              "    <tr>\n",
              "      <th>7</th>\n",
              "      <td>user_25</td>\n",
              "      <td>179</td>\n",
              "    </tr>\n",
              "    <tr>\n",
              "      <th>8</th>\n",
              "      <td>user_28</td>\n",
              "      <td>149</td>\n",
              "    </tr>\n",
              "    <tr>\n",
              "      <th>9</th>\n",
              "      <td>user_3</td>\n",
              "      <td>317</td>\n",
              "    </tr>\n",
              "    <tr>\n",
              "      <th>10</th>\n",
              "      <td>user_30</td>\n",
              "      <td>3</td>\n",
              "    </tr>\n",
              "    <tr>\n",
              "      <th>11</th>\n",
              "      <td>user_5</td>\n",
              "      <td>1</td>\n",
              "    </tr>\n",
              "    <tr>\n",
              "      <th>12</th>\n",
              "      <td>user_9</td>\n",
              "      <td>2</td>\n",
              "    </tr>\n",
              "  </tbody>\n",
              "</table>\n",
              "</div>"
            ],
            "text/plain": [
              "        uid  count_page\n",
              "0    user_1          28\n",
              "1   user_10          89\n",
              "2   user_14         143\n",
              "3   user_17          47\n",
              "4   user_18           3\n",
              "5   user_19          16\n",
              "6   user_21          10\n",
              "7   user_25         179\n",
              "8   user_28         149\n",
              "9    user_3         317\n",
              "10  user_30           3\n",
              "11   user_5           1\n",
              "12   user_9           2"
            ]
          },
          "metadata": {},
          "execution_count": 686
        }
      ]
    },
    {
      "cell_type": "code",
      "metadata": {
        "colab": {
          "base_uri": "https://localhost:8080/",
          "height": 390
        },
        "id": "-gZksWOuwPkM",
        "outputId": "558e13bd-c155-40cb-a88c-62650aeb7c4f"
      },
      "source": [
        "connect_db = sqlite3.connect('data/checking-logs.sqlite.sqlite')\n",
        "query = '''\n",
        "        select uid, count(1) as count_chek from checker where uid in (select uid from pageviews where uid like 'user_%') and labname <> 'project1' group by uid\n",
        "        '''\n",
        "df_checker = pd.io.sql.read_sql(query, connect_db)\n",
        "df_checker"
      ],
      "execution_count": 687,
      "outputs": [
        {
          "output_type": "execute_result",
          "data": {
            "text/html": [
              "<div>\n",
              "<style scoped>\n",
              "    .dataframe tbody tr th:only-of-type {\n",
              "        vertical-align: middle;\n",
              "    }\n",
              "\n",
              "    .dataframe tbody tr th {\n",
              "        vertical-align: top;\n",
              "    }\n",
              "\n",
              "    .dataframe thead th {\n",
              "        text-align: right;\n",
              "    }\n",
              "</style>\n",
              "<table border=\"1\" class=\"dataframe\">\n",
              "  <thead>\n",
              "    <tr style=\"text-align: right;\">\n",
              "      <th></th>\n",
              "      <th>uid</th>\n",
              "      <th>count_chek</th>\n",
              "    </tr>\n",
              "  </thead>\n",
              "  <tbody>\n",
              "    <tr>\n",
              "      <th>0</th>\n",
              "      <td>user_1</td>\n",
              "      <td>62</td>\n",
              "    </tr>\n",
              "    <tr>\n",
              "      <th>1</th>\n",
              "      <td>user_10</td>\n",
              "      <td>20</td>\n",
              "    </tr>\n",
              "    <tr>\n",
              "      <th>2</th>\n",
              "      <td>user_14</td>\n",
              "      <td>61</td>\n",
              "    </tr>\n",
              "    <tr>\n",
              "      <th>3</th>\n",
              "      <td>user_17</td>\n",
              "      <td>51</td>\n",
              "    </tr>\n",
              "    <tr>\n",
              "      <th>4</th>\n",
              "      <td>user_18</td>\n",
              "      <td>5</td>\n",
              "    </tr>\n",
              "    <tr>\n",
              "      <th>5</th>\n",
              "      <td>user_19</td>\n",
              "      <td>118</td>\n",
              "    </tr>\n",
              "    <tr>\n",
              "      <th>6</th>\n",
              "      <td>user_21</td>\n",
              "      <td>65</td>\n",
              "    </tr>\n",
              "    <tr>\n",
              "      <th>7</th>\n",
              "      <td>user_25</td>\n",
              "      <td>79</td>\n",
              "    </tr>\n",
              "    <tr>\n",
              "      <th>8</th>\n",
              "      <td>user_28</td>\n",
              "      <td>60</td>\n",
              "    </tr>\n",
              "    <tr>\n",
              "      <th>9</th>\n",
              "      <td>user_3</td>\n",
              "      <td>18</td>\n",
              "    </tr>\n",
              "    <tr>\n",
              "      <th>10</th>\n",
              "      <td>user_30</td>\n",
              "      <td>34</td>\n",
              "    </tr>\n",
              "  </tbody>\n",
              "</table>\n",
              "</div>"
            ],
            "text/plain": [
              "        uid  count_chek\n",
              "0    user_1          62\n",
              "1   user_10          20\n",
              "2   user_14          61\n",
              "3   user_17          51\n",
              "4   user_18           5\n",
              "5   user_19         118\n",
              "6   user_21          65\n",
              "7   user_25          79\n",
              "8   user_28          60\n",
              "9    user_3          18\n",
              "10  user_30          34"
            ]
          },
          "metadata": {},
          "execution_count": 687
        }
      ]
    },
    {
      "cell_type": "code",
      "metadata": {
        "id": "Gcfn663NbZnZ"
      },
      "source": [
        "query = '''\n",
        "select checker.uid, checker.labname,  checker.timestamp as first_commit_ts, pageviews.datetime as first_view_ts\n",
        "from checker \n",
        "left join pageviews ON checker.uid = pageviews.uid\n",
        "where status='ready' and numTrials=1 and labname IN ('laba04', 'laba04s', 'laba05','laba06', 'laba06s')\n",
        "and checker.uid like 'user_%' and (pageviews.datetime = (select MIN(pageviews.datetime) from pageviews where pageviews.uid=checker.uid) or pageviews.datetime IS NULL)\n",
        "'''\n",
        "ds = pd.io.sql.read_sql(query, connect_db,parse_dates=['first_commit_ts', 'first_view_ts'])\n",
        "ds = ds[ds.first_view_ts.notnull()]\n",
        "ds['diff'] = (ds.first_view_ts - ds.first_commit_ts).dt.total_seconds().div(3600)\n",
        "rest_df = ds.groupby(ds.uid).mean()['diff'].reset_index()\n",
        "rest_df = rest_df.sort_values('uid')"
      ],
      "execution_count": 688,
      "outputs": []
    },
    {
      "cell_type": "code",
      "metadata": {
        "colab": {
          "base_uri": "https://localhost:8080/",
          "height": 390
        },
        "id": "Ei_QQ-gA0Ata",
        "outputId": "0fd840c7-b400-429d-bebc-b1e19aa7a66a"
      },
      "source": [
        "rest_df = pd.concat([rest_df,df_pageviews,df_checker], axis=1)\n",
        "rest_df.columns = ['uid', 'diff', 'uid1', 'count_page','uid2', 'count_chek']\n",
        "rest_df.drop(rest_df.columns[[2, 4]], axis=1, inplace=True)\n",
        "# rest_df.drop(n)\n",
        "rest_df.dropna(subset=['uid'], inplace=True)\n",
        "rest_df"
      ],
      "execution_count": 689,
      "outputs": [
        {
          "output_type": "execute_result",
          "data": {
            "text/html": [
              "<div>\n",
              "<style scoped>\n",
              "    .dataframe tbody tr th:only-of-type {\n",
              "        vertical-align: middle;\n",
              "    }\n",
              "\n",
              "    .dataframe tbody tr th {\n",
              "        vertical-align: top;\n",
              "    }\n",
              "\n",
              "    .dataframe thead th {\n",
              "        text-align: right;\n",
              "    }\n",
              "</style>\n",
              "<table border=\"1\" class=\"dataframe\">\n",
              "  <thead>\n",
              "    <tr style=\"text-align: right;\">\n",
              "      <th></th>\n",
              "      <th>uid</th>\n",
              "      <th>diff</th>\n",
              "      <th>count_page</th>\n",
              "      <th>count_chek</th>\n",
              "    </tr>\n",
              "  </thead>\n",
              "  <tbody>\n",
              "    <tr>\n",
              "      <th>0</th>\n",
              "      <td>user_1</td>\n",
              "      <td>-239.380182</td>\n",
              "      <td>28</td>\n",
              "      <td>62.0</td>\n",
              "    </tr>\n",
              "    <tr>\n",
              "      <th>1</th>\n",
              "      <td>user_10</td>\n",
              "      <td>-430.826806</td>\n",
              "      <td>89</td>\n",
              "      <td>20.0</td>\n",
              "    </tr>\n",
              "    <tr>\n",
              "      <th>2</th>\n",
              "      <td>user_14</td>\n",
              "      <td>-101.533075</td>\n",
              "      <td>143</td>\n",
              "      <td>61.0</td>\n",
              "    </tr>\n",
              "    <tr>\n",
              "      <th>3</th>\n",
              "      <td>user_17</td>\n",
              "      <td>-445.243366</td>\n",
              "      <td>47</td>\n",
              "      <td>51.0</td>\n",
              "    </tr>\n",
              "    <tr>\n",
              "      <th>4</th>\n",
              "      <td>user_18</td>\n",
              "      <td>-50.807026</td>\n",
              "      <td>3</td>\n",
              "      <td>5.0</td>\n",
              "    </tr>\n",
              "    <tr>\n",
              "      <th>5</th>\n",
              "      <td>user_19</td>\n",
              "      <td>-402.048859</td>\n",
              "      <td>16</td>\n",
              "      <td>118.0</td>\n",
              "    </tr>\n",
              "    <tr>\n",
              "      <th>6</th>\n",
              "      <td>user_21</td>\n",
              "      <td>-211.211785</td>\n",
              "      <td>10</td>\n",
              "      <td>65.0</td>\n",
              "    </tr>\n",
              "    <tr>\n",
              "      <th>7</th>\n",
              "      <td>user_25</td>\n",
              "      <td>102.990101</td>\n",
              "      <td>179</td>\n",
              "      <td>79.0</td>\n",
              "    </tr>\n",
              "    <tr>\n",
              "      <th>8</th>\n",
              "      <td>user_28</td>\n",
              "      <td>117.524583</td>\n",
              "      <td>149</td>\n",
              "      <td>60.0</td>\n",
              "    </tr>\n",
              "    <tr>\n",
              "      <th>9</th>\n",
              "      <td>user_3</td>\n",
              "      <td>78.234742</td>\n",
              "      <td>317</td>\n",
              "      <td>18.0</td>\n",
              "    </tr>\n",
              "    <tr>\n",
              "      <th>10</th>\n",
              "      <td>user_30</td>\n",
              "      <td>-281.697069</td>\n",
              "      <td>3</td>\n",
              "      <td>34.0</td>\n",
              "    </tr>\n",
              "  </tbody>\n",
              "</table>\n",
              "</div>"
            ],
            "text/plain": [
              "        uid        diff  count_page  count_chek\n",
              "0    user_1 -239.380182          28        62.0\n",
              "1   user_10 -430.826806          89        20.0\n",
              "2   user_14 -101.533075         143        61.0\n",
              "3   user_17 -445.243366          47        51.0\n",
              "4   user_18  -50.807026           3         5.0\n",
              "5   user_19 -402.048859          16       118.0\n",
              "6   user_21 -211.211785          10        65.0\n",
              "7   user_25  102.990101         179        79.0\n",
              "8   user_28  117.524583         149        60.0\n",
              "9    user_3   78.234742         317        18.0\n",
              "10  user_30 -281.697069           3        34.0"
            ]
          },
          "metadata": {},
          "execution_count": 689
        }
      ]
    },
    {
      "cell_type": "code",
      "metadata": {
        "colab": {
          "base_uri": "https://localhost:8080/",
          "height": 509
        },
        "id": "hsU1krD-HemC",
        "outputId": "a7713a1b-cfa8-49a2-c034-78fd4034bb66"
      },
      "source": [
        "ax = scatter_matrix(rest_df, figsize=(15, 8), diagonal='kde', density_kwds=dict(color='blue', linewidth=3), s=200, color='red')"
      ],
      "execution_count": 690,
      "outputs": [
        {
          "output_type": "display_data",
          "data": {
            "image/png": "[encoded data removed]",
            "text/plain": [
              "<Figure size 1080x576 with 9 Axes>"
            ]
          },
          "metadata": {
            "needs_background": "light"
          }
        }
      ]
    },
    {
      "cell_type": "markdown",
      "metadata": {
        "id": "UA7ozKPTUmcM"
      },
      "source": [
        "Can we say that if a user has a low number of pageviews then they likely\n",
        "have a low number of commits?"
      ]
    },
    {
      "cell_type": "markdown",
      "metadata": {
        "id": "rXqOYKXCjrjL"
      },
      "source": [
        "NO"
      ]
    },
    {
      "cell_type": "markdown",
      "metadata": {
        "id": "0ov5LLoEUd9y"
      },
      "source": [
        "Can we say that if a user has a low number of pageviews then they likely have\n",
        "a small average difference between the first commit and the lab deadline?"
      ]
    },
    {
      "cell_type": "markdown",
      "metadata": {
        "id": "vjgRx7yF8gCF"
      },
      "source": [
        "NO"
      ]
    },
    {
      "cell_type": "markdown",
      "metadata": {
        "id": "M8Ew0TlD9rvV"
      },
      "source": [
        "“Can we say that there are many users with a low number of commits and a\n",
        "few – with a high number of commits?"
      ]
    },
    {
      "cell_type": "markdown",
      "metadata": {
        "id": "KUFJ6tdRkcaq"
      },
      "source": [
        "YES"
      ]
    },
    {
      "cell_type": "markdown",
      "metadata": {
        "id": "VtGc6EZ1kZOS"
      },
      "source": [
        "“Can we say that there are many users with a small average difference and a\n",
        "few – with a large average difference?"
      ]
    },
    {
      "cell_type": "markdown",
      "metadata": {
        "id": "xf3R4pYvka55"
      },
      "source": [
        "NO"
      ]
    }
  ]
}