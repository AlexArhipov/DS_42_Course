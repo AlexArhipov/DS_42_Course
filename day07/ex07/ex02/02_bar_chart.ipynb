{
  "nbformat": 4,
  "nbformat_minor": 0,
  "metadata": {
    "colab": {
      "name": "ex02_joins.ipynb",
      "provenance": []
    },
    "kernelspec": {
      "name": "python3",
      "display_name": "Python 3"
    },
    "language_info": {
      "name": "python"
    }
  },
  "cells": [
    {
      "cell_type": "code",
      "metadata": {
        "id": "vnwOjIVdJZPz"
      },
      "source": [
        "import pandas as pd\n",
        "import sqlite3"
      ],
      "execution_count": 347,
      "outputs": []
    },
    {
      "cell_type": "code",
      "metadata": {
        "colab": {
          "base_uri": "https://localhost:8080/",
          "height": 266
        },
        "id": "6qmvsR_sKjt4",
        "outputId": "33dc70fe-4586-4d2c-87f3-257de5c78c27"
      },
      "source": [
        "connect_db = sqlite3.connect('../data/checking-logs.sqlite.sqlite')\n",
        "query = 'PRAGMA table_info(checker);'\n",
        "pd.io.sql.read_sql(query, connect_db)"
      ],
      "execution_count": 348,
      "outputs": [
        {
          "output_type": "execute_result",
          "data": {
            "text/html": [
              "<div>\n",
              "<style scoped>\n",
              "    .dataframe tbody tr th:only-of-type {\n",
              "        vertical-align: middle;\n",
              "    }\n",
              "\n",
              "    .dataframe tbody tr th {\n",
              "        vertical-align: top;\n",
              "    }\n",
              "\n",
              "    .dataframe thead th {\n",
              "        text-align: right;\n",
              "    }\n",
              "</style>\n",
              "<table border=\"1\" class=\"dataframe\">\n",
              "  <thead>\n",
              "    <tr style=\"text-align: right;\">\n",
              "      <th></th>\n",
              "      <th>cid</th>\n",
              "      <th>name</th>\n",
              "      <th>type</th>\n",
              "      <th>notnull</th>\n",
              "      <th>dflt_value</th>\n",
              "      <th>pk</th>\n",
              "    </tr>\n",
              "  </thead>\n",
              "  <tbody>\n",
              "    <tr>\n",
              "      <th>0</th>\n",
              "      <td>0</td>\n",
              "      <td>index</td>\n",
              "      <td>INTEGER</td>\n",
              "      <td>0</td>\n",
              "      <td>None</td>\n",
              "      <td>0</td>\n",
              "    </tr>\n",
              "    <tr>\n",
              "      <th>1</th>\n",
              "      <td>1</td>\n",
              "      <td>status</td>\n",
              "      <td>TEXT</td>\n",
              "      <td>0</td>\n",
              "      <td>None</td>\n",
              "      <td>0</td>\n",
              "    </tr>\n",
              "    <tr>\n",
              "      <th>2</th>\n",
              "      <td>2</td>\n",
              "      <td>success</td>\n",
              "      <td>INTEGER</td>\n",
              "      <td>0</td>\n",
              "      <td>None</td>\n",
              "      <td>0</td>\n",
              "    </tr>\n",
              "    <tr>\n",
              "      <th>3</th>\n",
              "      <td>3</td>\n",
              "      <td>timestamp</td>\n",
              "      <td>TIMESTAMP</td>\n",
              "      <td>0</td>\n",
              "      <td>None</td>\n",
              "      <td>0</td>\n",
              "    </tr>\n",
              "    <tr>\n",
              "      <th>4</th>\n",
              "      <td>4</td>\n",
              "      <td>numTrials</td>\n",
              "      <td>INTEGER</td>\n",
              "      <td>0</td>\n",
              "      <td>None</td>\n",
              "      <td>0</td>\n",
              "    </tr>\n",
              "    <tr>\n",
              "      <th>5</th>\n",
              "      <td>5</td>\n",
              "      <td>labname</td>\n",
              "      <td>TEXT</td>\n",
              "      <td>0</td>\n",
              "      <td>None</td>\n",
              "      <td>0</td>\n",
              "    </tr>\n",
              "    <tr>\n",
              "      <th>6</th>\n",
              "      <td>6</td>\n",
              "      <td>uid</td>\n",
              "      <td>TEXT</td>\n",
              "      <td>0</td>\n",
              "      <td>None</td>\n",
              "      <td>0</td>\n",
              "    </tr>\n",
              "  </tbody>\n",
              "</table>\n",
              "</div>"
            ],
            "text/plain": [
              "   cid       name       type  notnull dflt_value  pk\n",
              "0    0      index    INTEGER        0       None   0\n",
              "1    1     status       TEXT        0       None   0\n",
              "2    2    success    INTEGER        0       None   0\n",
              "3    3  timestamp  TIMESTAMP        0       None   0\n",
              "4    4  numTrials    INTEGER        0       None   0\n",
              "5    5    labname       TEXT        0       None   0\n",
              "6    6        uid       TEXT        0       None   0"
            ]
          },
          "metadata": {},
          "execution_count": 348
        }
      ]
    },
    {
      "cell_type": "code",
      "metadata": {
        "colab": {
          "base_uri": "https://localhost:8080/",
          "height": 204
        },
        "id": "cjy9TBUGSu1F",
        "outputId": "f933195b-274d-41f6-8db9-dbf0c498ca33"
      },
      "source": [
        "query = '''\n",
        "        select uid, timestamp from checker where uid like 'user_%'\n",
        "        '''\n",
        "df = pd.io.sql.read_sql(query, connect_db, parse_dates=['timestamp'])\n",
        "df.head()"
      ],
      "execution_count": 349,
      "outputs": [
        {
          "output_type": "execute_result",
          "data": {
            "text/html": [
              "<div>\n",
              "<style scoped>\n",
              "    .dataframe tbody tr th:only-of-type {\n",
              "        vertical-align: middle;\n",
              "    }\n",
              "\n",
              "    .dataframe tbody tr th {\n",
              "        vertical-align: top;\n",
              "    }\n",
              "\n",
              "    .dataframe thead th {\n",
              "        text-align: right;\n",
              "    }\n",
              "</style>\n",
              "<table border=\"1\" class=\"dataframe\">\n",
              "  <thead>\n",
              "    <tr style=\"text-align: right;\">\n",
              "      <th></th>\n",
              "      <th>uid</th>\n",
              "      <th>timestamp</th>\n",
              "    </tr>\n",
              "  </thead>\n",
              "  <tbody>\n",
              "    <tr>\n",
              "      <th>0</th>\n",
              "      <td>user_4</td>\n",
              "      <td>2020-04-17 05:19:02.744528</td>\n",
              "    </tr>\n",
              "    <tr>\n",
              "      <th>1</th>\n",
              "      <td>user_4</td>\n",
              "      <td>2020-04-17 05:22:35.249331</td>\n",
              "    </tr>\n",
              "    <tr>\n",
              "      <th>2</th>\n",
              "      <td>user_4</td>\n",
              "      <td>2020-04-17 05:22:45.549397</td>\n",
              "    </tr>\n",
              "    <tr>\n",
              "      <th>3</th>\n",
              "      <td>user_4</td>\n",
              "      <td>2020-04-17 05:34:14.691200</td>\n",
              "    </tr>\n",
              "    <tr>\n",
              "      <th>4</th>\n",
              "      <td>user_4</td>\n",
              "      <td>2020-04-17 05:34:24.422370</td>\n",
              "    </tr>\n",
              "  </tbody>\n",
              "</table>\n",
              "</div>"
            ],
            "text/plain": [
              "      uid                  timestamp\n",
              "0  user_4 2020-04-17 05:19:02.744528\n",
              "1  user_4 2020-04-17 05:22:35.249331\n",
              "2  user_4 2020-04-17 05:22:45.549397\n",
              "3  user_4 2020-04-17 05:34:14.691200\n",
              "4  user_4 2020-04-17 05:34:24.422370"
            ]
          },
          "metadata": {},
          "execution_count": 349
        }
      ]
    },
    {
      "cell_type": "code",
      "metadata": {
        "id": "-gZksWOuwPkM"
      },
      "source": [
        "df['date'] = df.timestamp.dt.date\n",
        "df['hour'] = df.timestamp.dt.hour\n",
        "interval = ['nigth', 'morning', 'afternoon', 'evening']\n",
        "df['daytime'] = pd.cut(df['hour'], [0, 4, 10, 17, 24], labels=interval, include_lowest=True, right=False)\n"
      ],
      "execution_count": 350,
      "outputs": []
    },
    {
      "cell_type": "code",
      "metadata": {
        "colab": {
          "base_uri": "https://localhost:8080/",
          "height": 419
        },
        "id": "hsU1krD-HemC",
        "outputId": "fff061e8-0b2e-43a4-88d0-a466ccf2bbe0"
      },
      "source": [
        "for_plot = df.groupby(by=['date', 'daytime']).count()['hour'].reset_index()\n",
        "for_plot.hour.fillna(0, inplace=True)\n",
        "for_plot"
      ],
      "execution_count": 351,
      "outputs": [
        {
          "output_type": "execute_result",
          "data": {
            "text/html": [
              "<div>\n",
              "<style scoped>\n",
              "    .dataframe tbody tr th:only-of-type {\n",
              "        vertical-align: middle;\n",
              "    }\n",
              "\n",
              "    .dataframe tbody tr th {\n",
              "        vertical-align: top;\n",
              "    }\n",
              "\n",
              "    .dataframe thead th {\n",
              "        text-align: right;\n",
              "    }\n",
              "</style>\n",
              "<table border=\"1\" class=\"dataframe\">\n",
              "  <thead>\n",
              "    <tr style=\"text-align: right;\">\n",
              "      <th></th>\n",
              "      <th>date</th>\n",
              "      <th>daytime</th>\n",
              "      <th>hour</th>\n",
              "    </tr>\n",
              "  </thead>\n",
              "  <tbody>\n",
              "    <tr>\n",
              "      <th>0</th>\n",
              "      <td>2020-04-17</td>\n",
              "      <td>nigth</td>\n",
              "      <td>0.0</td>\n",
              "    </tr>\n",
              "    <tr>\n",
              "      <th>1</th>\n",
              "      <td>2020-04-17</td>\n",
              "      <td>morning</td>\n",
              "      <td>13.0</td>\n",
              "    </tr>\n",
              "    <tr>\n",
              "      <th>2</th>\n",
              "      <td>2020-04-17</td>\n",
              "      <td>afternoon</td>\n",
              "      <td>10.0</td>\n",
              "    </tr>\n",
              "    <tr>\n",
              "      <th>3</th>\n",
              "      <td>2020-04-17</td>\n",
              "      <td>evening</td>\n",
              "      <td>0.0</td>\n",
              "    </tr>\n",
              "    <tr>\n",
              "      <th>4</th>\n",
              "      <td>2020-04-18</td>\n",
              "      <td>nigth</td>\n",
              "      <td>0.0</td>\n",
              "    </tr>\n",
              "    <tr>\n",
              "      <th>...</th>\n",
              "      <td>...</td>\n",
              "      <td>...</td>\n",
              "      <td>...</td>\n",
              "    </tr>\n",
              "    <tr>\n",
              "      <th>135</th>\n",
              "      <td>2020-05-20</td>\n",
              "      <td>evening</td>\n",
              "      <td>10.0</td>\n",
              "    </tr>\n",
              "    <tr>\n",
              "      <th>136</th>\n",
              "      <td>2020-05-21</td>\n",
              "      <td>nigth</td>\n",
              "      <td>0.0</td>\n",
              "    </tr>\n",
              "    <tr>\n",
              "      <th>137</th>\n",
              "      <td>2020-05-21</td>\n",
              "      <td>morning</td>\n",
              "      <td>1.0</td>\n",
              "    </tr>\n",
              "    <tr>\n",
              "      <th>138</th>\n",
              "      <td>2020-05-21</td>\n",
              "      <td>afternoon</td>\n",
              "      <td>27.0</td>\n",
              "    </tr>\n",
              "    <tr>\n",
              "      <th>139</th>\n",
              "      <td>2020-05-21</td>\n",
              "      <td>evening</td>\n",
              "      <td>21.0</td>\n",
              "    </tr>\n",
              "  </tbody>\n",
              "</table>\n",
              "<p>140 rows × 3 columns</p>\n",
              "</div>"
            ],
            "text/plain": [
              "           date    daytime  hour\n",
              "0    2020-04-17      nigth   0.0\n",
              "1    2020-04-17    morning  13.0\n",
              "2    2020-04-17  afternoon  10.0\n",
              "3    2020-04-17    evening   0.0\n",
              "4    2020-04-18      nigth   0.0\n",
              "..          ...        ...   ...\n",
              "135  2020-05-20    evening  10.0\n",
              "136  2020-05-21      nigth   0.0\n",
              "137  2020-05-21    morning   1.0\n",
              "138  2020-05-21  afternoon  27.0\n",
              "139  2020-05-21    evening  21.0\n",
              "\n",
              "[140 rows x 3 columns]"
            ]
          },
          "metadata": {},
          "execution_count": 351
        }
      ]
    },
    {
      "cell_type": "code",
      "metadata": {
        "colab": {
          "base_uri": "https://localhost:8080/",
          "height": 235
        },
        "id": "19u-fRhHNF-6",
        "outputId": "fe4895cf-c669-47f9-f0be-af5818be762e"
      },
      "source": [
        "for_plot_pivot = pd.pivot(for_plot, values='hour', index='date', columns='daytime')\n",
        "for_plot_pivot.head()"
      ],
      "execution_count": 352,
      "outputs": [
        {
          "output_type": "execute_result",
          "data": {
            "text/html": [
              "<div>\n",
              "<style scoped>\n",
              "    .dataframe tbody tr th:only-of-type {\n",
              "        vertical-align: middle;\n",
              "    }\n",
              "\n",
              "    .dataframe tbody tr th {\n",
              "        vertical-align: top;\n",
              "    }\n",
              "\n",
              "    .dataframe thead th {\n",
              "        text-align: right;\n",
              "    }\n",
              "</style>\n",
              "<table border=\"1\" class=\"dataframe\">\n",
              "  <thead>\n",
              "    <tr style=\"text-align: right;\">\n",
              "      <th>daytime</th>\n",
              "      <th>nigth</th>\n",
              "      <th>morning</th>\n",
              "      <th>afternoon</th>\n",
              "      <th>evening</th>\n",
              "    </tr>\n",
              "    <tr>\n",
              "      <th>date</th>\n",
              "      <th></th>\n",
              "      <th></th>\n",
              "      <th></th>\n",
              "      <th></th>\n",
              "    </tr>\n",
              "  </thead>\n",
              "  <tbody>\n",
              "    <tr>\n",
              "      <th>2020-04-17</th>\n",
              "      <td>0.0</td>\n",
              "      <td>13.0</td>\n",
              "      <td>10.0</td>\n",
              "      <td>0.0</td>\n",
              "    </tr>\n",
              "    <tr>\n",
              "      <th>2020-04-18</th>\n",
              "      <td>0.0</td>\n",
              "      <td>1.0</td>\n",
              "      <td>33.0</td>\n",
              "      <td>35.0</td>\n",
              "    </tr>\n",
              "    <tr>\n",
              "      <th>2020-04-19</th>\n",
              "      <td>2.0</td>\n",
              "      <td>4.0</td>\n",
              "      <td>16.0</td>\n",
              "      <td>11.0</td>\n",
              "    </tr>\n",
              "    <tr>\n",
              "      <th>2020-04-20</th>\n",
              "      <td>0.0</td>\n",
              "      <td>0.0</td>\n",
              "      <td>12.0</td>\n",
              "      <td>13.0</td>\n",
              "    </tr>\n",
              "    <tr>\n",
              "      <th>2020-04-21</th>\n",
              "      <td>0.0</td>\n",
              "      <td>0.0</td>\n",
              "      <td>0.0</td>\n",
              "      <td>25.0</td>\n",
              "    </tr>\n",
              "  </tbody>\n",
              "</table>\n",
              "</div>"
            ],
            "text/plain": [
              "daytime     nigth  morning  afternoon  evening\n",
              "date                                          \n",
              "2020-04-17    0.0     13.0       10.0      0.0\n",
              "2020-04-18    0.0      1.0       33.0     35.0\n",
              "2020-04-19    2.0      4.0       16.0     11.0\n",
              "2020-04-20    0.0      0.0       12.0     13.0\n",
              "2020-04-21    0.0      0.0        0.0     25.0"
            ]
          },
          "metadata": {},
          "execution_count": 352
        }
      ]
    },
    {
      "cell_type": "code",
      "metadata": {
        "colab": {
          "base_uri": "https://localhost:8080/",
          "height": 549
        },
        "id": "TWvVgGVVNd_a",
        "outputId": "3b438d7b-da34-4c18-be49-214f6fd626ae"
      },
      "source": [
        "plot = for_plot_pivot.plot(kind='bar', figsize= (15,8), title = 'Commits per day', fontsize=8, xlabel = 'date', rot = 90, color = ['#00008B', 'red', '#FFC0CB', '#B0E0E6'], stacked=True)\n",
        "plot.grid('on', which='major', axis='y')"
      ],
      "execution_count": 353,
      "outputs": [
        {
          "output_type": "display_data",
          "data": {
            "image/png": "[encoded data removed]",
            "text/plain": [
              "<Figure size 1080x576 with 1 Axes>"
            ]
          },
          "metadata": {
            "needs_background": "light"
          }
        }
      ]
    },
    {
      "cell_type": "markdown",
      "metadata": {
        "id": "UA7ozKPTUmcM"
      },
      "source": [
        "When do our users usually commit the labs: in the night, morning, afternoon, or evening?"
      ]
    },
    {
      "cell_type": "code",
      "metadata": {
        "colab": {
          "base_uri": "https://localhost:8080/"
        },
        "id": "pYtoctoQ8fh1",
        "outputId": "5e9e9d64-1dc4-4c37-a260-9f29abc74dae"
      },
      "source": [
        "s = {'evening':for_plot_pivot.evening.sum(), 'morning':for_plot_pivot.morning.sum(), 'afternoon':for_plot_pivot.afternoon.sum(), 'nigth':for_plot_pivot.nigth.sum()}\n",
        "dict(sorted(s.items(), key=lambda item: item[1]))"
      ],
      "execution_count": 354,
      "outputs": [
        {
          "output_type": "execute_result",
          "data": {
            "text/plain": [
              "{'afternoon': 1391.0, 'evening': 1611.0, 'morning': 184.0, 'nigth': 21.0}"
            ]
          },
          "metadata": {},
          "execution_count": 354
        }
      ]
    },
    {
      "cell_type": "markdown",
      "metadata": {
        "id": "0ov5LLoEUd9y"
      },
      "source": [
        "\n",
        "evening and afternoon"
      ]
    },
    {
      "cell_type": "markdown",
      "metadata": {
        "id": "vjgRx7yF8gCF"
      },
      "source": [
        "\n",
        "Which day has the most number of commits and at the same time the number of commits in the evening is higher than in the afternoon?"
      ]
    },
    {
      "cell_type": "code",
      "metadata": {
        "colab": {
          "base_uri": "https://localhost:8080/"
        },
        "id": "jqxIFguj6Rrk",
        "outputId": "e68231cf-bd0a-4a81-c371-a0a79189ab61"
      },
      "source": [
        "for_plot_pivot[for_plot_pivot.evening > for_plot_pivot.afternoon].sum(axis=1).sort_values()"
      ],
      "execution_count": 355,
      "outputs": [
        {
          "output_type": "execute_result",
          "data": {
            "text/plain": [
              "date\n",
              "2020-05-18      3.0\n",
              "2020-05-16      4.0\n",
              "2020-04-27      6.0\n",
              "2020-04-24     16.0\n",
              "2020-04-29     17.0\n",
              "2020-04-21     25.0\n",
              "2020-04-20     25.0\n",
              "2020-04-22     28.0\n",
              "2020-04-23     43.0\n",
              "2020-05-17     48.0\n",
              "2020-04-30     53.0\n",
              "2020-05-01     60.0\n",
              "2020-04-18     69.0\n",
              "2020-05-09     86.0\n",
              "2020-05-08     87.0\n",
              "2020-04-25    104.0\n",
              "2020-05-11    186.0\n",
              "2020-05-13    211.0\n",
              "2020-04-26    261.0\n",
              "2020-05-12    323.0\n",
              "dtype: float64"
            ]
          },
          "metadata": {},
          "execution_count": 355
        }
      ]
    },
    {
      "cell_type": "markdown",
      "metadata": {
        "id": "M8Ew0TlD9rvV"
      },
      "source": [
        "\n",
        "2020-05-12"
      ]
    },
    {
      "cell_type": "code",
      "metadata": {
        "id": "uzzroBJOm4AF"
      },
      "source": [
        "connect_db.close()"
      ],
      "execution_count": 356,
      "outputs": []
    }
  ]
}