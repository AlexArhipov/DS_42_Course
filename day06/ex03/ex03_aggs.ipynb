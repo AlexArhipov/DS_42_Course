{
  "nbformat": 4,
  "nbformat_minor": 0,
  "metadata": {
    "colab": {
      "name": "day00.ipynb",
      "provenance": []
    },
    "kernelspec": {
      "name": "python3",
      "display_name": "Python 3"
    },
    "language_info": {
      "name": "python"
    }
  },
  "cells": [
    {
      "cell_type": "code",
      "metadata": {
        "id": "vnwOjIVdJZPz"
      },
      "source": [
        "import pandas as pd\n",
        "import sqlite3"
      ],
      "execution_count": 133,
      "outputs": []
    },
    {
      "cell_type": "code",
      "metadata": {
        "colab": {
          "base_uri": "https://localhost:8080/",
          "height": 204
        },
        "id": "6qmvsR_sKjt4",
        "outputId": "bd45b62a-3a0e-4542-da1e-747c87938b2f"
      },
      "source": [
        "connect_db = sqlite3.connect('checking-logs.sqlite')\n",
        "query = 'PRAGMA table_info(test);'\n",
        "pd.io.sql.read_sql(query, connect_db)"
      ],
      "execution_count": 134,
      "outputs": [
        {
          "output_type": "execute_result",
          "data": {
            "text/html": [
              "<div>\n",
              "<style scoped>\n",
              "    .dataframe tbody tr th:only-of-type {\n",
              "        vertical-align: middle;\n",
              "    }\n",
              "\n",
              "    .dataframe tbody tr th {\n",
              "        vertical-align: top;\n",
              "    }\n",
              "\n",
              "    .dataframe thead th {\n",
              "        text-align: right;\n",
              "    }\n",
              "</style>\n",
              "<table border=\"1\" class=\"dataframe\">\n",
              "  <thead>\n",
              "    <tr style=\"text-align: right;\">\n",
              "      <th></th>\n",
              "      <th>cid</th>\n",
              "      <th>name</th>\n",
              "      <th>type</th>\n",
              "      <th>notnull</th>\n",
              "      <th>dflt_value</th>\n",
              "      <th>pk</th>\n",
              "    </tr>\n",
              "  </thead>\n",
              "  <tbody>\n",
              "    <tr>\n",
              "      <th>0</th>\n",
              "      <td>0</td>\n",
              "      <td>index</td>\n",
              "      <td>INTEGER</td>\n",
              "      <td>0</td>\n",
              "      <td>None</td>\n",
              "      <td>0</td>\n",
              "    </tr>\n",
              "    <tr>\n",
              "      <th>1</th>\n",
              "      <td>1</td>\n",
              "      <td>uid</td>\n",
              "      <td>TEXT</td>\n",
              "      <td>0</td>\n",
              "      <td>None</td>\n",
              "      <td>0</td>\n",
              "    </tr>\n",
              "    <tr>\n",
              "      <th>2</th>\n",
              "      <td>2</td>\n",
              "      <td>labname</td>\n",
              "      <td>TEXT</td>\n",
              "      <td>0</td>\n",
              "      <td>None</td>\n",
              "      <td>0</td>\n",
              "    </tr>\n",
              "    <tr>\n",
              "      <th>3</th>\n",
              "      <td>3</td>\n",
              "      <td>first_commit_ts</td>\n",
              "      <td>TIMESTAMP</td>\n",
              "      <td>0</td>\n",
              "      <td>None</td>\n",
              "      <td>0</td>\n",
              "    </tr>\n",
              "    <tr>\n",
              "      <th>4</th>\n",
              "      <td>4</td>\n",
              "      <td>first_view_ts</td>\n",
              "      <td>TIMESTAMP</td>\n",
              "      <td>0</td>\n",
              "      <td>None</td>\n",
              "      <td>0</td>\n",
              "    </tr>\n",
              "  </tbody>\n",
              "</table>\n",
              "</div>"
            ],
            "text/plain": [
              "   cid             name       type  notnull dflt_value  pk\n",
              "0    0            index    INTEGER        0       None   0\n",
              "1    1              uid       TEXT        0       None   0\n",
              "2    2          labname       TEXT        0       None   0\n",
              "3    3  first_commit_ts  TIMESTAMP        0       None   0\n",
              "4    4    first_view_ts  TIMESTAMP        0       None   0"
            ]
          },
          "metadata": {},
          "execution_count": 134
        }
      ]
    },
    {
      "cell_type": "code",
      "metadata": {
        "colab": {
          "base_uri": "https://localhost:8080/",
          "height": 204
        },
        "id": "QkLRlxDZSBZJ",
        "outputId": "9468d8b3-1664-440e-f3aa-3e86ce74e789"
      },
      "source": [
        "query = 'select * from test'\n",
        "pd.io.sql.read_sql(query, connect_db).head()"
      ],
      "execution_count": 135,
      "outputs": [
        {
          "output_type": "execute_result",
          "data": {
            "text/html": [
              "<div>\n",
              "<style scoped>\n",
              "    .dataframe tbody tr th:only-of-type {\n",
              "        vertical-align: middle;\n",
              "    }\n",
              "\n",
              "    .dataframe tbody tr th {\n",
              "        vertical-align: top;\n",
              "    }\n",
              "\n",
              "    .dataframe thead th {\n",
              "        text-align: right;\n",
              "    }\n",
              "</style>\n",
              "<table border=\"1\" class=\"dataframe\">\n",
              "  <thead>\n",
              "    <tr style=\"text-align: right;\">\n",
              "      <th></th>\n",
              "      <th>index</th>\n",
              "      <th>uid</th>\n",
              "      <th>labname</th>\n",
              "      <th>first_commit_ts</th>\n",
              "      <th>first_view_ts</th>\n",
              "    </tr>\n",
              "  </thead>\n",
              "  <tbody>\n",
              "    <tr>\n",
              "      <th>0</th>\n",
              "      <td>3</td>\n",
              "      <td>user_17</td>\n",
              "      <td>project1</td>\n",
              "      <td>2020-04-18 07:56:45.408648</td>\n",
              "      <td>2020-04-18 10:56:55.833899</td>\n",
              "    </tr>\n",
              "    <tr>\n",
              "      <th>1</th>\n",
              "      <td>4</td>\n",
              "      <td>user_30</td>\n",
              "      <td>laba04</td>\n",
              "      <td>2020-04-18 13:36:53.971502</td>\n",
              "      <td>2020-04-17 22:46:26.785035</td>\n",
              "    </tr>\n",
              "    <tr>\n",
              "      <th>2</th>\n",
              "      <td>7</td>\n",
              "      <td>user_30</td>\n",
              "      <td>laba04s</td>\n",
              "      <td>2020-04-18 14:51:37.498399</td>\n",
              "      <td>2020-04-17 22:46:26.785035</td>\n",
              "    </tr>\n",
              "    <tr>\n",
              "      <th>3</th>\n",
              "      <td>8</td>\n",
              "      <td>user_14</td>\n",
              "      <td>laba04</td>\n",
              "      <td>2020-04-18 15:14:00.312338</td>\n",
              "      <td>2020-04-18 10:53:52.623447</td>\n",
              "    </tr>\n",
              "    <tr>\n",
              "      <th>4</th>\n",
              "      <td>11</td>\n",
              "      <td>user_14</td>\n",
              "      <td>laba04s</td>\n",
              "      <td>2020-04-18 22:30:30.247628</td>\n",
              "      <td>2020-04-18 10:53:52.623447</td>\n",
              "    </tr>\n",
              "  </tbody>\n",
              "</table>\n",
              "</div>"
            ],
            "text/plain": [
              "   index      uid  ...             first_commit_ts               first_view_ts\n",
              "0      3  user_17  ...  2020-04-18 07:56:45.408648  2020-04-18 10:56:55.833899\n",
              "1      4  user_30  ...  2020-04-18 13:36:53.971502  2020-04-17 22:46:26.785035\n",
              "2      7  user_30  ...  2020-04-18 14:51:37.498399  2020-04-17 22:46:26.785035\n",
              "3      8  user_14  ...  2020-04-18 15:14:00.312338  2020-04-18 10:53:52.623447\n",
              "4     11  user_14  ...  2020-04-18 22:30:30.247628  2020-04-18 10:53:52.623447\n",
              "\n",
              "[5 rows x 5 columns]"
            ]
          },
          "metadata": {},
          "execution_count": 135
        }
      ]
    },
    {
      "cell_type": "code",
      "metadata": {
        "colab": {
          "base_uri": "https://localhost:8080/",
          "height": 142
        },
        "id": "Sk63CUoxXlp9",
        "outputId": "33d7d786-db08-4e97-b620-5679656ba044"
      },
      "source": [
        "query = 'PRAGMA table_info(deadlines);'\n",
        "pd.io.sql.read_sql(query, connect_db)"
      ],
      "execution_count": 136,
      "outputs": [
        {
          "output_type": "execute_result",
          "data": {
            "text/html": [
              "<div>\n",
              "<style scoped>\n",
              "    .dataframe tbody tr th:only-of-type {\n",
              "        vertical-align: middle;\n",
              "    }\n",
              "\n",
              "    .dataframe tbody tr th {\n",
              "        vertical-align: top;\n",
              "    }\n",
              "\n",
              "    .dataframe thead th {\n",
              "        text-align: right;\n",
              "    }\n",
              "</style>\n",
              "<table border=\"1\" class=\"dataframe\">\n",
              "  <thead>\n",
              "    <tr style=\"text-align: right;\">\n",
              "      <th></th>\n",
              "      <th>cid</th>\n",
              "      <th>name</th>\n",
              "      <th>type</th>\n",
              "      <th>notnull</th>\n",
              "      <th>dflt_value</th>\n",
              "      <th>pk</th>\n",
              "    </tr>\n",
              "  </thead>\n",
              "  <tbody>\n",
              "    <tr>\n",
              "      <th>0</th>\n",
              "      <td>0</td>\n",
              "      <td>index</td>\n",
              "      <td>INTEGER</td>\n",
              "      <td>0</td>\n",
              "      <td>None</td>\n",
              "      <td>0</td>\n",
              "    </tr>\n",
              "    <tr>\n",
              "      <th>1</th>\n",
              "      <td>1</td>\n",
              "      <td>labs</td>\n",
              "      <td>TEXT</td>\n",
              "      <td>0</td>\n",
              "      <td>None</td>\n",
              "      <td>0</td>\n",
              "    </tr>\n",
              "    <tr>\n",
              "      <th>2</th>\n",
              "      <td>2</td>\n",
              "      <td>deadlines</td>\n",
              "      <td>INTEGER</td>\n",
              "      <td>0</td>\n",
              "      <td>None</td>\n",
              "      <td>0</td>\n",
              "    </tr>\n",
              "  </tbody>\n",
              "</table>\n",
              "</div>"
            ],
            "text/plain": [
              "   cid       name     type  notnull dflt_value  pk\n",
              "0    0      index  INTEGER        0       None   0\n",
              "1    1       labs     TEXT        0       None   0\n",
              "2    2  deadlines  INTEGER        0       None   0"
            ]
          },
          "metadata": {},
          "execution_count": 136
        }
      ]
    },
    {
      "cell_type": "code",
      "metadata": {
        "colab": {
          "base_uri": "https://localhost:8080/",
          "height": 235
        },
        "id": "NHKLevl5ZHfK",
        "outputId": "27521246-3d9b-40a0-f387-8044b6e23db0"
      },
      "source": [
        "query = 'select * from deadlines'\n",
        "pd.io.sql.read_sql(query, connect_db, parse_dates=['deadlines'])"
      ],
      "execution_count": 137,
      "outputs": [
        {
          "output_type": "execute_result",
          "data": {
            "text/html": [
              "<div>\n",
              "<style scoped>\n",
              "    .dataframe tbody tr th:only-of-type {\n",
              "        vertical-align: middle;\n",
              "    }\n",
              "\n",
              "    .dataframe tbody tr th {\n",
              "        vertical-align: top;\n",
              "    }\n",
              "\n",
              "    .dataframe thead th {\n",
              "        text-align: right;\n",
              "    }\n",
              "</style>\n",
              "<table border=\"1\" class=\"dataframe\">\n",
              "  <thead>\n",
              "    <tr style=\"text-align: right;\">\n",
              "      <th></th>\n",
              "      <th>index</th>\n",
              "      <th>labs</th>\n",
              "      <th>deadlines</th>\n",
              "    </tr>\n",
              "  </thead>\n",
              "  <tbody>\n",
              "    <tr>\n",
              "      <th>0</th>\n",
              "      <td>0</td>\n",
              "      <td>laba04</td>\n",
              "      <td>2020-04-26 23:59:59</td>\n",
              "    </tr>\n",
              "    <tr>\n",
              "      <th>1</th>\n",
              "      <td>1</td>\n",
              "      <td>laba04s</td>\n",
              "      <td>2020-04-26 23:59:59</td>\n",
              "    </tr>\n",
              "    <tr>\n",
              "      <th>2</th>\n",
              "      <td>2</td>\n",
              "      <td>laba05</td>\n",
              "      <td>2020-05-03 23:59:59</td>\n",
              "    </tr>\n",
              "    <tr>\n",
              "      <th>3</th>\n",
              "      <td>4</td>\n",
              "      <td>laba06</td>\n",
              "      <td>2020-05-24 23:59:59</td>\n",
              "    </tr>\n",
              "    <tr>\n",
              "      <th>4</th>\n",
              "      <td>5</td>\n",
              "      <td>laba06s</td>\n",
              "      <td>2020-05-24 23:59:59</td>\n",
              "    </tr>\n",
              "    <tr>\n",
              "      <th>5</th>\n",
              "      <td>3</td>\n",
              "      <td>project1</td>\n",
              "      <td>2020-05-16 23:59:59</td>\n",
              "    </tr>\n",
              "  </tbody>\n",
              "</table>\n",
              "</div>"
            ],
            "text/plain": [
              "   index      labs           deadlines\n",
              "0      0    laba04 2020-04-26 23:59:59\n",
              "1      1   laba04s 2020-04-26 23:59:59\n",
              "2      2    laba05 2020-05-03 23:59:59\n",
              "3      4    laba06 2020-05-24 23:59:59\n",
              "4      5   laba06s 2020-05-24 23:59:59\n",
              "5      3  project1 2020-05-16 23:59:59"
            ]
          },
          "metadata": {},
          "execution_count": 137
        }
      ]
    },
    {
      "cell_type": "code",
      "metadata": {
        "colab": {
          "base_uri": "https://localhost:8080/",
          "height": 80
        },
        "id": "cjy9TBUGSu1F",
        "outputId": "056db6ce-1057-436c-a13f-002d3c281a68"
      },
      "source": [
        "query = '''select uid, min(cast((julianday(test.first_commit_ts) - julianday(datetime(deadlines.deadlines, 'unixepoch'))) * 24 AS Integer)) as delta from test left join deadlines on test.labname = deadlines.labs \n",
        "           where labname <> 'project1' '''\n",
        "          #  where checker.status = 'ready' and checker.uid like 'user_%' and checker.numTrials = 1 and checker.labname in ('laba04', 'laba04s', 'laba05', 'laba06','laba06s', 'project1')\n",
        "          #  and (pageviews.datetime = (select MIN(pageviews.datetime) from pageviews where pageviews.uid=checker.uid) or pageviews.datetime IS NULL) '''\n",
        "df_min = pd.io.sql.read_sql(query, connect_db)\n",
        "df_min"
      ],
      "execution_count": 138,
      "outputs": [
        {
          "output_type": "execute_result",
          "data": {
            "text/html": [
              "<div>\n",
              "<style scoped>\n",
              "    .dataframe tbody tr th:only-of-type {\n",
              "        vertical-align: middle;\n",
              "    }\n",
              "\n",
              "    .dataframe tbody tr th {\n",
              "        vertical-align: top;\n",
              "    }\n",
              "\n",
              "    .dataframe thead th {\n",
              "        text-align: right;\n",
              "    }\n",
              "</style>\n",
              "<table border=\"1\" class=\"dataframe\">\n",
              "  <thead>\n",
              "    <tr style=\"text-align: right;\">\n",
              "      <th></th>\n",
              "      <th>uid</th>\n",
              "      <th>delta</th>\n",
              "    </tr>\n",
              "  </thead>\n",
              "  <tbody>\n",
              "    <tr>\n",
              "      <th>0</th>\n",
              "      <td>user_30</td>\n",
              "      <td>-202</td>\n",
              "    </tr>\n",
              "  </tbody>\n",
              "</table>\n",
              "</div>"
            ],
            "text/plain": [
              "       uid  delta\n",
              "0  user_30   -202"
            ]
          },
          "metadata": {},
          "execution_count": 138
        }
      ]
    },
    {
      "cell_type": "code",
      "metadata": {
        "colab": {
          "base_uri": "https://localhost:8080/",
          "height": 80
        },
        "id": "TWvVgGVVNd_a",
        "outputId": "57c5e32b-789d-49d7-dd2a-786bca21bd34"
      },
      "source": [
        "query = '''select uid, max(cast((julianday(test.first_commit_ts) - julianday(datetime(deadlines.deadlines, 'unixepoch'))) * 24 AS Integer)) as delta from test left join deadlines on test.labname = deadlines.labs \n",
        "           where labname <> 'project1' '''\n",
        "          #  where checker.status = 'ready' and checker.uid like 'user_%' and checker.numTrials = 1 and checker.labname in ('laba04', 'laba04s', 'laba05', 'laba06','laba06s', 'project1')\n",
        "          #  and (pageviews.datetime = (select MIN(pageviews.datetime) from pageviews where pageviews.uid=checker.uid) or pageviews.datetime IS NULL) '''\n",
        "df_max = pd.io.sql.read_sql(query, connect_db)\n",
        "df_max"
      ],
      "execution_count": 139,
      "outputs": [
        {
          "output_type": "execute_result",
          "data": {
            "text/html": [
              "<div>\n",
              "<style scoped>\n",
              "    .dataframe tbody tr th:only-of-type {\n",
              "        vertical-align: middle;\n",
              "    }\n",
              "\n",
              "    .dataframe tbody tr th {\n",
              "        vertical-align: top;\n",
              "    }\n",
              "\n",
              "    .dataframe thead th {\n",
              "        text-align: right;\n",
              "    }\n",
              "</style>\n",
              "<table border=\"1\" class=\"dataframe\">\n",
              "  <thead>\n",
              "    <tr style=\"text-align: right;\">\n",
              "      <th></th>\n",
              "      <th>uid</th>\n",
              "      <th>delta</th>\n",
              "    </tr>\n",
              "  </thead>\n",
              "  <tbody>\n",
              "    <tr>\n",
              "      <th>0</th>\n",
              "      <td>user_25</td>\n",
              "      <td>-2</td>\n",
              "    </tr>\n",
              "  </tbody>\n",
              "</table>\n",
              "</div>"
            ],
            "text/plain": [
              "       uid  delta\n",
              "0  user_25     -2"
            ]
          },
          "metadata": {},
          "execution_count": 139
        }
      ]
    },
    {
      "cell_type": "code",
      "metadata": {
        "colab": {
          "base_uri": "https://localhost:8080/",
          "height": 80
        },
        "id": "P5U2dvCz5V_6",
        "outputId": "dc770046-b798-4a76-eca7-1fc05de95867"
      },
      "source": [
        "query = '''select uid, avg(cast((julianday(test.first_commit_ts) - julianday(datetime(deadlines.deadlines, 'unixepoch'))) * 24 AS Integer)) as delta from test left join deadlines on test.labname = deadlines.labs \n",
        "           where labname <> 'project1' '''\n",
        "          #  where checker.status = 'ready' and checker.uid like 'user_%' and checker.numTrials = 1 and checker.labname in ('laba04', 'laba04s', 'laba05', 'laba06','laba06s', 'project1')\n",
        "          #  and (pageviews.datetime = (select MIN(pageviews.datetime) from pageviews where pageviews.uid=checker.uid) or pageviews.datetime IS NULL) '''\n",
        "df_avg = pd.io.sql.read_sql(query, connect_db)\n",
        "df_avg"
      ],
      "execution_count": 140,
      "outputs": [
        {
          "output_type": "execute_result",
          "data": {
            "text/html": [
              "<div>\n",
              "<style scoped>\n",
              "    .dataframe tbody tr th:only-of-type {\n",
              "        vertical-align: middle;\n",
              "    }\n",
              "\n",
              "    .dataframe tbody tr th {\n",
              "        vertical-align: top;\n",
              "    }\n",
              "\n",
              "    .dataframe thead th {\n",
              "        text-align: right;\n",
              "    }\n",
              "</style>\n",
              "<table border=\"1\" class=\"dataframe\">\n",
              "  <thead>\n",
              "    <tr style=\"text-align: right;\">\n",
              "      <th></th>\n",
              "      <th>uid</th>\n",
              "      <th>delta</th>\n",
              "    </tr>\n",
              "  </thead>\n",
              "  <tbody>\n",
              "    <tr>\n",
              "      <th>0</th>\n",
              "      <td>user_17</td>\n",
              "      <td>-89.125</td>\n",
              "    </tr>\n",
              "  </tbody>\n",
              "</table>\n",
              "</div>"
            ],
            "text/plain": [
              "       uid   delta\n",
              "0  user_17 -89.125"
            ]
          },
          "metadata": {},
          "execution_count": 140
        }
      ]
    },
    {
      "cell_type": "code",
      "metadata": {
        "colab": {
          "base_uri": "https://localhost:8080/",
          "height": 390
        },
        "id": "Ejmk7mKGNd6Z",
        "outputId": "cc2f8b93-dd10-4a84-8c66-fb4604e2296e"
      },
      "source": [
        "query = '''select test.uid, avg(cast((julianday(test.first_commit_ts) - julianday(datetime(deadlines.deadlines, 'unixepoch'))) * 24 AS Integer)) as avg_diff, views.pageviews\n",
        "           from test left join deadlines on test.labname = deadlines.labs left join (select pageviews.uid, count(1) as pageviews from pageviews group by pageviews.uid) as views on views.uid = test.uid\n",
        "           where labname <> 'project1' group by test.uid\n",
        "           '''\n",
        "# query = ''' select uid, count(1) as pageviews from pageviews group by uid '''\n",
        "          #  where checker.status = 'ready' and checker.uid like 'user_%' and checker.numTrials = 1 and checker.labname in ('laba04', 'laba04s', 'laba05', 'laba06','laba06s', 'project1')\n",
        "          #  and (pageviews.datetime = (select MIN(pageviews.datetime) from pageviews where pageviews.uid=checker.uid) or pageviews.datetime IS NULL) '''\n",
        "views_diff = pd.io.sql.read_sql(query, connect_db)\n",
        "views_diff\n",
        "# uid, avg_diff, pageviews"
      ],
      "execution_count": 141,
      "outputs": [
        {
          "output_type": "execute_result",
          "data": {
            "text/html": [
              "<div>\n",
              "<style scoped>\n",
              "    .dataframe tbody tr th:only-of-type {\n",
              "        vertical-align: middle;\n",
              "    }\n",
              "\n",
              "    .dataframe tbody tr th {\n",
              "        vertical-align: top;\n",
              "    }\n",
              "\n",
              "    .dataframe thead th {\n",
              "        text-align: right;\n",
              "    }\n",
              "</style>\n",
              "<table border=\"1\" class=\"dataframe\">\n",
              "  <thead>\n",
              "    <tr style=\"text-align: right;\">\n",
              "      <th></th>\n",
              "      <th>uid</th>\n",
              "      <th>avg_diff</th>\n",
              "      <th>pageviews</th>\n",
              "    </tr>\n",
              "  </thead>\n",
              "  <tbody>\n",
              "    <tr>\n",
              "      <th>0</th>\n",
              "      <td>user_1</td>\n",
              "      <td>-64.400000</td>\n",
              "      <td>28</td>\n",
              "    </tr>\n",
              "    <tr>\n",
              "      <th>1</th>\n",
              "      <td>user_10</td>\n",
              "      <td>-74.800000</td>\n",
              "      <td>89</td>\n",
              "    </tr>\n",
              "    <tr>\n",
              "      <th>2</th>\n",
              "      <td>user_14</td>\n",
              "      <td>-159.000000</td>\n",
              "      <td>143</td>\n",
              "    </tr>\n",
              "    <tr>\n",
              "      <th>3</th>\n",
              "      <td>user_17</td>\n",
              "      <td>-61.600000</td>\n",
              "      <td>47</td>\n",
              "    </tr>\n",
              "    <tr>\n",
              "      <th>4</th>\n",
              "      <td>user_18</td>\n",
              "      <td>-5.666667</td>\n",
              "      <td>3</td>\n",
              "    </tr>\n",
              "    <tr>\n",
              "      <th>5</th>\n",
              "      <td>user_19</td>\n",
              "      <td>-98.750000</td>\n",
              "      <td>16</td>\n",
              "    </tr>\n",
              "    <tr>\n",
              "      <th>6</th>\n",
              "      <td>user_21</td>\n",
              "      <td>-95.500000</td>\n",
              "      <td>10</td>\n",
              "    </tr>\n",
              "    <tr>\n",
              "      <th>7</th>\n",
              "      <td>user_25</td>\n",
              "      <td>-92.600000</td>\n",
              "      <td>179</td>\n",
              "    </tr>\n",
              "    <tr>\n",
              "      <th>8</th>\n",
              "      <td>user_28</td>\n",
              "      <td>-86.400000</td>\n",
              "      <td>149</td>\n",
              "    </tr>\n",
              "    <tr>\n",
              "      <th>9</th>\n",
              "      <td>user_3</td>\n",
              "      <td>-105.400000</td>\n",
              "      <td>317</td>\n",
              "    </tr>\n",
              "    <tr>\n",
              "      <th>10</th>\n",
              "      <td>user_30</td>\n",
              "      <td>-145.250000</td>\n",
              "      <td>3</td>\n",
              "    </tr>\n",
              "  </tbody>\n",
              "</table>\n",
              "</div>"
            ],
            "text/plain": [
              "        uid    avg_diff  pageviews\n",
              "0    user_1  -64.400000         28\n",
              "1   user_10  -74.800000         89\n",
              "2   user_14 -159.000000        143\n",
              "3   user_17  -61.600000         47\n",
              "4   user_18   -5.666667          3\n",
              "5   user_19  -98.750000         16\n",
              "6   user_21  -95.500000         10\n",
              "7   user_25  -92.600000        179\n",
              "8   user_28  -86.400000        149\n",
              "9    user_3 -105.400000        317\n",
              "10  user_30 -145.250000          3"
            ]
          },
          "metadata": {},
          "execution_count": 141
        }
      ]
    },
    {
      "cell_type": "code",
      "metadata": {
        "id": "uzzroBJOm4AF",
        "colab": {
          "base_uri": "https://localhost:8080/",
          "height": 111
        },
        "outputId": "edcb0928-2fb5-4af5-c219-ad1cd8548793"
      },
      "source": [
        "views_diff.corr()"
      ],
      "execution_count": 142,
      "outputs": [
        {
          "output_type": "execute_result",
          "data": {
            "text/html": [
              "<div>\n",
              "<style scoped>\n",
              "    .dataframe tbody tr th:only-of-type {\n",
              "        vertical-align: middle;\n",
              "    }\n",
              "\n",
              "    .dataframe tbody tr th {\n",
              "        vertical-align: top;\n",
              "    }\n",
              "\n",
              "    .dataframe thead th {\n",
              "        text-align: right;\n",
              "    }\n",
              "</style>\n",
              "<table border=\"1\" class=\"dataframe\">\n",
              "  <thead>\n",
              "    <tr style=\"text-align: right;\">\n",
              "      <th></th>\n",
              "      <th>avg_diff</th>\n",
              "      <th>pageviews</th>\n",
              "    </tr>\n",
              "  </thead>\n",
              "  <tbody>\n",
              "    <tr>\n",
              "      <th>avg_diff</th>\n",
              "      <td>1.000000</td>\n",
              "      <td>-0.279736</td>\n",
              "    </tr>\n",
              "    <tr>\n",
              "      <th>pageviews</th>\n",
              "      <td>-0.279736</td>\n",
              "      <td>1.000000</td>\n",
              "    </tr>\n",
              "  </tbody>\n",
              "</table>\n",
              "</div>"
            ],
            "text/plain": [
              "           avg_diff  pageviews\n",
              "avg_diff   1.000000  -0.279736\n",
              "pageviews -0.279736   1.000000"
            ]
          },
          "metadata": {},
          "execution_count": 142
        }
      ]
    },
    {
      "cell_type": "code",
      "metadata": {
        "id": "Dv5H0GAEAyjj"
      },
      "source": [
        "connect_db.close()"
      ],
      "execution_count": 143,
      "outputs": []
    }
  ]
}