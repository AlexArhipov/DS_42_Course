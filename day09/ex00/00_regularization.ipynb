{
  "nbformat": 4,
  "nbformat_minor": 0,
  "metadata": {
    "kernelspec": {
      "display_name": "Python 3",
      "language": "python",
      "name": "python3"
    },
    "language_info": {
      "codemirror_mode": {
        "name": "ipython",
        "version": 3
      },
      "file_extension": ".py",
      "mimetype": "text/x-python",
      "name": "python",
      "nbconvert_exporter": "python",
      "pygments_lexer": "ipython3",
      "version": "3.7.7"
    },
    "colab": {
      "name": "00_regularization.ipynb",
      "provenance": []
    }
  },
  "cells": [
    {
      "cell_type": "markdown",
      "metadata": {
        "id": "fK_o2E1kV0oG"
      },
      "source": [
        "# Day 09. Exercise 00\n",
        "# Regularization"
      ]
    },
    {
      "cell_type": "markdown",
      "metadata": {
        "id": "JgPvmOQ4V0oK"
      },
      "source": [
        "## 0. Imports"
      ]
    },
    {
      "cell_type": "code",
      "metadata": {
        "id": "bIWqMnkCV0oK"
      },
      "source": [
        "import pandas as pd\n",
        "from sklearn.model_selection import train_test_split\n",
        "from sklearn.linear_model import LogisticRegression\n",
        "from sklearn.model_selection import cross_val_score\n",
        "from sklearn.datasets import make_classification\n",
        "from sklearn.model_selection import StratifiedKFold\n",
        "from sklearn.metrics import accuracy_score\n",
        "import numpy as np\n",
        "from sklearn import svm\n",
        "from sklearn.tree import DecisionTreeClassifier\n",
        "from sklearn.ensemble import RandomForestClassifier\n",
        "from sklearn.metrics import plot_confusion_matrix\n",
        "import matplotlib.pyplot as plt\n",
        "import pickle"
      ],
      "execution_count": 356,
      "outputs": []
    },
    {
      "cell_type": "markdown",
      "metadata": {
        "id": "sSqcOA9VV0oL"
      },
      "source": [
        "## 1. Preprocessing"
      ]
    },
    {
      "cell_type": "markdown",
      "metadata": {
        "id": "jRlzci1BV0oL"
      },
      "source": [
        "1. Read the file `dayofweek.csv` that you used in the previous day to a dataframe.\n",
        "2. Using `train_test_split` with parameters `test_size=0.2`, `random_state=21` get `X_train`, `y_train`, `X_test`, `y_test`. Use the additional parameter `stratify`."
      ]
    },
    {
      "cell_type": "code",
      "metadata": {
        "colab": {
          "base_uri": "https://localhost:8080/",
          "height": 456
        },
        "id": "-nR63RTOV0oM",
        "outputId": "26db8d8d-4acf-49ff-807a-0c764507d0d6"
      },
      "source": [
        "df = pd.read_csv('../data/dayofweek.csv')\n",
        "df"
      ],
      "execution_count": null,
      "outputs": [
        {
          "output_type": "execute_result",
          "data": {
            "text/html": [
              "<div>\n",
              "<style scoped>\n",
              "    .dataframe tbody tr th:only-of-type {\n",
              "        vertical-align: middle;\n",
              "    }\n",
              "\n",
              "    .dataframe tbody tr th {\n",
              "        vertical-align: top;\n",
              "    }\n",
              "\n",
              "    .dataframe thead th {\n",
              "        text-align: right;\n",
              "    }\n",
              "</style>\n",
              "<table border=\"1\" class=\"dataframe\">\n",
              "  <thead>\n",
              "    <tr style=\"text-align: right;\">\n",
              "      <th></th>\n",
              "      <th>numTrials</th>\n",
              "      <th>hour</th>\n",
              "      <th>day-ofweek</th>\n",
              "      <th>uid_user_0</th>\n",
              "      <th>uid_user_1</th>\n",
              "      <th>uid_user_10</th>\n",
              "      <th>uid_user_11</th>\n",
              "      <th>uid_user_12</th>\n",
              "      <th>uid_user_13</th>\n",
              "      <th>uid_user_14</th>\n",
              "      <th>uid_user_15</th>\n",
              "      <th>uid_user_16</th>\n",
              "      <th>uid_user_17</th>\n",
              "      <th>uid_user_18</th>\n",
              "      <th>uid_user_19</th>\n",
              "      <th>uid_user_2</th>\n",
              "      <th>uid_user_20</th>\n",
              "      <th>uid_user_21</th>\n",
              "      <th>uid_user_22</th>\n",
              "      <th>uid_user_23</th>\n",
              "      <th>uid_user_24</th>\n",
              "      <th>uid_user_25</th>\n",
              "      <th>uid_user_26</th>\n",
              "      <th>uid_user_27</th>\n",
              "      <th>uid_user_28</th>\n",
              "      <th>uid_user_29</th>\n",
              "      <th>uid_user_3</th>\n",
              "      <th>uid_user_30</th>\n",
              "      <th>uid_user_31</th>\n",
              "      <th>uid_user_4</th>\n",
              "      <th>uid_user_6</th>\n",
              "      <th>uid_user_7</th>\n",
              "      <th>uid_user_8</th>\n",
              "      <th>labname_code_rvw</th>\n",
              "      <th>labname_lab02</th>\n",
              "      <th>labname_lab03</th>\n",
              "      <th>labname_lab03s</th>\n",
              "      <th>labname_lab05s</th>\n",
              "      <th>labname_laba04</th>\n",
              "      <th>labname_laba04s</th>\n",
              "      <th>labname_laba05</th>\n",
              "      <th>labname_laba06</th>\n",
              "      <th>labname_laba06s</th>\n",
              "      <th>labname_project1</th>\n",
              "    </tr>\n",
              "  </thead>\n",
              "  <tbody>\n",
              "    <tr>\n",
              "      <th>0</th>\n",
              "      <td>-0.788667</td>\n",
              "      <td>-2.562352</td>\n",
              "      <td>4</td>\n",
              "      <td>0</td>\n",
              "      <td>0</td>\n",
              "      <td>0</td>\n",
              "      <td>0</td>\n",
              "      <td>0</td>\n",
              "      <td>0</td>\n",
              "      <td>0</td>\n",
              "      <td>0</td>\n",
              "      <td>0</td>\n",
              "      <td>0</td>\n",
              "      <td>0</td>\n",
              "      <td>0</td>\n",
              "      <td>0</td>\n",
              "      <td>0</td>\n",
              "      <td>0</td>\n",
              "      <td>0</td>\n",
              "      <td>0</td>\n",
              "      <td>0</td>\n",
              "      <td>0</td>\n",
              "      <td>0</td>\n",
              "      <td>0</td>\n",
              "      <td>0</td>\n",
              "      <td>0</td>\n",
              "      <td>0</td>\n",
              "      <td>0</td>\n",
              "      <td>0</td>\n",
              "      <td>1</td>\n",
              "      <td>0</td>\n",
              "      <td>0</td>\n",
              "      <td>0</td>\n",
              "      <td>0</td>\n",
              "      <td>0</td>\n",
              "      <td>0</td>\n",
              "      <td>0</td>\n",
              "      <td>0</td>\n",
              "      <td>0</td>\n",
              "      <td>0</td>\n",
              "      <td>0</td>\n",
              "      <td>0</td>\n",
              "      <td>0</td>\n",
              "      <td>1</td>\n",
              "    </tr>\n",
              "    <tr>\n",
              "      <th>1</th>\n",
              "      <td>-0.756764</td>\n",
              "      <td>-2.562352</td>\n",
              "      <td>4</td>\n",
              "      <td>0</td>\n",
              "      <td>0</td>\n",
              "      <td>0</td>\n",
              "      <td>0</td>\n",
              "      <td>0</td>\n",
              "      <td>0</td>\n",
              "      <td>0</td>\n",
              "      <td>0</td>\n",
              "      <td>0</td>\n",
              "      <td>0</td>\n",
              "      <td>0</td>\n",
              "      <td>0</td>\n",
              "      <td>0</td>\n",
              "      <td>0</td>\n",
              "      <td>0</td>\n",
              "      <td>0</td>\n",
              "      <td>0</td>\n",
              "      <td>0</td>\n",
              "      <td>0</td>\n",
              "      <td>0</td>\n",
              "      <td>0</td>\n",
              "      <td>0</td>\n",
              "      <td>0</td>\n",
              "      <td>0</td>\n",
              "      <td>0</td>\n",
              "      <td>0</td>\n",
              "      <td>1</td>\n",
              "      <td>0</td>\n",
              "      <td>0</td>\n",
              "      <td>0</td>\n",
              "      <td>0</td>\n",
              "      <td>0</td>\n",
              "      <td>0</td>\n",
              "      <td>0</td>\n",
              "      <td>0</td>\n",
              "      <td>0</td>\n",
              "      <td>0</td>\n",
              "      <td>0</td>\n",
              "      <td>0</td>\n",
              "      <td>0</td>\n",
              "      <td>1</td>\n",
              "    </tr>\n",
              "    <tr>\n",
              "      <th>2</th>\n",
              "      <td>-0.724861</td>\n",
              "      <td>-2.562352</td>\n",
              "      <td>4</td>\n",
              "      <td>0</td>\n",
              "      <td>0</td>\n",
              "      <td>0</td>\n",
              "      <td>0</td>\n",
              "      <td>0</td>\n",
              "      <td>0</td>\n",
              "      <td>0</td>\n",
              "      <td>0</td>\n",
              "      <td>0</td>\n",
              "      <td>0</td>\n",
              "      <td>0</td>\n",
              "      <td>0</td>\n",
              "      <td>0</td>\n",
              "      <td>0</td>\n",
              "      <td>0</td>\n",
              "      <td>0</td>\n",
              "      <td>0</td>\n",
              "      <td>0</td>\n",
              "      <td>0</td>\n",
              "      <td>0</td>\n",
              "      <td>0</td>\n",
              "      <td>0</td>\n",
              "      <td>0</td>\n",
              "      <td>0</td>\n",
              "      <td>0</td>\n",
              "      <td>0</td>\n",
              "      <td>1</td>\n",
              "      <td>0</td>\n",
              "      <td>0</td>\n",
              "      <td>0</td>\n",
              "      <td>0</td>\n",
              "      <td>0</td>\n",
              "      <td>0</td>\n",
              "      <td>0</td>\n",
              "      <td>0</td>\n",
              "      <td>0</td>\n",
              "      <td>0</td>\n",
              "      <td>0</td>\n",
              "      <td>0</td>\n",
              "      <td>0</td>\n",
              "      <td>1</td>\n",
              "    </tr>\n",
              "    <tr>\n",
              "      <th>3</th>\n",
              "      <td>-0.692958</td>\n",
              "      <td>-2.562352</td>\n",
              "      <td>4</td>\n",
              "      <td>0</td>\n",
              "      <td>0</td>\n",
              "      <td>0</td>\n",
              "      <td>0</td>\n",
              "      <td>0</td>\n",
              "      <td>0</td>\n",
              "      <td>0</td>\n",
              "      <td>0</td>\n",
              "      <td>0</td>\n",
              "      <td>0</td>\n",
              "      <td>0</td>\n",
              "      <td>0</td>\n",
              "      <td>0</td>\n",
              "      <td>0</td>\n",
              "      <td>0</td>\n",
              "      <td>0</td>\n",
              "      <td>0</td>\n",
              "      <td>0</td>\n",
              "      <td>0</td>\n",
              "      <td>0</td>\n",
              "      <td>0</td>\n",
              "      <td>0</td>\n",
              "      <td>0</td>\n",
              "      <td>0</td>\n",
              "      <td>0</td>\n",
              "      <td>0</td>\n",
              "      <td>1</td>\n",
              "      <td>0</td>\n",
              "      <td>0</td>\n",
              "      <td>0</td>\n",
              "      <td>0</td>\n",
              "      <td>0</td>\n",
              "      <td>0</td>\n",
              "      <td>0</td>\n",
              "      <td>0</td>\n",
              "      <td>0</td>\n",
              "      <td>0</td>\n",
              "      <td>0</td>\n",
              "      <td>0</td>\n",
              "      <td>0</td>\n",
              "      <td>1</td>\n",
              "    </tr>\n",
              "    <tr>\n",
              "      <th>4</th>\n",
              "      <td>-0.661055</td>\n",
              "      <td>-2.562352</td>\n",
              "      <td>4</td>\n",
              "      <td>0</td>\n",
              "      <td>0</td>\n",
              "      <td>0</td>\n",
              "      <td>0</td>\n",
              "      <td>0</td>\n",
              "      <td>0</td>\n",
              "      <td>0</td>\n",
              "      <td>0</td>\n",
              "      <td>0</td>\n",
              "      <td>0</td>\n",
              "      <td>0</td>\n",
              "      <td>0</td>\n",
              "      <td>0</td>\n",
              "      <td>0</td>\n",
              "      <td>0</td>\n",
              "      <td>0</td>\n",
              "      <td>0</td>\n",
              "      <td>0</td>\n",
              "      <td>0</td>\n",
              "      <td>0</td>\n",
              "      <td>0</td>\n",
              "      <td>0</td>\n",
              "      <td>0</td>\n",
              "      <td>0</td>\n",
              "      <td>0</td>\n",
              "      <td>0</td>\n",
              "      <td>1</td>\n",
              "      <td>0</td>\n",
              "      <td>0</td>\n",
              "      <td>0</td>\n",
              "      <td>0</td>\n",
              "      <td>0</td>\n",
              "      <td>0</td>\n",
              "      <td>0</td>\n",
              "      <td>0</td>\n",
              "      <td>0</td>\n",
              "      <td>0</td>\n",
              "      <td>0</td>\n",
              "      <td>0</td>\n",
              "      <td>0</td>\n",
              "      <td>1</td>\n",
              "    </tr>\n",
              "    <tr>\n",
              "      <th>...</th>\n",
              "      <td>...</td>\n",
              "      <td>...</td>\n",
              "      <td>...</td>\n",
              "      <td>...</td>\n",
              "      <td>...</td>\n",
              "      <td>...</td>\n",
              "      <td>...</td>\n",
              "      <td>...</td>\n",
              "      <td>...</td>\n",
              "      <td>...</td>\n",
              "      <td>...</td>\n",
              "      <td>...</td>\n",
              "      <td>...</td>\n",
              "      <td>...</td>\n",
              "      <td>...</td>\n",
              "      <td>...</td>\n",
              "      <td>...</td>\n",
              "      <td>...</td>\n",
              "      <td>...</td>\n",
              "      <td>...</td>\n",
              "      <td>...</td>\n",
              "      <td>...</td>\n",
              "      <td>...</td>\n",
              "      <td>...</td>\n",
              "      <td>...</td>\n",
              "      <td>...</td>\n",
              "      <td>...</td>\n",
              "      <td>...</td>\n",
              "      <td>...</td>\n",
              "      <td>...</td>\n",
              "      <td>...</td>\n",
              "      <td>...</td>\n",
              "      <td>...</td>\n",
              "      <td>...</td>\n",
              "      <td>...</td>\n",
              "      <td>...</td>\n",
              "      <td>...</td>\n",
              "      <td>...</td>\n",
              "      <td>...</td>\n",
              "      <td>...</td>\n",
              "      <td>...</td>\n",
              "      <td>...</td>\n",
              "      <td>...</td>\n",
              "      <td>...</td>\n",
              "    </tr>\n",
              "    <tr>\n",
              "      <th>1681</th>\n",
              "      <td>-0.533442</td>\n",
              "      <td>0.945382</td>\n",
              "      <td>3</td>\n",
              "      <td>0</td>\n",
              "      <td>0</td>\n",
              "      <td>0</td>\n",
              "      <td>0</td>\n",
              "      <td>0</td>\n",
              "      <td>0</td>\n",
              "      <td>0</td>\n",
              "      <td>0</td>\n",
              "      <td>0</td>\n",
              "      <td>0</td>\n",
              "      <td>0</td>\n",
              "      <td>1</td>\n",
              "      <td>0</td>\n",
              "      <td>0</td>\n",
              "      <td>0</td>\n",
              "      <td>0</td>\n",
              "      <td>0</td>\n",
              "      <td>0</td>\n",
              "      <td>0</td>\n",
              "      <td>0</td>\n",
              "      <td>0</td>\n",
              "      <td>0</td>\n",
              "      <td>0</td>\n",
              "      <td>0</td>\n",
              "      <td>0</td>\n",
              "      <td>0</td>\n",
              "      <td>0</td>\n",
              "      <td>0</td>\n",
              "      <td>0</td>\n",
              "      <td>0</td>\n",
              "      <td>0</td>\n",
              "      <td>0</td>\n",
              "      <td>0</td>\n",
              "      <td>0</td>\n",
              "      <td>0</td>\n",
              "      <td>0</td>\n",
              "      <td>0</td>\n",
              "      <td>0</td>\n",
              "      <td>0</td>\n",
              "      <td>1</td>\n",
              "      <td>0</td>\n",
              "    </tr>\n",
              "    <tr>\n",
              "      <th>1682</th>\n",
              "      <td>-0.629151</td>\n",
              "      <td>0.945382</td>\n",
              "      <td>3</td>\n",
              "      <td>0</td>\n",
              "      <td>1</td>\n",
              "      <td>0</td>\n",
              "      <td>0</td>\n",
              "      <td>0</td>\n",
              "      <td>0</td>\n",
              "      <td>0</td>\n",
              "      <td>0</td>\n",
              "      <td>0</td>\n",
              "      <td>0</td>\n",
              "      <td>0</td>\n",
              "      <td>0</td>\n",
              "      <td>0</td>\n",
              "      <td>0</td>\n",
              "      <td>0</td>\n",
              "      <td>0</td>\n",
              "      <td>0</td>\n",
              "      <td>0</td>\n",
              "      <td>0</td>\n",
              "      <td>0</td>\n",
              "      <td>0</td>\n",
              "      <td>0</td>\n",
              "      <td>0</td>\n",
              "      <td>0</td>\n",
              "      <td>0</td>\n",
              "      <td>0</td>\n",
              "      <td>0</td>\n",
              "      <td>0</td>\n",
              "      <td>0</td>\n",
              "      <td>0</td>\n",
              "      <td>0</td>\n",
              "      <td>0</td>\n",
              "      <td>0</td>\n",
              "      <td>0</td>\n",
              "      <td>0</td>\n",
              "      <td>0</td>\n",
              "      <td>0</td>\n",
              "      <td>0</td>\n",
              "      <td>0</td>\n",
              "      <td>1</td>\n",
              "      <td>0</td>\n",
              "    </tr>\n",
              "    <tr>\n",
              "      <th>1683</th>\n",
              "      <td>-0.597248</td>\n",
              "      <td>0.945382</td>\n",
              "      <td>3</td>\n",
              "      <td>0</td>\n",
              "      <td>1</td>\n",
              "      <td>0</td>\n",
              "      <td>0</td>\n",
              "      <td>0</td>\n",
              "      <td>0</td>\n",
              "      <td>0</td>\n",
              "      <td>0</td>\n",
              "      <td>0</td>\n",
              "      <td>0</td>\n",
              "      <td>0</td>\n",
              "      <td>0</td>\n",
              "      <td>0</td>\n",
              "      <td>0</td>\n",
              "      <td>0</td>\n",
              "      <td>0</td>\n",
              "      <td>0</td>\n",
              "      <td>0</td>\n",
              "      <td>0</td>\n",
              "      <td>0</td>\n",
              "      <td>0</td>\n",
              "      <td>0</td>\n",
              "      <td>0</td>\n",
              "      <td>0</td>\n",
              "      <td>0</td>\n",
              "      <td>0</td>\n",
              "      <td>0</td>\n",
              "      <td>0</td>\n",
              "      <td>0</td>\n",
              "      <td>0</td>\n",
              "      <td>0</td>\n",
              "      <td>0</td>\n",
              "      <td>0</td>\n",
              "      <td>0</td>\n",
              "      <td>0</td>\n",
              "      <td>0</td>\n",
              "      <td>0</td>\n",
              "      <td>0</td>\n",
              "      <td>0</td>\n",
              "      <td>1</td>\n",
              "      <td>0</td>\n",
              "    </tr>\n",
              "    <tr>\n",
              "      <th>1684</th>\n",
              "      <td>-0.565345</td>\n",
              "      <td>0.945382</td>\n",
              "      <td>3</td>\n",
              "      <td>0</td>\n",
              "      <td>1</td>\n",
              "      <td>0</td>\n",
              "      <td>0</td>\n",
              "      <td>0</td>\n",
              "      <td>0</td>\n",
              "      <td>0</td>\n",
              "      <td>0</td>\n",
              "      <td>0</td>\n",
              "      <td>0</td>\n",
              "      <td>0</td>\n",
              "      <td>0</td>\n",
              "      <td>0</td>\n",
              "      <td>0</td>\n",
              "      <td>0</td>\n",
              "      <td>0</td>\n",
              "      <td>0</td>\n",
              "      <td>0</td>\n",
              "      <td>0</td>\n",
              "      <td>0</td>\n",
              "      <td>0</td>\n",
              "      <td>0</td>\n",
              "      <td>0</td>\n",
              "      <td>0</td>\n",
              "      <td>0</td>\n",
              "      <td>0</td>\n",
              "      <td>0</td>\n",
              "      <td>0</td>\n",
              "      <td>0</td>\n",
              "      <td>0</td>\n",
              "      <td>0</td>\n",
              "      <td>0</td>\n",
              "      <td>0</td>\n",
              "      <td>0</td>\n",
              "      <td>0</td>\n",
              "      <td>0</td>\n",
              "      <td>0</td>\n",
              "      <td>0</td>\n",
              "      <td>0</td>\n",
              "      <td>1</td>\n",
              "      <td>0</td>\n",
              "    </tr>\n",
              "    <tr>\n",
              "      <th>1685</th>\n",
              "      <td>-0.533442</td>\n",
              "      <td>0.945382</td>\n",
              "      <td>3</td>\n",
              "      <td>0</td>\n",
              "      <td>1</td>\n",
              "      <td>0</td>\n",
              "      <td>0</td>\n",
              "      <td>0</td>\n",
              "      <td>0</td>\n",
              "      <td>0</td>\n",
              "      <td>0</td>\n",
              "      <td>0</td>\n",
              "      <td>0</td>\n",
              "      <td>0</td>\n",
              "      <td>0</td>\n",
              "      <td>0</td>\n",
              "      <td>0</td>\n",
              "      <td>0</td>\n",
              "      <td>0</td>\n",
              "      <td>0</td>\n",
              "      <td>0</td>\n",
              "      <td>0</td>\n",
              "      <td>0</td>\n",
              "      <td>0</td>\n",
              "      <td>0</td>\n",
              "      <td>0</td>\n",
              "      <td>0</td>\n",
              "      <td>0</td>\n",
              "      <td>0</td>\n",
              "      <td>0</td>\n",
              "      <td>0</td>\n",
              "      <td>0</td>\n",
              "      <td>0</td>\n",
              "      <td>0</td>\n",
              "      <td>0</td>\n",
              "      <td>0</td>\n",
              "      <td>0</td>\n",
              "      <td>0</td>\n",
              "      <td>0</td>\n",
              "      <td>0</td>\n",
              "      <td>0</td>\n",
              "      <td>0</td>\n",
              "      <td>1</td>\n",
              "      <td>0</td>\n",
              "    </tr>\n",
              "  </tbody>\n",
              "</table>\n",
              "<p>1686 rows × 44 columns</p>\n",
              "</div>"
            ],
            "text/plain": [
              "      numTrials      hour  ...  labname_laba06s  labname_project1\n",
              "0     -0.788667 -2.562352  ...                0                 1\n",
              "1     -0.756764 -2.562352  ...                0                 1\n",
              "2     -0.724861 -2.562352  ...                0                 1\n",
              "3     -0.692958 -2.562352  ...                0                 1\n",
              "4     -0.661055 -2.562352  ...                0                 1\n",
              "...         ...       ...  ...              ...               ...\n",
              "1681  -0.533442  0.945382  ...                1                 0\n",
              "1682  -0.629151  0.945382  ...                1                 0\n",
              "1683  -0.597248  0.945382  ...                1                 0\n",
              "1684  -0.565345  0.945382  ...                1                 0\n",
              "1685  -0.533442  0.945382  ...                1                 0\n",
              "\n",
              "[1686 rows x 44 columns]"
            ]
          },
          "metadata": {},
          "execution_count": 305
        }
      ]
    },
    {
      "cell_type": "code",
      "metadata": {
        "id": "Cx1DXMWGV0oM"
      },
      "source": [
        "X = df.drop('day-ofweek', axis=1)\n",
        "y = df['day-ofweek']\n",
        "X_train, X_test, y_train, y_test = train_test_split(X, y, test_size=0.2, random_state=21, stratify=y)"
      ],
      "execution_count": null,
      "outputs": []
    },
    {
      "cell_type": "markdown",
      "metadata": {
        "id": "FCyR_5CAV0oN"
      },
      "source": [
        "## 2. Logreg regularization"
      ]
    },
    {
      "cell_type": "markdown",
      "metadata": {
        "id": "IZXOLphvV0oO"
      },
      "source": [
        "### a. Default regularization"
      ]
    },
    {
      "cell_type": "markdown",
      "metadata": {
        "id": "BTyi8GJdV0oO"
      },
      "source": [
        "1. Train a baseline model with the only parameters `random_state=21`, `fit_intercept=False`.\n",
        "2. Use stratified K-fold cross-validation with `10` splits to evaluate the accuracy of the model\n",
        "\n",
        "\n",
        "The result of the code where you trained and evaluated the baseline model should be exactly like this (use `%%time` to get the info about how long it took to run the cell):\n",
        "\n",
        "```\n",
        "train -  0.62902   |   valid -  0.59259\n",
        "train -  0.64633   |   valid -  0.62963\n",
        "train -  0.63479   |   valid -  0.56296\n",
        "train -  0.65622   |   valid -  0.61481\n",
        "train -  0.63397   |   valid -  0.57778\n",
        "train -  0.64056   |   valid -  0.59259\n",
        "train -  0.64138   |   valid -  0.65926\n",
        "train -  0.65952   |   valid -  0.56296\n",
        "train -  0.64333   |   valid -  0.59701\n",
        "train -  0.63674   |   valid -  0.62687\n",
        "Average accuracy on crossval is 0.60165\n",
        "Std is 0.02943\n",
        "```"
      ]
    },
    {
      "cell_type": "code",
      "metadata": {
        "id": "O3rlBC_f7UYL"
      },
      "source": [
        "def print_score(input_model):\n",
        "  s = []\n",
        "  for train, valid in cv.split(X_train, y_train):\n",
        "    input_model.fit(X_train.iloc[train], y_train.iloc[train])\n",
        "    train_pred = input_model.predict(X_train.iloc[train])\n",
        "    train = accuracy_score(y_train.iloc[train], train_pred)\n",
        "    valid_pred = input_model.predict(X_train.iloc[valid])\n",
        "    valids = accuracy_score(y_train.iloc[valid], valid_pred)\n",
        "    s.append(valids)\n",
        "    print(\"train - %.5f | \" %train, end='')\n",
        "    print(\"valid - %.5f \" %valids)\n",
        "\n",
        "  print('Average accuracy on crossval is  %.5f ' %np.mean(s))\n",
        "  print('Std is %.5f ' %np.std(s))"
      ],
      "execution_count": null,
      "outputs": []
    },
    {
      "cell_type": "code",
      "metadata": {
        "colab": {
          "base_uri": "https://localhost:8080/"
        },
        "id": "UZV2A_EkiH6w",
        "outputId": "f8e366ec-c1cc-4c9e-9bec-4d61c215a79b"
      },
      "source": [
        "%%time\n",
        "log_reg = LogisticRegression(fit_intercept=False, random_state=21)\n",
        "cv = StratifiedKFold(n_splits=10)\n",
        "print_score(log_reg)"
      ],
      "execution_count": null,
      "outputs": [
        {
          "output_type": "stream",
          "name": "stdout",
          "text": [
            "train - 0.62902 | valid - 0.59259 \n",
            "train - 0.64633 | valid - 0.62963 \n",
            "train - 0.63479 | valid - 0.56296 \n",
            "train - 0.65622 | valid - 0.61481 \n",
            "train - 0.63397 | valid - 0.57778 \n",
            "train - 0.64056 | valid - 0.59259 \n",
            "train - 0.64138 | valid - 0.65926 \n",
            "train - 0.65952 | valid - 0.56296 \n",
            "train - 0.64333 | valid - 0.59701 \n",
            "train - 0.63674 | valid - 0.62687 \n",
            "Average accuracy on crossval is  0.60165 \n",
            "Std is 0.02943 \n",
            "CPU times: user 1.42 s, sys: 1.01 s, total: 2.43 s\n",
            "Wall time: 1.3 s\n"
          ]
        }
      ]
    },
    {
      "cell_type": "markdown",
      "metadata": {
        "id": "PLfVS8NcV0oP"
      },
      "source": [
        "### b. Optimizing regularization parameters"
      ]
    },
    {
      "cell_type": "markdown",
      "metadata": {
        "id": "x0lTMUVnV0oP"
      },
      "source": [
        "1. In the cells below try different values of penalty: `none`, `l1`, `l2` – you can change the values of solver too."
      ]
    },
    {
      "cell_type": "code",
      "metadata": {
        "colab": {
          "base_uri": "https://localhost:8080/"
        },
        "id": "ossV72bMV0oQ",
        "outputId": "f0268ac6-3658-461e-d076-a589ded99847"
      },
      "source": [
        "%%time\n",
        "log_reg = LogisticRegression(fit_intercept=False, random_state=21, penalty='l1', solver = 'liblinear')\n",
        "cv = StratifiedKFold(n_splits=10)\n",
        "print_score(log_reg)"
      ],
      "execution_count": null,
      "outputs": [
        {
          "output_type": "stream",
          "name": "stdout",
          "text": [
            "train - 0.61830 | valid - 0.54815 \n",
            "train - 0.62737 | valid - 0.62222 \n",
            "train - 0.60511 | valid - 0.54074 \n",
            "train - 0.63644 | valid - 0.62222 \n",
            "train - 0.62407 | valid - 0.55556 \n",
            "train - 0.62325 | valid - 0.58519 \n",
            "train - 0.61253 | valid - 0.63704 \n",
            "train - 0.64716 | valid - 0.58519 \n",
            "train - 0.63015 | valid - 0.59701 \n",
            "train - 0.61367 | valid - 0.59701 \n",
            "Average accuracy on crossval is  0.58903 \n",
            "Std is 0.03129 \n",
            "CPU times: user 489 ms, sys: 372 ms, total: 861 ms\n",
            "Wall time: 457 ms\n"
          ]
        }
      ]
    },
    {
      "cell_type": "code",
      "metadata": {
        "colab": {
          "base_uri": "https://localhost:8080/"
        },
        "id": "8lQnySXrV0oQ",
        "outputId": "c7d84891-f3f1-437e-81fe-403aa37882b4"
      },
      "source": [
        "%%time\n",
        "log_reg = LogisticRegression(fit_intercept=False, random_state=21, penalty='l2', solver = 'liblinear')\n",
        "cv = StratifiedKFold(n_splits=10)\n",
        "print_score(log_reg)"
      ],
      "execution_count": null,
      "outputs": [
        {
          "output_type": "stream",
          "name": "stdout",
          "text": [
            "train - 0.61006 | valid - 0.56296 \n",
            "train - 0.61665 | valid - 0.61481 \n",
            "train - 0.61336 | valid - 0.59259 \n",
            "train - 0.62902 | valid - 0.60741 \n",
            "train - 0.60923 | valid - 0.55556 \n",
            "train - 0.61500 | valid - 0.57778 \n",
            "train - 0.61665 | valid - 0.61481 \n",
            "train - 0.64056 | valid - 0.53333 \n",
            "train - 0.62109 | valid - 0.58209 \n",
            "train - 0.61120 | valid - 0.57463 \n",
            "Average accuracy on crossval is  0.58160 \n",
            "Std is 0.02532 \n",
            "CPU times: user 338 ms, sys: 270 ms, total: 608 ms\n",
            "Wall time: 325 ms\n"
          ]
        }
      ]
    },
    {
      "cell_type": "code",
      "metadata": {
        "colab": {
          "base_uri": "https://localhost:8080/"
        },
        "id": "mVKV3KEUV0oQ",
        "outputId": "521cc198-d437-4da8-c127-efb9c490e155"
      },
      "source": [
        "%%time\n",
        "log_reg = LogisticRegression(fit_intercept=False, random_state=21, penalty='none', solver='newton-cg')\n",
        "cv = StratifiedKFold(n_splits=10)\n",
        "print_score(log_reg)"
      ],
      "execution_count": null,
      "outputs": [
        {
          "output_type": "stream",
          "name": "stdout",
          "text": [
            "train - 0.66694 | valid - 0.63704 \n",
            "train - 0.65787 | valid - 0.65926 \n",
            "train - 0.66694 | valid - 0.57778 \n",
            "train - 0.66529 | valid - 0.62963 \n",
            "train - 0.66694 | valid - 0.62222 \n",
            "train - 0.65952 | valid - 0.57778 \n",
            "train - 0.65045 | valid - 0.69630 \n",
            "train - 0.68425 | valid - 0.61481 \n",
            "train - 0.66474 | valid - 0.62687 \n",
            "train - 0.65651 | valid - 0.60448 \n",
            "Average accuracy on crossval is  0.62462 \n",
            "Std is 0.03379 \n",
            "CPU times: user 7.31 s, sys: 3.97 s, total: 11.3 s\n",
            "Wall time: 5.88 s\n"
          ]
        }
      ]
    },
    {
      "cell_type": "markdown",
      "metadata": {
        "id": "bqjT1oDjV0oQ"
      },
      "source": [
        "## 3. SVM regularization"
      ]
    },
    {
      "cell_type": "markdown",
      "metadata": {
        "id": "27WHWmrbV0oR"
      },
      "source": [
        "### a. Default regularization"
      ]
    },
    {
      "cell_type": "markdown",
      "metadata": {
        "id": "-hXwd8FRV0oR"
      },
      "source": [
        "1. Train a baseline model with the only parameters `probability=True`, `kernel='linear'`, `random_state=21`.\n",
        "2. Use stratified K-fold cross-validation with `10` splits to evaluate the accuracy of the model.\n",
        "3. The format of the result of the code where you trained and evaluated the baseline model should be similar to what you have got for the logreg."
      ]
    },
    {
      "cell_type": "code",
      "metadata": {
        "colab": {
          "base_uri": "https://localhost:8080/"
        },
        "id": "UY5xqjqLV0oR",
        "outputId": "582b7609-31ae-4736-f4a2-72fafb94efe0"
      },
      "source": [
        "model_svm = svm.SVC(probability=True, kernel='linear', random_state=21)\n",
        "cv = StratifiedKFold(n_splits=10)\n",
        "print_score(model_svm)"
      ],
      "execution_count": 316,
      "outputs": [
        {
          "output_type": "stream",
          "name": "stdout",
          "text": [
            "train - 0.70486 | valid - 0.65926 \n",
            "train - 0.69662 | valid - 0.75556 \n",
            "train - 0.69415 | valid - 0.62222 \n",
            "train - 0.70239 | valid - 0.65185 \n",
            "train - 0.69085 | valid - 0.65185 \n",
            "train - 0.68920 | valid - 0.64444 \n",
            "train - 0.69250 | valid - 0.72593 \n",
            "train - 0.70074 | valid - 0.62222 \n",
            "train - 0.69605 | valid - 0.61940 \n",
            "train - 0.71087 | valid - 0.63433 \n",
            "Average accuracy on crossval is  0.65871 \n",
            "Std is 0.04359 \n"
          ]
        }
      ]
    },
    {
      "cell_type": "markdown",
      "metadata": {
        "id": "7lYbPmwdV0oR"
      },
      "source": [
        "### b. Optimizing regularization parameters"
      ]
    },
    {
      "cell_type": "markdown",
      "metadata": {
        "id": "4g-w1aCTV0oR"
      },
      "source": [
        "1. In the cells below try different values of the parameter `C`."
      ]
    },
    {
      "cell_type": "code",
      "metadata": {
        "id": "IVacl2bqV0oR",
        "colab": {
          "base_uri": "https://localhost:8080/"
        },
        "outputId": "e5921401-163e-41a8-81d3-6e652425cb8c"
      },
      "source": [
        "model_svm = svm.SVC(probability=True, kernel='linear', random_state=21, C = 10)\n",
        "cv = StratifiedKFold(n_splits=10)\n",
        "print_score(model_svm)"
      ],
      "execution_count": 317,
      "outputs": [
        {
          "output_type": "stream",
          "name": "stdout",
          "text": [
            "train - 0.75021 | valid - 0.72593 \n",
            "train - 0.77741 | valid - 0.82963 \n",
            "train - 0.78566 | valid - 0.68148 \n",
            "train - 0.76834 | valid - 0.73333 \n",
            "train - 0.75185 | valid - 0.77778 \n",
            "train - 0.75598 | valid - 0.68889 \n",
            "train - 0.76257 | valid - 0.74074 \n",
            "train - 0.77411 | valid - 0.68889 \n",
            "train - 0.78254 | valid - 0.71642 \n",
            "train - 0.78418 | valid - 0.69403 \n",
            "Average accuracy on crossval is  0.72771 \n",
            "Std is 0.04417 \n"
          ]
        }
      ]
    },
    {
      "cell_type": "code",
      "metadata": {
        "id": "FQ4D-YN2V0oR",
        "colab": {
          "base_uri": "https://localhost:8080/"
        },
        "outputId": "81fb7b61-177e-4b0c-d477-ba99090c2b8c"
      },
      "source": [
        "model_svm = svm.SVC(probability=True, kernel='linear', random_state=21, C = 50)\n",
        "cv = StratifiedKFold(n_splits=10)\n",
        "print_score(model_svm)"
      ],
      "execution_count": 318,
      "outputs": [
        {
          "output_type": "stream",
          "name": "stdout",
          "text": [
            "train - 0.78318 | valid - 0.75556 \n",
            "train - 0.79720 | valid - 0.83704 \n",
            "train - 0.80709 | valid - 0.72593 \n",
            "train - 0.78236 | valid - 0.76296 \n",
            "train - 0.78483 | valid - 0.77778 \n",
            "train - 0.79637 | valid - 0.74074 \n",
            "train - 0.78236 | valid - 0.77037 \n",
            "train - 0.79967 | valid - 0.72593 \n",
            "train - 0.79407 | valid - 0.70896 \n",
            "train - 0.80066 | valid - 0.73881 \n",
            "Average accuracy on crossval is  0.75441 \n",
            "Std is 0.03438 \n"
          ]
        }
      ]
    },
    {
      "cell_type": "code",
      "metadata": {
        "id": "VtHE8RQrV0oS",
        "colab": {
          "base_uri": "https://localhost:8080/"
        },
        "outputId": "c85fef44-a3e9-4662-b9f1-b421dd56bb4d"
      },
      "source": [
        "model_svm = svm.SVC(probability=True, kernel='linear', random_state=21, C = 90)\n",
        "cv = StratifiedKFold(n_splits=10)\n",
        "print_score(model_svm)"
      ],
      "execution_count": 319,
      "outputs": [
        {
          "output_type": "stream",
          "name": "stdout",
          "text": [
            "train - 0.78401 | valid - 0.74815 \n",
            "train - 0.79720 | valid - 0.83704 \n",
            "train - 0.80874 | valid - 0.72593 \n",
            "train - 0.79060 | valid - 0.76296 \n",
            "train - 0.78895 | valid - 0.77778 \n",
            "train - 0.79720 | valid - 0.74815 \n",
            "train - 0.78401 | valid - 0.77037 \n",
            "train - 0.80297 | valid - 0.72593 \n",
            "train - 0.79819 | valid - 0.70896 \n",
            "train - 0.79984 | valid - 0.73881 \n",
            "Average accuracy on crossval is  0.75441 \n",
            "Std is 0.03422 \n"
          ]
        }
      ]
    },
    {
      "cell_type": "markdown",
      "metadata": {
        "id": "-CxHSalwV0oS"
      },
      "source": [
        "## 4. Tree"
      ]
    },
    {
      "cell_type": "markdown",
      "metadata": {
        "id": "ETeliLKnV0oS"
      },
      "source": [
        "### a. Default regularization"
      ]
    },
    {
      "cell_type": "markdown",
      "metadata": {
        "id": "eMKvBAiQV0oS"
      },
      "source": [
        "1. Train a baseline model with the only parameter `max_depth=10` and `random_state=21`.\n",
        "2. Use stratified K-fold cross-validation with `10` splits to evaluate the accuracy of the model.\n",
        "3. The format of the result of the code where you trained and evaluated the baseline model should be similar to what you have got for the logreg."
      ]
    },
    {
      "cell_type": "code",
      "metadata": {
        "id": "xjF-OEI1V0oS",
        "colab": {
          "base_uri": "https://localhost:8080/"
        },
        "outputId": "38bb902b-ad17-4020-e8c0-7d75b690f470"
      },
      "source": [
        "model_tree = DecisionTreeClassifier(max_depth=10, random_state=21)\n",
        "cv = StratifiedKFold(n_splits=10)\n",
        "print_score(model_tree)"
      ],
      "execution_count": 328,
      "outputs": [
        {
          "output_type": "stream",
          "name": "stdout",
          "text": [
            "train - 0.81039 | valid - 0.74074 \n",
            "train - 0.77741 | valid - 0.74074 \n",
            "train - 0.83347 | valid - 0.70370 \n",
            "train - 0.79720 | valid - 0.76296 \n",
            "train - 0.82440 | valid - 0.75556 \n",
            "train - 0.80379 | valid - 0.68889 \n",
            "train - 0.80709 | valid - 0.76296 \n",
            "train - 0.80132 | valid - 0.65926 \n",
            "train - 0.80807 | valid - 0.75373 \n",
            "train - 0.80478 | valid - 0.68657 \n",
            "Average accuracy on crossval is  0.72551 \n",
            "Std is 0.03562 \n"
          ]
        }
      ]
    },
    {
      "cell_type": "markdown",
      "metadata": {
        "id": "jI-oCH84V0oS"
      },
      "source": [
        "### b. Optimizing regularization parameters"
      ]
    },
    {
      "cell_type": "markdown",
      "metadata": {
        "id": "eksadxJ8V0oS"
      },
      "source": [
        "1. In the cells below try different values of the parameter `max_depth`.\n",
        "2. As a bonus, play with other regularization parameters trying to find the best combination."
      ]
    },
    {
      "cell_type": "code",
      "metadata": {
        "id": "v8pKK15jV0oT",
        "colab": {
          "base_uri": "https://localhost:8080/"
        },
        "outputId": "ac89977c-622c-4591-9bc8-19c893247159"
      },
      "source": [
        "model_tree = DecisionTreeClassifier(max_depth=2, random_state=21)\n",
        "cv = StratifiedKFold(n_splits=10)\n",
        "print_score(model_tree)"
      ],
      "execution_count": 329,
      "outputs": [
        {
          "output_type": "stream",
          "name": "stdout",
          "text": [
            "train - 0.43034 | valid - 0.47407 \n",
            "train - 0.43281 | valid - 0.45185 \n",
            "train - 0.44023 | valid - 0.38519 \n",
            "train - 0.43034 | valid - 0.47407 \n",
            "train - 0.43776 | valid - 0.40741 \n",
            "train - 0.43364 | valid - 0.44444 \n",
            "train - 0.43364 | valid - 0.44444 \n",
            "train - 0.43776 | valid - 0.40741 \n",
            "train - 0.41763 | valid - 0.38806 \n",
            "train - 0.43657 | valid - 0.41791 \n",
            "Average accuracy on crossval is  0.42949 \n",
            "Std is 0.03116 \n"
          ]
        }
      ]
    },
    {
      "cell_type": "code",
      "metadata": {
        "id": "YSklUILBV0oT",
        "colab": {
          "base_uri": "https://localhost:8080/"
        },
        "outputId": "7aeeb1d7-9a03-4f58-ae16-5e024f91b1db"
      },
      "source": [
        "model_tree = DecisionTreeClassifier(max_depth=6, random_state=21)\n",
        "cv = StratifiedKFold(n_splits=10)\n",
        "print_score(model_tree)"
      ],
      "execution_count": 330,
      "outputs": [
        {
          "output_type": "stream",
          "name": "stdout",
          "text": [
            "train - 0.64880 | valid - 0.57778 \n",
            "train - 0.62077 | valid - 0.60000 \n",
            "train - 0.64468 | valid - 0.60000 \n",
            "train - 0.65293 | valid - 0.62222 \n",
            "train - 0.66447 | valid - 0.62963 \n",
            "train - 0.62572 | valid - 0.54074 \n",
            "train - 0.65293 | valid - 0.62963 \n",
            "train - 0.64551 | valid - 0.56296 \n",
            "train - 0.64580 | valid - 0.62687 \n",
            "train - 0.65239 | valid - 0.56716 \n",
            "Average accuracy on crossval is  0.59570 \n",
            "Std is 0.03040 \n"
          ]
        }
      ]
    },
    {
      "cell_type": "code",
      "metadata": {
        "id": "DAvWZgB2V0oT",
        "colab": {
          "base_uri": "https://localhost:8080/"
        },
        "outputId": "d663ab83-aadb-4537-c2f3-8e5aa5f29225"
      },
      "source": [
        "model_tree = DecisionTreeClassifier(max_depth=14, random_state=21)\n",
        "cv = StratifiedKFold(n_splits=10)\n",
        "print_score(model_tree)"
      ],
      "execution_count": 331,
      "outputs": [
        {
          "output_type": "stream",
          "name": "stdout",
          "text": [
            "train - 0.94312 | valid - 0.82963 \n",
            "train - 0.91344 | valid - 0.85185 \n",
            "train - 0.93735 | valid - 0.85185 \n",
            "train - 0.93322 | valid - 0.85926 \n",
            "train - 0.94394 | valid - 0.88889 \n",
            "train - 0.91921 | valid - 0.80741 \n",
            "train - 0.94064 | valid - 0.88889 \n",
            "train - 0.93487 | valid - 0.86667 \n",
            "train - 0.92669 | valid - 0.83582 \n",
            "train - 0.92586 | valid - 0.84328 \n",
            "Average accuracy on crossval is  0.85235 \n",
            "Std is 0.02411 \n"
          ]
        }
      ]
    },
    {
      "cell_type": "code",
      "metadata": {
        "id": "muUbs1tIV0oT",
        "colab": {
          "base_uri": "https://localhost:8080/"
        },
        "outputId": "6517a472-c008-41ce-e97a-8127d8add9c0"
      },
      "source": [
        "model_tree = DecisionTreeClassifier(max_depth=18, random_state=21)\n",
        "cv = StratifiedKFold(n_splits=10)\n",
        "print_score(model_tree)"
      ],
      "execution_count": 332,
      "outputs": [
        {
          "output_type": "stream",
          "name": "stdout",
          "text": [
            "train - 0.98351 | valid - 0.88148 \n",
            "train - 0.97939 | valid - 0.89630 \n",
            "train - 0.97939 | valid - 0.86667 \n",
            "train - 0.98021 | valid - 0.90370 \n",
            "train - 0.98186 | valid - 0.86667 \n",
            "train - 0.97197 | valid - 0.84444 \n",
            "train - 0.97774 | valid - 0.91111 \n",
            "train - 0.98516 | valid - 0.88889 \n",
            "train - 0.98353 | valid - 0.85821 \n",
            "train - 0.97858 | valid - 0.88806 \n",
            "Average accuracy on crossval is  0.88055 \n",
            "Std is 0.02008 \n"
          ]
        }
      ]
    },
    {
      "cell_type": "code",
      "metadata": {
        "id": "cCsX_DBnV0oT",
        "colab": {
          "base_uri": "https://localhost:8080/"
        },
        "outputId": "e28ab995-8b22-4214-dfa2-4e4077bd1b04"
      },
      "source": [
        "model_tree = DecisionTreeClassifier(max_depth=22, random_state=21)\n",
        "cv = StratifiedKFold(n_splits=10)\n",
        "print_score(model_tree)"
      ],
      "execution_count": 333,
      "outputs": [
        {
          "output_type": "stream",
          "name": "stdout",
          "text": [
            "train - 0.99423 | valid - 0.85926 \n",
            "train - 0.99340 | valid - 0.88889 \n",
            "train - 0.99423 | valid - 0.86667 \n",
            "train - 0.99588 | valid - 0.89630 \n",
            "train - 0.99423 | valid - 0.88148 \n",
            "train - 0.99093 | valid - 0.85926 \n",
            "train - 0.99176 | valid - 0.91852 \n",
            "train - 0.99588 | valid - 0.88148 \n",
            "train - 0.99753 | valid - 0.86567 \n",
            "train - 0.99176 | valid - 0.88060 \n",
            "Average accuracy on crossval is  0.87981 \n",
            "Std is 0.01754 \n"
          ]
        }
      ]
    },
    {
      "cell_type": "markdown",
      "metadata": {
        "id": "sOXRYBzxV0oT"
      },
      "source": [
        "## 5. Random forest"
      ]
    },
    {
      "cell_type": "markdown",
      "metadata": {
        "id": "45WGKMhNV0oT"
      },
      "source": [
        "### a. Default regularization"
      ]
    },
    {
      "cell_type": "markdown",
      "metadata": {
        "id": "iVrpwLI5V0oT"
      },
      "source": [
        "1. Train a baseline model with the only parameters `n_estimators=50`, `max_depth=14`, `random_state=21`.\n",
        "2. Use stratified K-fold cross-validation with `10` splits to evaluate the accuracy of the model.\n",
        "3. The format of the result of the code where you trained and evaluated the baseline model should be similar to what you have got for the logreg."
      ]
    },
    {
      "cell_type": "code",
      "metadata": {
        "id": "72bnLUxdV0oT",
        "colab": {
          "base_uri": "https://localhost:8080/"
        },
        "outputId": "4043361a-9b83-4ded-cd70-5fcd3ae62a08"
      },
      "source": [
        "model_random_tree = RandomForestClassifier(n_estimators=50, max_depth=14, random_state=21)\n",
        "cv = StratifiedKFold(n_splits=10)\n",
        "print_score(model_random_tree)"
      ],
      "execution_count": 335,
      "outputs": [
        {
          "output_type": "stream",
          "name": "stdout",
          "text": [
            "train - 0.96455 | valid - 0.88148 \n",
            "train - 0.96208 | valid - 0.91852 \n",
            "train - 0.96785 | valid - 0.86667 \n",
            "train - 0.96455 | valid - 0.89630 \n",
            "train - 0.96538 | valid - 0.91111 \n",
            "train - 0.96538 | valid - 0.88148 \n",
            "train - 0.97115 | valid - 0.91852 \n",
            "train - 0.96867 | valid - 0.85185 \n",
            "train - 0.97364 | valid - 0.88060 \n",
            "train - 0.97941 | valid - 0.86567 \n",
            "Average accuracy on crossval is  0.88722 \n",
            "Std is 0.02204 \n"
          ]
        }
      ]
    },
    {
      "cell_type": "markdown",
      "metadata": {
        "id": "YlpHCX7wV0oU"
      },
      "source": [
        "### b. Optimizing regularization parameters"
      ]
    },
    {
      "cell_type": "markdown",
      "metadata": {
        "id": "yQywq-JbV0oU"
      },
      "source": [
        "1. In the new cells try different values of the parameters `max_depth` and `n_estimators`.\n",
        "2. As a bonus, play with other regularization parameters trying to find the best combination."
      ]
    },
    {
      "cell_type": "code",
      "metadata": {
        "id": "URqg3JMUV0oU",
        "colab": {
          "base_uri": "https://localhost:8080/"
        },
        "outputId": "c38c68c8-d15c-427f-c2e0-fdb31b755716"
      },
      "source": [
        "model_random_tree = RandomForestClassifier(n_estimators=25, max_depth=14, random_state=21)\n",
        "cv = StratifiedKFold(n_splits=10)\n",
        "print_score(model_random_tree)"
      ],
      "execution_count": 336,
      "outputs": [
        {
          "output_type": "stream",
          "name": "stdout",
          "text": [
            "train - 0.96373 | valid - 0.88148 \n",
            "train - 0.94312 | valid - 0.89630 \n",
            "train - 0.95960 | valid - 0.84444 \n",
            "train - 0.95796 | valid - 0.88889 \n",
            "train - 0.96620 | valid - 0.90370 \n",
            "train - 0.96373 | valid - 0.85926 \n",
            "train - 0.96373 | valid - 0.90370 \n",
            "train - 0.95960 | valid - 0.85926 \n",
            "train - 0.96211 | valid - 0.88806 \n",
            "train - 0.96293 | valid - 0.87313 \n",
            "Average accuracy on crossval is  0.87982 \n",
            "Std is 0.01925 \n"
          ]
        }
      ]
    },
    {
      "cell_type": "code",
      "metadata": {
        "id": "Y59zKq8wV0oU",
        "colab": {
          "base_uri": "https://localhost:8080/"
        },
        "outputId": "dcbf69b9-c160-4486-8ac1-95eac2deb15c"
      },
      "source": [
        "model_random_tree = RandomForestClassifier(n_estimators=75, max_depth=14, random_state=21)\n",
        "cv = StratifiedKFold(n_splits=10)\n",
        "print_score(model_random_tree)"
      ],
      "execution_count": 337,
      "outputs": [
        {
          "output_type": "stream",
          "name": "stdout",
          "text": [
            "train - 0.96538 | valid - 0.88148 \n",
            "train - 0.96538 | valid - 0.91111 \n",
            "train - 0.97279 | valid - 0.88148 \n",
            "train - 0.96950 | valid - 0.89630 \n",
            "train - 0.97032 | valid - 0.91111 \n",
            "train - 0.96950 | valid - 0.87407 \n",
            "train - 0.97279 | valid - 0.91111 \n",
            "train - 0.96702 | valid - 0.85926 \n",
            "train - 0.97529 | valid - 0.88060 \n",
            "train - 0.97694 | valid - 0.85821 \n",
            "Average accuracy on crossval is  0.88647 \n",
            "Std is 0.01922 \n"
          ]
        }
      ]
    },
    {
      "cell_type": "code",
      "metadata": {
        "id": "GZx_TzdAV0oU",
        "colab": {
          "base_uri": "https://localhost:8080/"
        },
        "outputId": "ceb6416a-aafb-46bd-f0b9-bbf5028dcbe2"
      },
      "source": [
        "model_random_tree = RandomForestClassifier(n_estimators=50, max_depth=7, random_state=21)\n",
        "cv = StratifiedKFold(n_splits=10)\n",
        "print_score(model_random_tree)"
      ],
      "execution_count": 338,
      "outputs": [
        {
          "output_type": "stream",
          "name": "stdout",
          "text": [
            "train - 0.73042 | valid - 0.65185 \n",
            "train - 0.70899 | valid - 0.72593 \n",
            "train - 0.72383 | valid - 0.62963 \n",
            "train - 0.72795 | valid - 0.67407 \n",
            "train - 0.73619 | valid - 0.71852 \n",
            "train - 0.75433 | valid - 0.68148 \n",
            "train - 0.73124 | valid - 0.74074 \n",
            "train - 0.73372 | valid - 0.62963 \n",
            "train - 0.74629 | valid - 0.67910 \n",
            "train - 0.72076 | valid - 0.65672 \n",
            "Average accuracy on crossval is  0.67877 \n",
            "Std is 0.03703 \n"
          ]
        }
      ]
    },
    {
      "cell_type": "code",
      "metadata": {
        "id": "KcRw0_rOV0oU",
        "colab": {
          "base_uri": "https://localhost:8080/"
        },
        "outputId": "b15b94ff-e4c6-4d55-eee9-cc4e763e45b1"
      },
      "source": [
        "model_random_tree = RandomForestClassifier(n_estimators=50, max_depth=21, random_state=21)\n",
        "cv = StratifiedKFold(n_splits=10)\n",
        "print_score(model_random_tree)"
      ],
      "execution_count": 339,
      "outputs": [
        {
          "output_type": "stream",
          "name": "stdout",
          "text": [
            "train - 0.99670 | valid - 0.88889 \n",
            "train - 0.99835 | valid - 0.95556 \n",
            "train - 0.99835 | valid - 0.88889 \n",
            "train - 0.99835 | valid - 0.91852 \n",
            "train - 0.99753 | valid - 0.91852 \n",
            "train - 0.99753 | valid - 0.89630 \n",
            "train - 0.99753 | valid - 0.91852 \n",
            "train - 0.99835 | valid - 0.90370 \n",
            "train - 0.99835 | valid - 0.93284 \n",
            "train - 0.99753 | valid - 0.85075 \n",
            "Average accuracy on crossval is  0.90725 \n",
            "Std is 0.02714 \n"
          ]
        }
      ]
    },
    {
      "cell_type": "code",
      "metadata": {
        "id": "YeqnLSRnV0oV",
        "colab": {
          "base_uri": "https://localhost:8080/"
        },
        "outputId": "370eb1cd-0c05-40c6-9519-1fc347a1ddd3"
      },
      "source": [
        "model_random_tree = RandomForestClassifier(n_estimators=75, max_depth=21, random_state=21)\n",
        "cv = StratifiedKFold(n_splits=10)\n",
        "print_score(model_random_tree)"
      ],
      "execution_count": 340,
      "outputs": [
        {
          "output_type": "stream",
          "name": "stdout",
          "text": [
            "train - 0.99835 | valid - 0.89630 \n",
            "train - 0.99918 | valid - 0.93333 \n",
            "train - 0.99835 | valid - 0.90370 \n",
            "train - 0.99753 | valid - 0.92593 \n",
            "train - 0.99753 | valid - 0.91852 \n",
            "train - 0.99670 | valid - 0.88889 \n",
            "train - 0.99753 | valid - 0.91852 \n",
            "train - 0.99835 | valid - 0.89630 \n",
            "train - 0.99918 | valid - 0.92537 \n",
            "train - 0.99835 | valid - 0.87313 \n",
            "Average accuracy on crossval is  0.90800 \n",
            "Std is 0.01833 \n"
          ]
        }
      ]
    },
    {
      "cell_type": "markdown",
      "metadata": {
        "id": "VUaVOAe7V0oV"
      },
      "source": [
        "## 6. Predictions"
      ]
    },
    {
      "cell_type": "markdown",
      "metadata": {
        "id": "ACNXpRnMV0oW"
      },
      "source": [
        "1. Choose the best model and use it to make predictions for the test dataset.\n",
        "2. Calculate the final accuracy.\n",
        "3. Analyze: for which weekday your model makes the most errors (in % of the total number of samples of that class in your test dataset).\n",
        "4. Save the model."
      ]
    },
    {
      "cell_type": "code",
      "metadata": {
        "id": "J4Scjfv-V0oW",
        "colab": {
          "base_uri": "https://localhost:8080/"
        },
        "outputId": "ac033b15-27c3-495a-d325-44099dc07743"
      },
      "source": [
        "model_random_tree = RandomForestClassifier(n_estimators=75, max_depth=21, random_state=21)\n",
        "cv = StratifiedKFold(n_splits=10)\n",
        "X_train, X_test, y_train, y_test = train_test_split(X, y, test_size=0.2, random_state=42) \n",
        "model_random_tree.fit(X_train, y_train)\n",
        "y_pred=model_random_tree.predict(X_test)\n",
        "accuracy_score(y_test, y_pred)"
      ],
      "execution_count": 349,
      "outputs": [
        {
          "output_type": "execute_result",
          "data": {
            "text/plain": [
              "0.8994082840236687"
            ]
          },
          "metadata": {},
          "execution_count": 349
        }
      ]
    },
    {
      "cell_type": "code",
      "metadata": {
        "id": "XVJgROe7V0oW",
        "colab": {
          "base_uri": "https://localhost:8080/",
          "height": 333
        },
        "outputId": "238fd019-978a-41ae-f827-88cfbcb72ae9"
      },
      "source": [
        "plot_confusion_matrix(model_random_tree, X_test, y_test)\n",
        "plt.show()"
      ],
      "execution_count": 355,
      "outputs": [
        {
          "output_type": "stream",
          "name": "stderr",
          "text": [
            "/usr/local/lib/python3.7/dist-packages/sklearn/utils/deprecation.py:87: FutureWarning: Function plot_confusion_matrix is deprecated; Function `plot_confusion_matrix` is deprecated in 1.0 and will be removed in 1.2. Use one of the class methods: ConfusionMatrixDisplay.from_predictions or ConfusionMatrixDisplay.from_estimator.\n",
            "  warnings.warn(msg, category=FutureWarning)\n"
          ]
        },
        {
          "output_type": "display_data",
          "data": {
            "image/png": "[encoded data removed]",
            "text/plain": [
              "<Figure size 432x288 with 2 Axes>"
            ]
          },
          "metadata": {
            "needs_background": "light"
          }
        }
      ]
    },
    {
      "cell_type": "code",
      "metadata": {
        "id": "0I3qCXPuV0oW"
      },
      "source": [
        "filename = 'model_random_tree.sav'\n",
        "pickle.dump(model_random_tree, open(filename, 'wb'))"
      ],
      "execution_count": 357,
      "outputs": []
    }
  ]
}