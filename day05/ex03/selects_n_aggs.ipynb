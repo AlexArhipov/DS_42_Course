{
  "nbformat": 4,
  "nbformat_minor": 0,
  "metadata": {
    "colab": {
      "name": "day00.ipynb",
      "provenance": []
    },
    "kernelspec": {
      "name": "python3",
      "display_name": "Python 3"
    },
    "language_info": {
      "name": "python"
    }
  },
  "cells": [
    {
      "cell_type": "code",
      "metadata": {
        "id": "vnwOjIVdJZPz"
      },
      "source": [
        "import pandas as pd"
      ],
      "execution_count": 15,
      "outputs": []
    },
    {
      "cell_type": "code",
      "metadata": {
        "colab": {
          "base_uri": "https://localhost:8080/",
          "height": 450
        },
        "id": "6qmvsR_sKjt4",
        "outputId": "bbc5930a-18c4-421d-b6aa-014884960e02"
      },
      "source": [
        "df = pd.read_json('auto.json', orient='records').set_index('CarNumber')\n",
        "df[df.Fines > 2100]"
      ],
      "execution_count": 22,
      "outputs": [
        {
          "output_type": "execute_result",
          "data": {
            "text/html": [
              "<div>\n",
              "<style scoped>\n",
              "    .dataframe tbody tr th:only-of-type {\n",
              "        vertical-align: middle;\n",
              "    }\n",
              "\n",
              "    .dataframe tbody tr th {\n",
              "        vertical-align: top;\n",
              "    }\n",
              "\n",
              "    .dataframe thead th {\n",
              "        text-align: right;\n",
              "    }\n",
              "</style>\n",
              "<table border=\"1\" class=\"dataframe\">\n",
              "  <thead>\n",
              "    <tr style=\"text-align: right;\">\n",
              "      <th></th>\n",
              "      <th>Refund</th>\n",
              "      <th>Fines</th>\n",
              "      <th>Make</th>\n",
              "      <th>Model</th>\n",
              "    </tr>\n",
              "    <tr>\n",
              "      <th>CarNumber</th>\n",
              "      <th></th>\n",
              "      <th></th>\n",
              "      <th></th>\n",
              "      <th></th>\n",
              "    </tr>\n",
              "  </thead>\n",
              "  <tbody>\n",
              "    <tr>\n",
              "      <th>Y163O8161RUS</th>\n",
              "      <td>2</td>\n",
              "      <td>3200.000000</td>\n",
              "      <td>Ford</td>\n",
              "      <td>Focus</td>\n",
              "    </tr>\n",
              "    <tr>\n",
              "      <th>E432XX77RUS</th>\n",
              "      <td>1</td>\n",
              "      <td>6500.000000</td>\n",
              "      <td>Toyota</td>\n",
              "      <td>Camry</td>\n",
              "    </tr>\n",
              "    <tr>\n",
              "      <th>92918M178RUS</th>\n",
              "      <td>1</td>\n",
              "      <td>5700.000000</td>\n",
              "      <td>Ford</td>\n",
              "      <td>Focus</td>\n",
              "    </tr>\n",
              "    <tr>\n",
              "      <th>H234YH197RUS</th>\n",
              "      <td>2</td>\n",
              "      <td>6000.000000</td>\n",
              "      <td>Ford</td>\n",
              "      <td>Focus</td>\n",
              "    </tr>\n",
              "    <tr>\n",
              "      <th>E40577152RUS</th>\n",
              "      <td>1</td>\n",
              "      <td>8594.586466</td>\n",
              "      <td>Ford</td>\n",
              "      <td>Focus</td>\n",
              "    </tr>\n",
              "    <tr>\n",
              "      <th>...</th>\n",
              "      <td>...</td>\n",
              "      <td>...</td>\n",
              "      <td>...</td>\n",
              "      <td>...</td>\n",
              "    </tr>\n",
              "    <tr>\n",
              "      <th>O718MM163RUS</th>\n",
              "      <td>2</td>\n",
              "      <td>8594.586466</td>\n",
              "      <td>Ford</td>\n",
              "      <td>Focus</td>\n",
              "    </tr>\n",
              "    <tr>\n",
              "      <th>7065C8197RUS</th>\n",
              "      <td>2</td>\n",
              "      <td>11400.000000</td>\n",
              "      <td>Volkswagen</td>\n",
              "      <td>Passat</td>\n",
              "    </tr>\n",
              "    <tr>\n",
              "      <th>O22097197RUS</th>\n",
              "      <td>1</td>\n",
              "      <td>24300.000000</td>\n",
              "      <td>Ford</td>\n",
              "      <td>Focus</td>\n",
              "    </tr>\n",
              "    <tr>\n",
              "      <th>M0309X197RUS</th>\n",
              "      <td>1</td>\n",
              "      <td>22300.000000</td>\n",
              "      <td>Ford</td>\n",
              "      <td>Focus</td>\n",
              "    </tr>\n",
              "    <tr>\n",
              "      <th>H419XE197RUS</th>\n",
              "      <td>2</td>\n",
              "      <td>8594.586466</td>\n",
              "      <td>Toyota</td>\n",
              "      <td>Corolla</td>\n",
              "    </tr>\n",
              "  </tbody>\n",
              "</table>\n",
              "<p>455 rows × 4 columns</p>\n",
              "</div>"
            ],
            "text/plain": [
              "              Refund         Fines        Make    Model\n",
              "CarNumber                                              \n",
              "Y163O8161RUS       2   3200.000000        Ford    Focus\n",
              "E432XX77RUS        1   6500.000000      Toyota    Camry\n",
              "92918M178RUS       1   5700.000000        Ford    Focus\n",
              "H234YH197RUS       2   6000.000000        Ford    Focus\n",
              "E40577152RUS       1   8594.586466        Ford    Focus\n",
              "...              ...           ...         ...      ...\n",
              "O718MM163RUS       2   8594.586466        Ford    Focus\n",
              "7065C8197RUS       2  11400.000000  Volkswagen   Passat\n",
              "O22097197RUS       1  24300.000000        Ford    Focus\n",
              "M0309X197RUS       1  22300.000000        Ford    Focus\n",
              "H419XE197RUS       2   8594.586466      Toyota  Corolla\n",
              "\n",
              "[455 rows x 4 columns]"
            ]
          },
          "metadata": {},
          "execution_count": 22
        }
      ]
    },
    {
      "cell_type": "code",
      "metadata": {
        "colab": {
          "base_uri": "https://localhost:8080/",
          "height": 450
        },
        "id": "PGtF13FTDeV_",
        "outputId": "f3b521e4-73ad-4e69-cd10-4c254cc94f2b"
      },
      "source": [
        "df[(df.Fines > 2100) & (df.Refund == 2)]"
      ],
      "execution_count": 23,
      "outputs": [
        {
          "output_type": "execute_result",
          "data": {
            "text/html": [
              "<div>\n",
              "<style scoped>\n",
              "    .dataframe tbody tr th:only-of-type {\n",
              "        vertical-align: middle;\n",
              "    }\n",
              "\n",
              "    .dataframe tbody tr th {\n",
              "        vertical-align: top;\n",
              "    }\n",
              "\n",
              "    .dataframe thead th {\n",
              "        text-align: right;\n",
              "    }\n",
              "</style>\n",
              "<table border=\"1\" class=\"dataframe\">\n",
              "  <thead>\n",
              "    <tr style=\"text-align: right;\">\n",
              "      <th></th>\n",
              "      <th>Refund</th>\n",
              "      <th>Fines</th>\n",
              "      <th>Make</th>\n",
              "      <th>Model</th>\n",
              "    </tr>\n",
              "    <tr>\n",
              "      <th>CarNumber</th>\n",
              "      <th></th>\n",
              "      <th></th>\n",
              "      <th></th>\n",
              "      <th></th>\n",
              "    </tr>\n",
              "  </thead>\n",
              "  <tbody>\n",
              "    <tr>\n",
              "      <th>Y163O8161RUS</th>\n",
              "      <td>2</td>\n",
              "      <td>3200.000000</td>\n",
              "      <td>Ford</td>\n",
              "      <td>Focus</td>\n",
              "    </tr>\n",
              "    <tr>\n",
              "      <th>H234YH197RUS</th>\n",
              "      <td>2</td>\n",
              "      <td>6000.000000</td>\n",
              "      <td>Ford</td>\n",
              "      <td>Focus</td>\n",
              "    </tr>\n",
              "    <tr>\n",
              "      <th>707987163RUS</th>\n",
              "      <td>2</td>\n",
              "      <td>2200.000000</td>\n",
              "      <td>Ford</td>\n",
              "      <td>Focus</td>\n",
              "    </tr>\n",
              "    <tr>\n",
              "      <th>K330T8197RUS</th>\n",
              "      <td>2</td>\n",
              "      <td>8200.000000</td>\n",
              "      <td>Skoda</td>\n",
              "      <td>Octavia</td>\n",
              "    </tr>\n",
              "    <tr>\n",
              "      <th>M592CH197RUS</th>\n",
              "      <td>2</td>\n",
              "      <td>8594.586466</td>\n",
              "      <td>Skoda</td>\n",
              "      <td>Octavia</td>\n",
              "    </tr>\n",
              "    <tr>\n",
              "      <th>...</th>\n",
              "      <td>...</td>\n",
              "      <td>...</td>\n",
              "      <td>...</td>\n",
              "      <td>...</td>\n",
              "    </tr>\n",
              "    <tr>\n",
              "      <th>O136HO197RUS</th>\n",
              "      <td>2</td>\n",
              "      <td>7800.000000</td>\n",
              "      <td>Toyota</td>\n",
              "      <td>Corolla</td>\n",
              "    </tr>\n",
              "    <tr>\n",
              "      <th>O68897197RUS</th>\n",
              "      <td>2</td>\n",
              "      <td>12300.000000</td>\n",
              "      <td>Ford</td>\n",
              "      <td>Focus</td>\n",
              "    </tr>\n",
              "    <tr>\n",
              "      <th>O718MM163RUS</th>\n",
              "      <td>2</td>\n",
              "      <td>8594.586466</td>\n",
              "      <td>Ford</td>\n",
              "      <td>Focus</td>\n",
              "    </tr>\n",
              "    <tr>\n",
              "      <th>7065C8197RUS</th>\n",
              "      <td>2</td>\n",
              "      <td>11400.000000</td>\n",
              "      <td>Volkswagen</td>\n",
              "      <td>Passat</td>\n",
              "    </tr>\n",
              "    <tr>\n",
              "      <th>H419XE197RUS</th>\n",
              "      <td>2</td>\n",
              "      <td>8594.586466</td>\n",
              "      <td>Toyota</td>\n",
              "      <td>Corolla</td>\n",
              "    </tr>\n",
              "  </tbody>\n",
              "</table>\n",
              "<p>309 rows × 4 columns</p>\n",
              "</div>"
            ],
            "text/plain": [
              "              Refund         Fines        Make    Model\n",
              "CarNumber                                              \n",
              "Y163O8161RUS       2   3200.000000        Ford    Focus\n",
              "H234YH197RUS       2   6000.000000        Ford    Focus\n",
              "707987163RUS       2   2200.000000        Ford    Focus\n",
              "K330T8197RUS       2   8200.000000       Skoda  Octavia\n",
              "M592CH197RUS       2   8594.586466       Skoda  Octavia\n",
              "...              ...           ...         ...      ...\n",
              "O136HO197RUS       2   7800.000000      Toyota  Corolla\n",
              "O68897197RUS       2  12300.000000        Ford    Focus\n",
              "O718MM163RUS       2   8594.586466        Ford    Focus\n",
              "7065C8197RUS       2  11400.000000  Volkswagen   Passat\n",
              "H419XE197RUS       2   8594.586466      Toyota  Corolla\n",
              "\n",
              "[309 rows x 4 columns]"
            ]
          },
          "metadata": {},
          "execution_count": 23
        }
      ]
    },
    {
      "cell_type": "code",
      "metadata": {
        "colab": {
          "base_uri": "https://localhost:8080/",
          "height": 450
        },
        "id": "cjy9TBUGSu1F",
        "outputId": "894212a3-9a65-4d16-9739-ebceef5e75e6"
      },
      "source": [
        "labels = ['Focus', 'Corolla']\n",
        "df[df.Model.isin(labels)]"
      ],
      "execution_count": 27,
      "outputs": [
        {
          "output_type": "execute_result",
          "data": {
            "text/html": [
              "<div>\n",
              "<style scoped>\n",
              "    .dataframe tbody tr th:only-of-type {\n",
              "        vertical-align: middle;\n",
              "    }\n",
              "\n",
              "    .dataframe tbody tr th {\n",
              "        vertical-align: top;\n",
              "    }\n",
              "\n",
              "    .dataframe thead th {\n",
              "        text-align: right;\n",
              "    }\n",
              "</style>\n",
              "<table border=\"1\" class=\"dataframe\">\n",
              "  <thead>\n",
              "    <tr style=\"text-align: right;\">\n",
              "      <th></th>\n",
              "      <th>Refund</th>\n",
              "      <th>Fines</th>\n",
              "      <th>Make</th>\n",
              "      <th>Model</th>\n",
              "    </tr>\n",
              "    <tr>\n",
              "      <th>CarNumber</th>\n",
              "      <th></th>\n",
              "      <th></th>\n",
              "      <th></th>\n",
              "      <th></th>\n",
              "    </tr>\n",
              "  </thead>\n",
              "  <tbody>\n",
              "    <tr>\n",
              "      <th>Y163O8161RUS</th>\n",
              "      <td>2</td>\n",
              "      <td>3200.000000</td>\n",
              "      <td>Ford</td>\n",
              "      <td>Focus</td>\n",
              "    </tr>\n",
              "    <tr>\n",
              "      <th>7184TT36RUS</th>\n",
              "      <td>1</td>\n",
              "      <td>2100.000000</td>\n",
              "      <td>Ford</td>\n",
              "      <td>Focus</td>\n",
              "    </tr>\n",
              "    <tr>\n",
              "      <th>X582HE161RUS</th>\n",
              "      <td>2</td>\n",
              "      <td>2000.000000</td>\n",
              "      <td>Ford</td>\n",
              "      <td>Focus</td>\n",
              "    </tr>\n",
              "    <tr>\n",
              "      <th>92918M178RUS</th>\n",
              "      <td>1</td>\n",
              "      <td>5700.000000</td>\n",
              "      <td>Ford</td>\n",
              "      <td>Focus</td>\n",
              "    </tr>\n",
              "    <tr>\n",
              "      <th>H234YH197RUS</th>\n",
              "      <td>2</td>\n",
              "      <td>6000.000000</td>\n",
              "      <td>Ford</td>\n",
              "      <td>Focus</td>\n",
              "    </tr>\n",
              "    <tr>\n",
              "      <th>...</th>\n",
              "      <td>...</td>\n",
              "      <td>...</td>\n",
              "      <td>...</td>\n",
              "      <td>...</td>\n",
              "    </tr>\n",
              "    <tr>\n",
              "      <th>Y163O8161RUS</th>\n",
              "      <td>2</td>\n",
              "      <td>1600.000000</td>\n",
              "      <td>Ford</td>\n",
              "      <td>Focus</td>\n",
              "    </tr>\n",
              "    <tr>\n",
              "      <th>M0309X197RUS</th>\n",
              "      <td>1</td>\n",
              "      <td>22300.000000</td>\n",
              "      <td>Ford</td>\n",
              "      <td>Focus</td>\n",
              "    </tr>\n",
              "    <tr>\n",
              "      <th>O673E8197RUS</th>\n",
              "      <td>2</td>\n",
              "      <td>600.000000</td>\n",
              "      <td>Ford</td>\n",
              "      <td>Focus</td>\n",
              "    </tr>\n",
              "    <tr>\n",
              "      <th>8610T8154RUS</th>\n",
              "      <td>1</td>\n",
              "      <td>2000.000000</td>\n",
              "      <td>Ford</td>\n",
              "      <td>Focus</td>\n",
              "    </tr>\n",
              "    <tr>\n",
              "      <th>H419XE197RUS</th>\n",
              "      <td>2</td>\n",
              "      <td>8594.586466</td>\n",
              "      <td>Toyota</td>\n",
              "      <td>Corolla</td>\n",
              "    </tr>\n",
              "  </tbody>\n",
              "</table>\n",
              "<p>593 rows × 4 columns</p>\n",
              "</div>"
            ],
            "text/plain": [
              "              Refund         Fines    Make    Model\n",
              "CarNumber                                          \n",
              "Y163O8161RUS       2   3200.000000    Ford    Focus\n",
              "7184TT36RUS        1   2100.000000    Ford    Focus\n",
              "X582HE161RUS       2   2000.000000    Ford    Focus\n",
              "92918M178RUS       1   5700.000000    Ford    Focus\n",
              "H234YH197RUS       2   6000.000000    Ford    Focus\n",
              "...              ...           ...     ...      ...\n",
              "Y163O8161RUS       2   1600.000000    Ford    Focus\n",
              "M0309X197RUS       1  22300.000000    Ford    Focus\n",
              "O673E8197RUS       2    600.000000    Ford    Focus\n",
              "8610T8154RUS       1   2000.000000    Ford    Focus\n",
              "H419XE197RUS       2   8594.586466  Toyota  Corolla\n",
              "\n",
              "[593 rows x 4 columns]"
            ]
          },
          "metadata": {},
          "execution_count": 27
        }
      ]
    },
    {
      "cell_type": "code",
      "metadata": {
        "id": "m2HjuYNaP8C-",
        "colab": {
          "base_uri": "https://localhost:8080/",
          "height": 638
        },
        "outputId": "e3113432-6913-4783-a51c-00d477bde0a8"
      },
      "source": [
        "labels = ['Y7689C197RUS','92928M178RUS', '7788KT197RUS', 'H115YO163RUS', 'X758HY197RUS']\n",
        "df[df.index.isin(labels)]"
      ],
      "execution_count": 29,
      "outputs": [
        {
          "output_type": "execute_result",
          "data": {
            "text/html": [
              "<div>\n",
              "<style scoped>\n",
              "    .dataframe tbody tr th:only-of-type {\n",
              "        vertical-align: middle;\n",
              "    }\n",
              "\n",
              "    .dataframe tbody tr th {\n",
              "        vertical-align: top;\n",
              "    }\n",
              "\n",
              "    .dataframe thead th {\n",
              "        text-align: right;\n",
              "    }\n",
              "</style>\n",
              "<table border=\"1\" class=\"dataframe\">\n",
              "  <thead>\n",
              "    <tr style=\"text-align: right;\">\n",
              "      <th></th>\n",
              "      <th>Refund</th>\n",
              "      <th>Fines</th>\n",
              "      <th>Make</th>\n",
              "      <th>Model</th>\n",
              "    </tr>\n",
              "    <tr>\n",
              "      <th>CarNumber</th>\n",
              "      <th></th>\n",
              "      <th></th>\n",
              "      <th></th>\n",
              "      <th></th>\n",
              "    </tr>\n",
              "  </thead>\n",
              "  <tbody>\n",
              "    <tr>\n",
              "      <th>92928M178RUS</th>\n",
              "      <td>1</td>\n",
              "      <td>8594.586466</td>\n",
              "      <td>Ford</td>\n",
              "      <td>Focus</td>\n",
              "    </tr>\n",
              "    <tr>\n",
              "      <th>H115YO163RUS</th>\n",
              "      <td>1</td>\n",
              "      <td>2200.000000</td>\n",
              "      <td>Ford</td>\n",
              "      <td>Focus</td>\n",
              "    </tr>\n",
              "    <tr>\n",
              "      <th>7788KT197RUS</th>\n",
              "      <td>2</td>\n",
              "      <td>12000.000000</td>\n",
              "      <td>Ford</td>\n",
              "      <td>Focus</td>\n",
              "    </tr>\n",
              "    <tr>\n",
              "      <th>X758HY197RUS</th>\n",
              "      <td>2</td>\n",
              "      <td>24200.000000</td>\n",
              "      <td>Ford</td>\n",
              "      <td>Focus</td>\n",
              "    </tr>\n",
              "    <tr>\n",
              "      <th>X758HY197RUS</th>\n",
              "      <td>2</td>\n",
              "      <td>72600.000000</td>\n",
              "      <td>Ford</td>\n",
              "      <td>Focus</td>\n",
              "    </tr>\n",
              "    <tr>\n",
              "      <th>Y7689C197RUS</th>\n",
              "      <td>1</td>\n",
              "      <td>27000.000000</td>\n",
              "      <td>Ford</td>\n",
              "      <td>Focus</td>\n",
              "    </tr>\n",
              "    <tr>\n",
              "      <th>92928M178RUS</th>\n",
              "      <td>1</td>\n",
              "      <td>600.000000</td>\n",
              "      <td>Ford</td>\n",
              "      <td>Focus</td>\n",
              "    </tr>\n",
              "    <tr>\n",
              "      <th>H115YO163RUS</th>\n",
              "      <td>1</td>\n",
              "      <td>8594.586466</td>\n",
              "      <td>Ford</td>\n",
              "      <td>Focus</td>\n",
              "    </tr>\n",
              "    <tr>\n",
              "      <th>H115YO163RUS</th>\n",
              "      <td>2</td>\n",
              "      <td>1100.000000</td>\n",
              "      <td>Ford</td>\n",
              "      <td>Focus</td>\n",
              "    </tr>\n",
              "    <tr>\n",
              "      <th>7788KT197RUS</th>\n",
              "      <td>2</td>\n",
              "      <td>8594.586466</td>\n",
              "      <td>Ford</td>\n",
              "      <td>Focus</td>\n",
              "    </tr>\n",
              "    <tr>\n",
              "      <th>7788KT197RUS</th>\n",
              "      <td>1</td>\n",
              "      <td>20000.000000</td>\n",
              "      <td>Ford</td>\n",
              "      <td>Focus</td>\n",
              "    </tr>\n",
              "    <tr>\n",
              "      <th>X758HY197RUS</th>\n",
              "      <td>2</td>\n",
              "      <td>145200.000000</td>\n",
              "      <td>Ford</td>\n",
              "      <td>Focus</td>\n",
              "    </tr>\n",
              "    <tr>\n",
              "      <th>92928M178RUS</th>\n",
              "      <td>1</td>\n",
              "      <td>1200.000000</td>\n",
              "      <td>Ford</td>\n",
              "      <td>Focus</td>\n",
              "    </tr>\n",
              "    <tr>\n",
              "      <th>Y7689C197RUS</th>\n",
              "      <td>2</td>\n",
              "      <td>9000.000000</td>\n",
              "      <td>Ford</td>\n",
              "      <td>Focus</td>\n",
              "    </tr>\n",
              "    <tr>\n",
              "      <th>Y7689C197RUS</th>\n",
              "      <td>2</td>\n",
              "      <td>45000.000000</td>\n",
              "      <td>Ford</td>\n",
              "      <td>Focus</td>\n",
              "    </tr>\n",
              "    <tr>\n",
              "      <th>7788KT197RUS</th>\n",
              "      <td>2</td>\n",
              "      <td>4000.000000</td>\n",
              "      <td>Ford</td>\n",
              "      <td>Focus</td>\n",
              "    </tr>\n",
              "    <tr>\n",
              "      <th>Y7689C197RUS</th>\n",
              "      <td>1</td>\n",
              "      <td>36000.000000</td>\n",
              "      <td>Ford</td>\n",
              "      <td>Focus</td>\n",
              "    </tr>\n",
              "    <tr>\n",
              "      <th>92928M178RUS</th>\n",
              "      <td>2</td>\n",
              "      <td>3000.000000</td>\n",
              "      <td>Ford</td>\n",
              "      <td>Focus</td>\n",
              "    </tr>\n",
              "  </tbody>\n",
              "</table>\n",
              "</div>"
            ],
            "text/plain": [
              "              Refund          Fines  Make  Model\n",
              "CarNumber                                       \n",
              "92928M178RUS       1    8594.586466  Ford  Focus\n",
              "H115YO163RUS       1    2200.000000  Ford  Focus\n",
              "7788KT197RUS       2   12000.000000  Ford  Focus\n",
              "X758HY197RUS       2   24200.000000  Ford  Focus\n",
              "X758HY197RUS       2   72600.000000  Ford  Focus\n",
              "Y7689C197RUS       1   27000.000000  Ford  Focus\n",
              "92928M178RUS       1     600.000000  Ford  Focus\n",
              "H115YO163RUS       1    8594.586466  Ford  Focus\n",
              "H115YO163RUS       2    1100.000000  Ford  Focus\n",
              "7788KT197RUS       2    8594.586466  Ford  Focus\n",
              "7788KT197RUS       1   20000.000000  Ford  Focus\n",
              "X758HY197RUS       2  145200.000000  Ford  Focus\n",
              "92928M178RUS       1    1200.000000  Ford  Focus\n",
              "Y7689C197RUS       2    9000.000000  Ford  Focus\n",
              "Y7689C197RUS       2   45000.000000  Ford  Focus\n",
              "7788KT197RUS       2    4000.000000  Ford  Focus\n",
              "Y7689C197RUS       1   36000.000000  Ford  Focus\n",
              "92928M178RUS       2    3000.000000  Ford  Focus"
            ]
          },
          "metadata": {},
          "execution_count": 29
        }
      ]
    },
    {
      "cell_type": "code",
      "metadata": {
        "colab": {
          "base_uri": "https://localhost:8080/"
        },
        "id": "yvVCxgxHQ67n",
        "outputId": "8bd16161-1c0a-4e27-9657-2512d0b921b8"
      },
      "source": [
        "df.groupby(['Make']).median()['Fines']"
      ],
      "execution_count": 31,
      "outputs": [
        {
          "output_type": "execute_result",
          "data": {
            "text/plain": [
              "Make\n",
              "Audi          4200.0\n",
              "BMW           6500.0\n",
              "Ford          3500.0\n",
              "Skoda         3250.0\n",
              "Toyota        7700.0\n",
              "Volkswagen    4300.0\n",
              "Volvo         8500.0\n",
              "Name: Fines, dtype: float64"
            ]
          },
          "metadata": {},
          "execution_count": 31
        }
      ]
    },
    {
      "cell_type": "code",
      "metadata": {
        "colab": {
          "base_uri": "https://localhost:8080/"
        },
        "id": "cUa7UMGPVHax",
        "outputId": "16ce63da-c36d-4362-c71f-6567c082df16"
      },
      "source": [
        "df.groupby(['Make', 'Model']).median()['Fines']"
      ],
      "execution_count": 32,
      "outputs": [
        {
          "output_type": "execute_result",
          "data": {
            "text/plain": [
              "Make        Model  \n",
              "Ford        Focus      3500.0\n",
              "            Mondeo     7650.0\n",
              "Skoda       Octavia    3250.0\n",
              "Toyota      Camry      7700.0\n",
              "            Corolla    7700.0\n",
              "Volkswagen  Golf       4800.0\n",
              "            Jetta      2800.0\n",
              "            Passat     3500.0\n",
              "            Touareg    5800.0\n",
              "Name: Fines, dtype: float64"
            ]
          },
          "metadata": {},
          "execution_count": 32
        }
      ]
    },
    {
      "cell_type": "code",
      "metadata": {
        "id": "Sl8FSRl9YXhZ",
        "colab": {
          "base_uri": "https://localhost:8080/"
        },
        "outputId": "bd2ad2c9-31ed-4264-ddc3-2f5a8ef76822"
      },
      "source": [
        "df.groupby(['Make', 'Model']).count()['Fines']"
      ],
      "execution_count": 33,
      "outputs": [
        {
          "output_type": "execute_result",
          "data": {
            "text/plain": [
              "Make        Model  \n",
              "Ford        Focus      575\n",
              "            Mondeo       6\n",
              "Skoda       Octavia     48\n",
              "Toyota      Camry       16\n",
              "            Corolla     18\n",
              "Volkswagen  Golf        20\n",
              "            Jetta        6\n",
              "            Passat      22\n",
              "            Touareg      5\n",
              "Name: Fines, dtype: int64"
            ]
          },
          "metadata": {},
          "execution_count": 33
        }
      ]
    },
    {
      "cell_type": "code",
      "metadata": {
        "colab": {
          "base_uri": "https://localhost:8080/"
        },
        "id": "lNhjitKdWmzD",
        "outputId": "2e3df51f-19b1-4009-e406-ba7d48b2dcab"
      },
      "source": [
        "df.groupby(['Make', 'Model']).min()['Fines']"
      ],
      "execution_count": 34,
      "outputs": [
        {
          "output_type": "execute_result",
          "data": {
            "text/plain": [
              "Make        Model  \n",
              "Ford        Focus       100.0\n",
              "            Mondeo     1100.0\n",
              "Skoda       Octavia     300.0\n",
              "Toyota      Camry       500.0\n",
              "            Corolla     900.0\n",
              "Volkswagen  Golf        200.0\n",
              "            Jetta       500.0\n",
              "            Passat      100.0\n",
              "            Touareg     500.0\n",
              "Name: Fines, dtype: float64"
            ]
          },
          "metadata": {},
          "execution_count": 34
        }
      ]
    },
    {
      "cell_type": "code",
      "metadata": {
        "id": "ojvSFrxDYFAI",
        "colab": {
          "base_uri": "https://localhost:8080/"
        },
        "outputId": "f84a8d04-6acc-4fb8-ce48-865e1096c84d"
      },
      "source": [
        "df.groupby(['Make', 'Model']).max()['Fines']"
      ],
      "execution_count": 35,
      "outputs": [
        {
          "output_type": "execute_result",
          "data": {
            "text/plain": [
              "Make        Model  \n",
              "Ford        Focus      180000.000000\n",
              "            Mondeo      46200.000000\n",
              "Skoda       Octavia    145000.000000\n",
              "Toyota      Camry       22400.000000\n",
              "            Corolla     34300.000000\n",
              "Volkswagen  Golf       168000.000000\n",
              "            Jetta       46000.000000\n",
              "            Passat      29700.000000\n",
              "            Touareg      8594.586466\n",
              "Name: Fines, dtype: float64"
            ]
          },
          "metadata": {},
          "execution_count": 35
        }
      ]
    },
    {
      "cell_type": "code",
      "metadata": {
        "colab": {
          "base_uri": "https://localhost:8080/"
        },
        "id": "cQF_V4e8Z7V_",
        "outputId": "06b2a389-6760-460a-a6dd-a8ca267f50f3"
      },
      "source": [
        "df.groupby(['Make', 'Model']).std()['Fines']"
      ],
      "execution_count": 36,
      "outputs": [
        {
          "output_type": "execute_result",
          "data": {
            "text/plain": [
              "Make        Model  \n",
              "Ford        Focus      15041.269437\n",
              "            Mondeo     18987.329108\n",
              "Skoda       Octavia    24339.742174\n",
              "Toyota      Camry       6410.250654\n",
              "            Corolla     9629.325617\n",
              "Volkswagen  Golf       36950.839950\n",
              "            Jetta      17743.026799\n",
              "            Passat      6969.739135\n",
              "            Touareg     3461.778173\n",
              "Name: Fines, dtype: float64"
            ]
          },
          "metadata": {},
          "execution_count": 36
        }
      ]
    },
    {
      "cell_type": "code",
      "metadata": {
        "id": "Djf_SK_UarhE",
        "colab": {
          "base_uri": "https://localhost:8080/"
        },
        "outputId": "3f9046a4-ca48-4e82-f9dc-b9b560dc340f"
      },
      "source": [
        "# df.groupby([df.index]).count()['Fines']\n",
        "ds = df.groupby([df.index]).Fines.count().sort_values(ascending=False)\n",
        "ds"
      ],
      "execution_count": 57,
      "outputs": [
        {
          "output_type": "execute_result",
          "data": {
            "text/plain": [
              "CarNumber\n",
              "Y7689C197RUS    4\n",
              "92928M178RUS    4\n",
              "7788KT197RUS    4\n",
              "M0299X197RUS    3\n",
              "O718MM163RUS    3\n",
              "               ..\n",
              "M680T9152RUS    1\n",
              "M6977E152RUS    1\n",
              "M701T9152RUS    1\n",
              "M741T9152RUS    1\n",
              "704687163RUS    1\n",
              "Name: Fines, Length: 531, dtype: int64"
            ]
          },
          "metadata": {},
          "execution_count": 57
        }
      ]
    },
    {
      "cell_type": "code",
      "metadata": {
        "colab": {
          "base_uri": "https://localhost:8080/",
          "height": 204
        },
        "id": "PuysTWO5ctBm",
        "outputId": "84d2041d-87b6-4aa0-c6d8-03429b0322b0"
      },
      "source": [
        "df[df.index == ds.index[0]]"
      ],
      "execution_count": 79,
      "outputs": [
        {
          "output_type": "execute_result",
          "data": {
            "text/html": [
              "<div>\n",
              "<style scoped>\n",
              "    .dataframe tbody tr th:only-of-type {\n",
              "        vertical-align: middle;\n",
              "    }\n",
              "\n",
              "    .dataframe tbody tr th {\n",
              "        vertical-align: top;\n",
              "    }\n",
              "\n",
              "    .dataframe thead th {\n",
              "        text-align: right;\n",
              "    }\n",
              "</style>\n",
              "<table border=\"1\" class=\"dataframe\">\n",
              "  <thead>\n",
              "    <tr style=\"text-align: right;\">\n",
              "      <th></th>\n",
              "      <th>Refund</th>\n",
              "      <th>Fines</th>\n",
              "      <th>Make</th>\n",
              "      <th>Model</th>\n",
              "    </tr>\n",
              "    <tr>\n",
              "      <th>CarNumber</th>\n",
              "      <th></th>\n",
              "      <th></th>\n",
              "      <th></th>\n",
              "      <th></th>\n",
              "    </tr>\n",
              "  </thead>\n",
              "  <tbody>\n",
              "    <tr>\n",
              "      <th>Y7689C197RUS</th>\n",
              "      <td>1</td>\n",
              "      <td>27000.0</td>\n",
              "      <td>Ford</td>\n",
              "      <td>Focus</td>\n",
              "    </tr>\n",
              "    <tr>\n",
              "      <th>Y7689C197RUS</th>\n",
              "      <td>2</td>\n",
              "      <td>9000.0</td>\n",
              "      <td>Ford</td>\n",
              "      <td>Focus</td>\n",
              "    </tr>\n",
              "    <tr>\n",
              "      <th>Y7689C197RUS</th>\n",
              "      <td>2</td>\n",
              "      <td>45000.0</td>\n",
              "      <td>Ford</td>\n",
              "      <td>Focus</td>\n",
              "    </tr>\n",
              "    <tr>\n",
              "      <th>Y7689C197RUS</th>\n",
              "      <td>1</td>\n",
              "      <td>36000.0</td>\n",
              "      <td>Ford</td>\n",
              "      <td>Focus</td>\n",
              "    </tr>\n",
              "  </tbody>\n",
              "</table>\n",
              "</div>"
            ],
            "text/plain": [
              "              Refund    Fines  Make  Model\n",
              "CarNumber                                 \n",
              "Y7689C197RUS       1  27000.0  Ford  Focus\n",
              "Y7689C197RUS       2   9000.0  Ford  Focus\n",
              "Y7689C197RUS       2  45000.0  Ford  Focus\n",
              "Y7689C197RUS       1  36000.0  Ford  Focus"
            ]
          },
          "metadata": {},
          "execution_count": 79
        }
      ]
    },
    {
      "cell_type": "code",
      "metadata": {
        "colab": {
          "base_uri": "https://localhost:8080/"
        },
        "id": "F0vrRdiQeTmj",
        "outputId": "db398f7b-2f25-426f-e2d5-6a57a8ae4827"
      },
      "source": [
        "ds = df.groupby([df.index]).Fines.sum().sort_values(ascending=False)\n",
        "ds"
      ],
      "execution_count": 82,
      "outputs": [
        {
          "output_type": "execute_result",
          "data": {
            "text/plain": [
              "CarNumber\n",
              "X758HY197RUS    242000.0\n",
              "9020YC197RUS    217500.0\n",
              "M0279X197RUS    216000.0\n",
              "Y352O8197RUS    207200.0\n",
              "Y778EE197RUS    192000.0\n",
              "                  ...   \n",
              "83218C154RUS       100.0\n",
              "Y166O8161RUS       100.0\n",
              "705787163RUS       100.0\n",
              "C58078163RUS       100.0\n",
              "Y195O8161RUS       100.0\n",
              "Name: Fines, Length: 531, dtype: float64"
            ]
          },
          "metadata": {},
          "execution_count": 82
        }
      ]
    },
    {
      "cell_type": "code",
      "metadata": {
        "id": "mKyc283wwM8V",
        "colab": {
          "base_uri": "https://localhost:8080/",
          "height": 173
        },
        "outputId": "f77e5472-bbff-4da5-b203-61e421c64537"
      },
      "source": [
        "df[df.index == ds.index[0]]"
      ],
      "execution_count": 83,
      "outputs": [
        {
          "output_type": "execute_result",
          "data": {
            "text/html": [
              "<div>\n",
              "<style scoped>\n",
              "    .dataframe tbody tr th:only-of-type {\n",
              "        vertical-align: middle;\n",
              "    }\n",
              "\n",
              "    .dataframe tbody tr th {\n",
              "        vertical-align: top;\n",
              "    }\n",
              "\n",
              "    .dataframe thead th {\n",
              "        text-align: right;\n",
              "    }\n",
              "</style>\n",
              "<table border=\"1\" class=\"dataframe\">\n",
              "  <thead>\n",
              "    <tr style=\"text-align: right;\">\n",
              "      <th></th>\n",
              "      <th>Refund</th>\n",
              "      <th>Fines</th>\n",
              "      <th>Make</th>\n",
              "      <th>Model</th>\n",
              "    </tr>\n",
              "    <tr>\n",
              "      <th>CarNumber</th>\n",
              "      <th></th>\n",
              "      <th></th>\n",
              "      <th></th>\n",
              "      <th></th>\n",
              "    </tr>\n",
              "  </thead>\n",
              "  <tbody>\n",
              "    <tr>\n",
              "      <th>X758HY197RUS</th>\n",
              "      <td>2</td>\n",
              "      <td>24200.0</td>\n",
              "      <td>Ford</td>\n",
              "      <td>Focus</td>\n",
              "    </tr>\n",
              "    <tr>\n",
              "      <th>X758HY197RUS</th>\n",
              "      <td>2</td>\n",
              "      <td>72600.0</td>\n",
              "      <td>Ford</td>\n",
              "      <td>Focus</td>\n",
              "    </tr>\n",
              "    <tr>\n",
              "      <th>X758HY197RUS</th>\n",
              "      <td>2</td>\n",
              "      <td>145200.0</td>\n",
              "      <td>Ford</td>\n",
              "      <td>Focus</td>\n",
              "    </tr>\n",
              "  </tbody>\n",
              "</table>\n",
              "</div>"
            ],
            "text/plain": [
              "              Refund     Fines  Make  Model\n",
              "CarNumber                                  \n",
              "X758HY197RUS       2   24200.0  Ford  Focus\n",
              "X758HY197RUS       2   72600.0  Ford  Focus\n",
              "X758HY197RUS       2  145200.0  Ford  Focus"
            ]
          },
          "metadata": {},
          "execution_count": 83
        }
      ]
    },
    {
      "cell_type": "code",
      "metadata": {
        "colab": {
          "base_uri": "https://localhost:8080/",
          "height": 142
        },
        "id": "oabZnPN9XT1J",
        "outputId": "0d71d984-e8da-4f47-e545-e021e8a38df8"
      },
      "source": [
        "ds  = df.reset_index()\n",
        "ds = ds.drop_duplicates(['CarNumber' ,'Model'])\n",
        "new = ds.groupby('CarNumber').Make.count().sort_values(ascending=False)\n",
        "df[df.index == new.index[0]]"
      ],
      "execution_count": 187,
      "outputs": [
        {
          "output_type": "execute_result",
          "data": {
            "text/html": [
              "<div>\n",
              "<style scoped>\n",
              "    .dataframe tbody tr th:only-of-type {\n",
              "        vertical-align: middle;\n",
              "    }\n",
              "\n",
              "    .dataframe tbody tr th {\n",
              "        vertical-align: top;\n",
              "    }\n",
              "\n",
              "    .dataframe thead th {\n",
              "        text-align: right;\n",
              "    }\n",
              "</style>\n",
              "<table border=\"1\" class=\"dataframe\">\n",
              "  <thead>\n",
              "    <tr style=\"text-align: right;\">\n",
              "      <th></th>\n",
              "      <th>Refund</th>\n",
              "      <th>Fines</th>\n",
              "      <th>Make</th>\n",
              "      <th>Model</th>\n",
              "    </tr>\n",
              "    <tr>\n",
              "      <th>CarNumber</th>\n",
              "      <th></th>\n",
              "      <th></th>\n",
              "      <th></th>\n",
              "      <th></th>\n",
              "    </tr>\n",
              "  </thead>\n",
              "  <tbody>\n",
              "    <tr>\n",
              "      <th>E316EH197RUS</th>\n",
              "      <td>1</td>\n",
              "      <td>1300.0</td>\n",
              "      <td>Volkswagen</td>\n",
              "      <td>None</td>\n",
              "    </tr>\n",
              "    <tr>\n",
              "      <th>E316EH197RUS</th>\n",
              "      <td>1</td>\n",
              "      <td>1300.0</td>\n",
              "      <td>Volkswagen</td>\n",
              "      <td>Touareg</td>\n",
              "    </tr>\n",
              "  </tbody>\n",
              "</table>\n",
              "</div>"
            ],
            "text/plain": [
              "              Refund   Fines        Make    Model\n",
              "CarNumber                                        \n",
              "E316EH197RUS       1  1300.0  Volkswagen     None\n",
              "E316EH197RUS       1  1300.0  Volkswagen  Touareg"
            ]
          },
          "metadata": {},
          "execution_count": 187
        }
      ]
    },
    {
      "cell_type": "code",
      "metadata": {
        "id": "7QqnvLpyb8Pf"
      },
      "source": [
        ""
      ],
      "execution_count": null,
      "outputs": []
    }
  ]
}