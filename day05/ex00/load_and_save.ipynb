{
  "nbformat": 4,
  "nbformat_minor": 0,
  "metadata": {
    "colab": {
      "name": "day00.ipynb",
      "provenance": []
    },
    "kernelspec": {
      "name": "python3",
      "display_name": "Python 3"
    },
    "language_info": {
      "name": "python"
    }
  },
  "cells": [
    {
      "cell_type": "code",
      "metadata": {
        "id": "vnwOjIVdJZPz"
      },
      "source": [
        "import pandas as pd"
      ],
      "execution_count": 25,
      "outputs": []
    },
    {
      "cell_type": "code",
      "metadata": {
        "colab": {
          "base_uri": "https://localhost:8080/",
          "height": 235
        },
        "id": "6qmvsR_sKjt4",
        "outputId": "9e4371ba-672f-421f-c5df-8d21431e8232"
      },
      "source": [
        "df = pd.read_csv('feed-views.log', header = None, names=['datetime', 'user'], skipfooter=2, skiprows=[2,3], engine='python', sep = '\\t', index_col=['datetime'])\n",
        "df.head()"
      ],
      "execution_count": 26,
      "outputs": [
        {
          "output_type": "execute_result",
          "data": {
            "text/html": [
              "<div>\n",
              "<style scoped>\n",
              "    .dataframe tbody tr th:only-of-type {\n",
              "        vertical-align: middle;\n",
              "    }\n",
              "\n",
              "    .dataframe tbody tr th {\n",
              "        vertical-align: top;\n",
              "    }\n",
              "\n",
              "    .dataframe thead th {\n",
              "        text-align: right;\n",
              "    }\n",
              "</style>\n",
              "<table border=\"1\" class=\"dataframe\">\n",
              "  <thead>\n",
              "    <tr style=\"text-align: right;\">\n",
              "      <th></th>\n",
              "      <th>user</th>\n",
              "    </tr>\n",
              "    <tr>\n",
              "      <th>datetime</th>\n",
              "      <th></th>\n",
              "    </tr>\n",
              "  </thead>\n",
              "  <tbody>\n",
              "    <tr>\n",
              "      <th>2020-04-17 12:01:08.463179</th>\n",
              "      <td>artem</td>\n",
              "    </tr>\n",
              "    <tr>\n",
              "      <th>2020-04-17 12:01:23.743946</th>\n",
              "      <td>artem</td>\n",
              "    </tr>\n",
              "    <tr>\n",
              "      <th>2020-04-17 12:35:52.735016</th>\n",
              "      <td>artem</td>\n",
              "    </tr>\n",
              "    <tr>\n",
              "      <th>2020-04-17 12:36:21.401412</th>\n",
              "      <td>oksana</td>\n",
              "    </tr>\n",
              "    <tr>\n",
              "      <th>2020-04-17 12:36:22.023355</th>\n",
              "      <td>oksana</td>\n",
              "    </tr>\n",
              "  </tbody>\n",
              "</table>\n",
              "</div>"
            ],
            "text/plain": [
              "                              user\n",
              "datetime                          \n",
              "2020-04-17 12:01:08.463179   artem\n",
              "2020-04-17 12:01:23.743946   artem\n",
              "2020-04-17 12:35:52.735016   artem\n",
              "2020-04-17 12:36:21.401412  oksana\n",
              "2020-04-17 12:36:22.023355  oksana"
            ]
          },
          "metadata": {},
          "execution_count": 26
        }
      ]
    },
    {
      "cell_type": "code",
      "metadata": {
        "colab": {
          "base_uri": "https://localhost:8080/",
          "height": 235
        },
        "id": "m2HjuYNaP8C-",
        "outputId": "559f02a7-ede2-4dcb-987d-0573139dd512"
      },
      "source": [
        "df.index.name = 'date_time'\n",
        "df.tail()"
      ],
      "execution_count": 27,
      "outputs": [
        {
          "output_type": "execute_result",
          "data": {
            "text/html": [
              "<div>\n",
              "<style scoped>\n",
              "    .dataframe tbody tr th:only-of-type {\n",
              "        vertical-align: middle;\n",
              "    }\n",
              "\n",
              "    .dataframe tbody tr th {\n",
              "        vertical-align: top;\n",
              "    }\n",
              "\n",
              "    .dataframe thead th {\n",
              "        text-align: right;\n",
              "    }\n",
              "</style>\n",
              "<table border=\"1\" class=\"dataframe\">\n",
              "  <thead>\n",
              "    <tr style=\"text-align: right;\">\n",
              "      <th></th>\n",
              "      <th>user</th>\n",
              "    </tr>\n",
              "    <tr>\n",
              "      <th>date_time</th>\n",
              "      <th></th>\n",
              "    </tr>\n",
              "  </thead>\n",
              "  <tbody>\n",
              "    <tr>\n",
              "      <th>2020-05-21 16:36:40.915488</th>\n",
              "      <td>ekaterina</td>\n",
              "    </tr>\n",
              "    <tr>\n",
              "      <th>2020-05-21 17:49:36.429237</th>\n",
              "      <td>maxim</td>\n",
              "    </tr>\n",
              "    <tr>\n",
              "      <th>2020-05-21 18:45:20.441142</th>\n",
              "      <td>valentina</td>\n",
              "    </tr>\n",
              "    <tr>\n",
              "      <th>2020-05-21 23:03:06.457819</th>\n",
              "      <td>maxim</td>\n",
              "    </tr>\n",
              "    <tr>\n",
              "      <th>2020-05-21 23:23:49.995349</th>\n",
              "      <td>pavel</td>\n",
              "    </tr>\n",
              "  </tbody>\n",
              "</table>\n",
              "</div>"
            ],
            "text/plain": [
              "                                 user\n",
              "date_time                            \n",
              "2020-05-21 16:36:40.915488  ekaterina\n",
              "2020-05-21 17:49:36.429237      maxim\n",
              "2020-05-21 18:45:20.441142  valentina\n",
              "2020-05-21 23:03:06.457819      maxim\n",
              "2020-05-21 23:23:49.995349      pavel"
            ]
          },
          "metadata": {},
          "execution_count": 27
        }
      ]
    },
    {
      "cell_type": "code",
      "metadata": {
        "id": "yvVCxgxHQ67n"
      },
      "source": [
        "df.to_csv('feed-views-semicolon.log', sep=';')"
      ],
      "execution_count": 28,
      "outputs": []
    }
  ]
}