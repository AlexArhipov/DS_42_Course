{
  "nbformat": 4,
  "nbformat_minor": 0,
  "metadata": {
    "colab": {
      "name": "day00.ipynb",
      "provenance": []
    },
    "kernelspec": {
      "name": "python3",
      "display_name": "Python 3"
    },
    "language_info": {
      "name": "python"
    }
  },
  "cells": [
    {
      "cell_type": "code",
      "metadata": {
        "id": "vnwOjIVdJZPz"
      },
      "source": [
        "import pandas as pd"
      ],
      "execution_count": 1,
      "outputs": []
    },
    {
      "cell_type": "code",
      "metadata": {
        "colab": {
          "base_uri": "https://localhost:8080/",
          "height": 235
        },
        "id": "6qmvsR_sKjt4",
        "outputId": "d886e44a-f33f-486f-90f2-c67b1ecc4edd"
      },
      "source": [
        "df = pd.read_csv('auto.csv', index_col='ID')\n",
        "df.head()"
      ],
      "execution_count": 2,
      "outputs": [
        {
          "output_type": "execute_result",
          "data": {
            "text/html": [
              "<div>\n",
              "<style scoped>\n",
              "    .dataframe tbody tr th:only-of-type {\n",
              "        vertical-align: middle;\n",
              "    }\n",
              "\n",
              "    .dataframe tbody tr th {\n",
              "        vertical-align: top;\n",
              "    }\n",
              "\n",
              "    .dataframe thead th {\n",
              "        text-align: right;\n",
              "    }\n",
              "</style>\n",
              "<table border=\"1\" class=\"dataframe\">\n",
              "  <thead>\n",
              "    <tr style=\"text-align: right;\">\n",
              "      <th></th>\n",
              "      <th>CarNumber</th>\n",
              "      <th>Make_n_model</th>\n",
              "      <th>Refund</th>\n",
              "      <th>Fines</th>\n",
              "      <th>History</th>\n",
              "    </tr>\n",
              "    <tr>\n",
              "      <th>ID</th>\n",
              "      <th></th>\n",
              "      <th></th>\n",
              "      <th></th>\n",
              "      <th></th>\n",
              "      <th></th>\n",
              "    </tr>\n",
              "  </thead>\n",
              "  <tbody>\n",
              "    <tr>\n",
              "      <th>0</th>\n",
              "      <td>Y163O8161RUS</td>\n",
              "      <td>Ford Focus</td>\n",
              "      <td>2.0</td>\n",
              "      <td>3200.0</td>\n",
              "      <td>NaN</td>\n",
              "    </tr>\n",
              "    <tr>\n",
              "      <th>1</th>\n",
              "      <td>E432XX77RUS</td>\n",
              "      <td>Toyota Camry</td>\n",
              "      <td>1.0</td>\n",
              "      <td>6500.0</td>\n",
              "      <td>NaN</td>\n",
              "    </tr>\n",
              "    <tr>\n",
              "      <th>2</th>\n",
              "      <td>7184TT36RUS</td>\n",
              "      <td>Ford Focus</td>\n",
              "      <td>1.0</td>\n",
              "      <td>2100.0</td>\n",
              "      <td>NaN</td>\n",
              "    </tr>\n",
              "    <tr>\n",
              "      <th>3</th>\n",
              "      <td>X582HE161RUS</td>\n",
              "      <td>Ford Focus</td>\n",
              "      <td>2.0</td>\n",
              "      <td>2000.0</td>\n",
              "      <td>NaN</td>\n",
              "    </tr>\n",
              "    <tr>\n",
              "      <th>4</th>\n",
              "      <td>E34877152RUS</td>\n",
              "      <td>Ford Focus</td>\n",
              "      <td>2.0</td>\n",
              "      <td>6100.0</td>\n",
              "      <td>NaN</td>\n",
              "    </tr>\n",
              "  </tbody>\n",
              "</table>\n",
              "</div>"
            ],
            "text/plain": [
              "       CarNumber  Make_n_model  Refund   Fines  History\n",
              "ID                                                     \n",
              "0   Y163O8161RUS    Ford Focus     2.0  3200.0      NaN\n",
              "1    E432XX77RUS  Toyota Camry     1.0  6500.0      NaN\n",
              "2    7184TT36RUS    Ford Focus     1.0  2100.0      NaN\n",
              "3   X582HE161RUS    Ford Focus     2.0  2000.0      NaN\n",
              "4   E34877152RUS    Ford Focus     2.0  6100.0      NaN"
            ]
          },
          "metadata": {},
          "execution_count": 2
        }
      ]
    },
    {
      "cell_type": "code",
      "metadata": {
        "colab": {
          "base_uri": "https://localhost:8080/"
        },
        "id": "cjy9TBUGSu1F",
        "outputId": "efdbf996-5e03-4c70-a220-2a2604114d70"
      },
      "source": [
        "df.count()"
      ],
      "execution_count": 3,
      "outputs": [
        {
          "output_type": "execute_result",
          "data": {
            "text/plain": [
              "CarNumber       931\n",
              "Make_n_model    931\n",
              "Refund          914\n",
              "Fines           869\n",
              "History          82\n",
              "dtype: int64"
            ]
          },
          "metadata": {},
          "execution_count": 3
        }
      ]
    },
    {
      "cell_type": "code",
      "metadata": {
        "id": "m2HjuYNaP8C-"
      },
      "source": [
        "df = df.drop_duplicates(subset=['CarNumber', 'Make_n_model', 'Fines'], keep=\"last\")"
      ],
      "execution_count": 4,
      "outputs": []
    },
    {
      "cell_type": "code",
      "metadata": {
        "colab": {
          "base_uri": "https://localhost:8080/"
        },
        "id": "yvVCxgxHQ67n",
        "outputId": "3f16dd3c-bc75-4efa-9cc9-565695ecfed8"
      },
      "source": [
        "df.count()"
      ],
      "execution_count": 5,
      "outputs": [
        {
          "output_type": "execute_result",
          "data": {
            "text/plain": [
              "CarNumber       725\n",
              "Make_n_model    725\n",
              "Refund          713\n",
              "Fines           665\n",
              "History          65\n",
              "dtype: int64"
            ]
          },
          "metadata": {},
          "execution_count": 5
        }
      ]
    },
    {
      "cell_type": "code",
      "metadata": {
        "colab": {
          "base_uri": "https://localhost:8080/"
        },
        "id": "cUa7UMGPVHax",
        "outputId": "e9f66aa1-78cc-4a33-bf38-b978f87ae661"
      },
      "source": [
        "df.isnull().sum()"
      ],
      "execution_count": 6,
      "outputs": [
        {
          "output_type": "execute_result",
          "data": {
            "text/plain": [
              "CarNumber         0\n",
              "Make_n_model      0\n",
              "Refund           12\n",
              "Fines            60\n",
              "History         660\n",
              "dtype: int64"
            ]
          },
          "metadata": {},
          "execution_count": 6
        }
      ]
    },
    {
      "cell_type": "code",
      "metadata": {
        "id": "Sl8FSRl9YXhZ",
        "colab": {
          "base_uri": "https://localhost:8080/"
        },
        "outputId": "cbc55f91-374b-4ef2-9d99-c2ab8bb8f3bf"
      },
      "source": [
        "df.dropna(axis = 1 , thresh = 500 , inplace = True )"
      ],
      "execution_count": 7,
      "outputs": [
        {
          "output_type": "stream",
          "name": "stderr",
          "text": [
            "/usr/local/lib/python3.7/dist-packages/ipykernel_launcher.py:1: SettingWithCopyWarning: \n",
            "A value is trying to be set on a copy of a slice from a DataFrame\n",
            "\n",
            "See the caveats in the documentation: https://pandas.pydata.org/pandas-docs/stable/user_guide/indexing.html#returning-a-view-versus-a-copy\n",
            "  \"\"\"Entry point for launching an IPython kernel.\n"
          ]
        }
      ]
    },
    {
      "cell_type": "code",
      "metadata": {
        "colab": {
          "base_uri": "https://localhost:8080/"
        },
        "id": "lNhjitKdWmzD",
        "outputId": "a7b3534d-e719-46f5-f5bd-81446e21de46"
      },
      "source": [
        "df.isnull().sum()"
      ],
      "execution_count": 8,
      "outputs": [
        {
          "output_type": "execute_result",
          "data": {
            "text/plain": [
              "CarNumber        0\n",
              "Make_n_model     0\n",
              "Refund          12\n",
              "Fines           60\n",
              "dtype: int64"
            ]
          },
          "metadata": {},
          "execution_count": 8
        }
      ]
    },
    {
      "cell_type": "code",
      "metadata": {
        "id": "ojvSFrxDYFAI",
        "colab": {
          "base_uri": "https://localhost:8080/"
        },
        "outputId": "e4044031-6999-473f-aae1-2c386199f74c"
      },
      "source": [
        "df.Refund.fillna(method='ffill', inplace=True)"
      ],
      "execution_count": 9,
      "outputs": [
        {
          "output_type": "stream",
          "name": "stderr",
          "text": [
            "/usr/local/lib/python3.7/dist-packages/pandas/core/series.py:4536: SettingWithCopyWarning: \n",
            "A value is trying to be set on a copy of a slice from a DataFrame\n",
            "\n",
            "See the caveats in the documentation: https://pandas.pydata.org/pandas-docs/stable/user_guide/indexing.html#returning-a-view-versus-a-copy\n",
            "  downcast=downcast,\n"
          ]
        }
      ]
    },
    {
      "cell_type": "code",
      "metadata": {
        "colab": {
          "base_uri": "https://localhost:8080/"
        },
        "id": "cQF_V4e8Z7V_",
        "outputId": "9898017d-1555-4ead-97a7-4e99019e50f9"
      },
      "source": [
        "df.isnull().sum()"
      ],
      "execution_count": 10,
      "outputs": [
        {
          "output_type": "execute_result",
          "data": {
            "text/plain": [
              "CarNumber        0\n",
              "Make_n_model     0\n",
              "Refund           0\n",
              "Fines           60\n",
              "dtype: int64"
            ]
          },
          "metadata": {},
          "execution_count": 10
        }
      ]
    },
    {
      "cell_type": "code",
      "metadata": {
        "id": "Djf_SK_UarhE",
        "colab": {
          "base_uri": "https://localhost:8080/"
        },
        "outputId": "5ba63fe9-5f26-44fa-8766-9e36dda30ca8"
      },
      "source": [
        "df.Fines.fillna(df.Fines.mean(), inplace=True)"
      ],
      "execution_count": 11,
      "outputs": [
        {
          "output_type": "stream",
          "name": "stderr",
          "text": [
            "/usr/local/lib/python3.7/dist-packages/pandas/core/series.py:4536: SettingWithCopyWarning: \n",
            "A value is trying to be set on a copy of a slice from a DataFrame\n",
            "\n",
            "See the caveats in the documentation: https://pandas.pydata.org/pandas-docs/stable/user_guide/indexing.html#returning-a-view-versus-a-copy\n",
            "  downcast=downcast,\n"
          ]
        }
      ]
    },
    {
      "cell_type": "code",
      "metadata": {
        "colab": {
          "base_uri": "https://localhost:8080/"
        },
        "id": "PuysTWO5ctBm",
        "outputId": "c3058a4a-8d13-4bd8-98ad-977ed8f50375"
      },
      "source": [
        "df.isnull().sum()"
      ],
      "execution_count": 12,
      "outputs": [
        {
          "output_type": "execute_result",
          "data": {
            "text/plain": [
              "CarNumber       0\n",
              "Make_n_model    0\n",
              "Refund          0\n",
              "Fines           0\n",
              "dtype: int64"
            ]
          },
          "metadata": {},
          "execution_count": 12
        }
      ]
    },
    {
      "cell_type": "code",
      "metadata": {
        "colab": {
          "base_uri": "https://localhost:8080/",
          "height": 759
        },
        "id": "F0vrRdiQeTmj",
        "outputId": "9a22d348-16b1-4bd0-978b-18dd389a0f16"
      },
      "source": [
        "new = df.Make_n_model.str.split(\" \", n = 1, expand = True)\n",
        "df['Make'] = new[0]\n",
        "df['Model'] = new[1]\n",
        "df.drop('Make_n_model', axis=1, inplace=True)\n",
        "df"
      ],
      "execution_count": 13,
      "outputs": [
        {
          "output_type": "stream",
          "name": "stderr",
          "text": [
            "/usr/local/lib/python3.7/dist-packages/ipykernel_launcher.py:2: SettingWithCopyWarning: \n",
            "A value is trying to be set on a copy of a slice from a DataFrame.\n",
            "Try using .loc[row_indexer,col_indexer] = value instead\n",
            "\n",
            "See the caveats in the documentation: https://pandas.pydata.org/pandas-docs/stable/user_guide/indexing.html#returning-a-view-versus-a-copy\n",
            "  \n",
            "/usr/local/lib/python3.7/dist-packages/ipykernel_launcher.py:3: SettingWithCopyWarning: \n",
            "A value is trying to be set on a copy of a slice from a DataFrame.\n",
            "Try using .loc[row_indexer,col_indexer] = value instead\n",
            "\n",
            "See the caveats in the documentation: https://pandas.pydata.org/pandas-docs/stable/user_guide/indexing.html#returning-a-view-versus-a-copy\n",
            "  This is separate from the ipykernel package so we can avoid doing imports until\n",
            "/usr/local/lib/python3.7/dist-packages/pandas/core/frame.py:4174: SettingWithCopyWarning: \n",
            "A value is trying to be set on a copy of a slice from a DataFrame\n",
            "\n",
            "See the caveats in the documentation: https://pandas.pydata.org/pandas-docs/stable/user_guide/indexing.html#returning-a-view-versus-a-copy\n",
            "  errors=errors,\n"
          ]
        },
        {
          "output_type": "execute_result",
          "data": {
            "text/html": [
              "<div>\n",
              "<style scoped>\n",
              "    .dataframe tbody tr th:only-of-type {\n",
              "        vertical-align: middle;\n",
              "    }\n",
              "\n",
              "    .dataframe tbody tr th {\n",
              "        vertical-align: top;\n",
              "    }\n",
              "\n",
              "    .dataframe thead th {\n",
              "        text-align: right;\n",
              "    }\n",
              "</style>\n",
              "<table border=\"1\" class=\"dataframe\">\n",
              "  <thead>\n",
              "    <tr style=\"text-align: right;\">\n",
              "      <th></th>\n",
              "      <th>CarNumber</th>\n",
              "      <th>Refund</th>\n",
              "      <th>Fines</th>\n",
              "      <th>Make</th>\n",
              "      <th>Model</th>\n",
              "    </tr>\n",
              "    <tr>\n",
              "      <th>ID</th>\n",
              "      <th></th>\n",
              "      <th></th>\n",
              "      <th></th>\n",
              "      <th></th>\n",
              "      <th></th>\n",
              "    </tr>\n",
              "  </thead>\n",
              "  <tbody>\n",
              "    <tr>\n",
              "      <th>0</th>\n",
              "      <td>Y163O8161RUS</td>\n",
              "      <td>2.0</td>\n",
              "      <td>3200.000000</td>\n",
              "      <td>Ford</td>\n",
              "      <td>Focus</td>\n",
              "    </tr>\n",
              "    <tr>\n",
              "      <th>1</th>\n",
              "      <td>E432XX77RUS</td>\n",
              "      <td>1.0</td>\n",
              "      <td>6500.000000</td>\n",
              "      <td>Toyota</td>\n",
              "      <td>Camry</td>\n",
              "    </tr>\n",
              "    <tr>\n",
              "      <th>2</th>\n",
              "      <td>7184TT36RUS</td>\n",
              "      <td>1.0</td>\n",
              "      <td>2100.000000</td>\n",
              "      <td>Ford</td>\n",
              "      <td>Focus</td>\n",
              "    </tr>\n",
              "    <tr>\n",
              "      <th>3</th>\n",
              "      <td>X582HE161RUS</td>\n",
              "      <td>2.0</td>\n",
              "      <td>2000.000000</td>\n",
              "      <td>Ford</td>\n",
              "      <td>Focus</td>\n",
              "    </tr>\n",
              "    <tr>\n",
              "      <th>5</th>\n",
              "      <td>92918M178RUS</td>\n",
              "      <td>1.0</td>\n",
              "      <td>5700.000000</td>\n",
              "      <td>Ford</td>\n",
              "      <td>Focus</td>\n",
              "    </tr>\n",
              "    <tr>\n",
              "      <th>...</th>\n",
              "      <td>...</td>\n",
              "      <td>...</td>\n",
              "      <td>...</td>\n",
              "      <td>...</td>\n",
              "      <td>...</td>\n",
              "    </tr>\n",
              "    <tr>\n",
              "      <th>926</th>\n",
              "      <td>Y163O8161RUS</td>\n",
              "      <td>2.0</td>\n",
              "      <td>1600.000000</td>\n",
              "      <td>Ford</td>\n",
              "      <td>Focus</td>\n",
              "    </tr>\n",
              "    <tr>\n",
              "      <th>927</th>\n",
              "      <td>M0309X197RUS</td>\n",
              "      <td>1.0</td>\n",
              "      <td>22300.000000</td>\n",
              "      <td>Ford</td>\n",
              "      <td>Focus</td>\n",
              "    </tr>\n",
              "    <tr>\n",
              "      <th>928</th>\n",
              "      <td>O673E8197RUS</td>\n",
              "      <td>2.0</td>\n",
              "      <td>600.000000</td>\n",
              "      <td>Ford</td>\n",
              "      <td>Focus</td>\n",
              "    </tr>\n",
              "    <tr>\n",
              "      <th>929</th>\n",
              "      <td>8610T8154RUS</td>\n",
              "      <td>1.0</td>\n",
              "      <td>2000.000000</td>\n",
              "      <td>Ford</td>\n",
              "      <td>Focus</td>\n",
              "    </tr>\n",
              "    <tr>\n",
              "      <th>930</th>\n",
              "      <td>H419XE197RUS</td>\n",
              "      <td>2.0</td>\n",
              "      <td>8594.586466</td>\n",
              "      <td>Toyota</td>\n",
              "      <td>Corolla</td>\n",
              "    </tr>\n",
              "  </tbody>\n",
              "</table>\n",
              "<p>725 rows × 5 columns</p>\n",
              "</div>"
            ],
            "text/plain": [
              "        CarNumber  Refund         Fines    Make    Model\n",
              "ID                                                      \n",
              "0    Y163O8161RUS     2.0   3200.000000    Ford    Focus\n",
              "1     E432XX77RUS     1.0   6500.000000  Toyota    Camry\n",
              "2     7184TT36RUS     1.0   2100.000000    Ford    Focus\n",
              "3    X582HE161RUS     2.0   2000.000000    Ford    Focus\n",
              "5    92918M178RUS     1.0   5700.000000    Ford    Focus\n",
              "..            ...     ...           ...     ...      ...\n",
              "926  Y163O8161RUS     2.0   1600.000000    Ford    Focus\n",
              "927  M0309X197RUS     1.0  22300.000000    Ford    Focus\n",
              "928  O673E8197RUS     2.0    600.000000    Ford    Focus\n",
              "929  8610T8154RUS     1.0   2000.000000    Ford    Focus\n",
              "930  H419XE197RUS     2.0   8594.586466  Toyota  Corolla\n",
              "\n",
              "[725 rows x 5 columns]"
            ]
          },
          "metadata": {},
          "execution_count": 13
        }
      ]
    },
    {
      "cell_type": "code",
      "metadata": {
        "id": "mKyc283wwM8V"
      },
      "source": [
        "df.to_json('auto.json', orient='records')"
      ],
      "execution_count": 14,
      "outputs": []
    }
  ]
}