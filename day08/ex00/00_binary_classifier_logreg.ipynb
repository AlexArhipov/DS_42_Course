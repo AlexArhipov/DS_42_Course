{
  "nbformat": 4,
  "nbformat_minor": 0,
  "metadata": {
    "colab": {
      "name": "ex02_joins.ipynb",
      "provenance": []
    },
    "kernelspec": {
      "name": "python3",
      "display_name": "Python 3"
    },
    "language_info": {
      "name": "python"
    }
  },
  "cells": [
    {
      "cell_type": "code",
      "metadata": {
        "id": "vnwOjIVdJZPz"
      },
      "source": [
        "import pandas as pd\n",
        "import sqlite3\n",
        "import matplotlib.pyplot as plt\n",
        "from sklearn.linear_model import LogisticRegression\n",
        "from sklearn.metrics import accuracy_score"
      ],
      "execution_count": 230,
      "outputs": []
    },
    {
      "cell_type": "code",
      "metadata": {
        "colab": {
          "base_uri": "https://localhost:8080/",
          "height": 204
        },
        "id": "-gZksWOuwPkM",
        "outputId": "f9862b61-8b99-4608-d16e-bdcf69aea66b"
      },
      "source": [
        "connect_db = sqlite3.connect('../data/checking-logs-test-control.sqlite')\n",
        "query = '''\n",
        "        select timestamp from checker where uid like 'user_%'\n",
        "        '''\n",
        "df = pd.io.sql.read_sql(query, connect_db, parse_dates=['timestamp'])\n",
        "df.head()"
      ],
      "execution_count": 231,
      "outputs": [
        {
          "output_type": "execute_result",
          "data": {
            "text/html": [
              "<div>\n",
              "<style scoped>\n",
              "    .dataframe tbody tr th:only-of-type {\n",
              "        vertical-align: middle;\n",
              "    }\n",
              "\n",
              "    .dataframe tbody tr th {\n",
              "        vertical-align: top;\n",
              "    }\n",
              "\n",
              "    .dataframe thead th {\n",
              "        text-align: right;\n",
              "    }\n",
              "</style>\n",
              "<table border=\"1\" class=\"dataframe\">\n",
              "  <thead>\n",
              "    <tr style=\"text-align: right;\">\n",
              "      <th></th>\n",
              "      <th>timestamp</th>\n",
              "    </tr>\n",
              "  </thead>\n",
              "  <tbody>\n",
              "    <tr>\n",
              "      <th>0</th>\n",
              "      <td>2020-04-17 05:19:02.744528</td>\n",
              "    </tr>\n",
              "    <tr>\n",
              "      <th>1</th>\n",
              "      <td>2020-04-17 05:22:35.249331</td>\n",
              "    </tr>\n",
              "    <tr>\n",
              "      <th>2</th>\n",
              "      <td>2020-04-17 05:22:45.549397</td>\n",
              "    </tr>\n",
              "    <tr>\n",
              "      <th>3</th>\n",
              "      <td>2020-04-17 05:34:14.691200</td>\n",
              "    </tr>\n",
              "    <tr>\n",
              "      <th>4</th>\n",
              "      <td>2020-04-17 05:34:24.422370</td>\n",
              "    </tr>\n",
              "  </tbody>\n",
              "</table>\n",
              "</div>"
            ],
            "text/plain": [
              "                   timestamp\n",
              "0 2020-04-17 05:19:02.744528\n",
              "1 2020-04-17 05:22:35.249331\n",
              "2 2020-04-17 05:22:45.549397\n",
              "3 2020-04-17 05:34:14.691200\n",
              "4 2020-04-17 05:34:24.422370"
            ]
          },
          "metadata": {},
          "execution_count": 231
        }
      ]
    },
    {
      "cell_type": "code",
      "metadata": {
        "colab": {
          "base_uri": "https://localhost:8080/",
          "height": 204
        },
        "id": "u-tMMG9hzcmD",
        "outputId": "08b023e7-7b02-4ed9-95db-7ed21b25efa2"
      },
      "source": [
        "#  date, am, pm, target\n",
        "df['date'] = df.timestamp.dt.date\n",
        "df['hour'] = df.timestamp.dt.hour\n",
        "df['target'] = df.timestamp.dt.dayofweek\n",
        "df.loc[df.target < 5, 'target'] = 'working_day'\n",
        "df.loc[df.target != 'working_day', 'target'] = 'weekend'\n",
        "df.loc[df.hour < 12, 'hour'] = 'am'\n",
        "df.loc[df.hour != 'am', 'hour'] = 'pm'\n",
        "df.drop('timestamp', inplace=True, axis=1)\n",
        "df.head()"
      ],
      "execution_count": 232,
      "outputs": [
        {
          "output_type": "execute_result",
          "data": {
            "text/html": [
              "<div>\n",
              "<style scoped>\n",
              "    .dataframe tbody tr th:only-of-type {\n",
              "        vertical-align: middle;\n",
              "    }\n",
              "\n",
              "    .dataframe tbody tr th {\n",
              "        vertical-align: top;\n",
              "    }\n",
              "\n",
              "    .dataframe thead th {\n",
              "        text-align: right;\n",
              "    }\n",
              "</style>\n",
              "<table border=\"1\" class=\"dataframe\">\n",
              "  <thead>\n",
              "    <tr style=\"text-align: right;\">\n",
              "      <th></th>\n",
              "      <th>date</th>\n",
              "      <th>hour</th>\n",
              "      <th>target</th>\n",
              "    </tr>\n",
              "  </thead>\n",
              "  <tbody>\n",
              "    <tr>\n",
              "      <th>0</th>\n",
              "      <td>2020-04-17</td>\n",
              "      <td>am</td>\n",
              "      <td>working_day</td>\n",
              "    </tr>\n",
              "    <tr>\n",
              "      <th>1</th>\n",
              "      <td>2020-04-17</td>\n",
              "      <td>am</td>\n",
              "      <td>working_day</td>\n",
              "    </tr>\n",
              "    <tr>\n",
              "      <th>2</th>\n",
              "      <td>2020-04-17</td>\n",
              "      <td>am</td>\n",
              "      <td>working_day</td>\n",
              "    </tr>\n",
              "    <tr>\n",
              "      <th>3</th>\n",
              "      <td>2020-04-17</td>\n",
              "      <td>am</td>\n",
              "      <td>working_day</td>\n",
              "    </tr>\n",
              "    <tr>\n",
              "      <th>4</th>\n",
              "      <td>2020-04-17</td>\n",
              "      <td>am</td>\n",
              "      <td>working_day</td>\n",
              "    </tr>\n",
              "  </tbody>\n",
              "</table>\n",
              "</div>"
            ],
            "text/plain": [
              "         date hour       target\n",
              "0  2020-04-17   am  working_day\n",
              "1  2020-04-17   am  working_day\n",
              "2  2020-04-17   am  working_day\n",
              "3  2020-04-17   am  working_day\n",
              "4  2020-04-17   am  working_day"
            ]
          },
          "metadata": {},
          "execution_count": 232
        }
      ]
    },
    {
      "cell_type": "code",
      "metadata": {
        "id": "AgFfmsx04vqv"
      },
      "source": [
        "ds = df\n",
        "ds = ds.groupby(by = ['date','hour']).count()['target'].reset_index()\n",
        "pivot_table = pd.pivot(ds, values='target',index='date', columns='hour')\n",
        "pivot_table.fillna(0, inplace=True)\n",
        "df_tab = pd.merge(pivot_table,df,on='date')\n",
        "df_tab.drop('hour', inplace=True, axis=1)\n",
        "df_tab.drop_duplicates(inplace=True)\n",
        "ds1 = df_tab[df_tab.target == 'working_day']\n",
        "ds2 = df_tab[df_tab.target == 'weekend']"
      ],
      "execution_count": 233,
      "outputs": []
    },
    {
      "cell_type": "code",
      "metadata": {
        "colab": {
          "base_uri": "https://localhost:8080/",
          "height": 513
        },
        "id": "pny0DvdSEIuZ",
        "outputId": "1d49641b-3e6e-4052-fc8b-9732ebee900b"
      },
      "source": [
        "fig, ax = plt.subplots(figsize=(15, 8))\n",
        "scatter = ax.scatter(ds1['am'], ds1['pm'], c= 'red', label = 'working_day')\n",
        "scatter = ax.scatter(ds2['am'], ds2['pm'], c= 'green', label = 'weekend')\n",
        "ax.legend()\n",
        "ax.set_title('Commits')\n",
        "ax.set_xlabel('am')\n",
        "ax.set_ylabel('pm')\n",
        "plt.show()"
      ],
      "execution_count": 234,
      "outputs": [
        {
          "output_type": "display_data",
          "data": {
            "image/png": "[encoded data removed]",
            "text/plain": [
              "<Figure size 1080x576 with 1 Axes>"
            ]
          },
          "metadata": {
            "needs_background": "light"
          }
        }
      ]
    },
    {
      "cell_type": "markdown",
      "metadata": {
        "id": "9AvcoDk0SrYI"
      },
      "source": [
        " it is\n",
        "not easy"
      ]
    },
    {
      "cell_type": "code",
      "metadata": {
        "id": "Gcfn663NbZnZ",
        "colab": {
          "base_uri": "https://localhost:8080/"
        },
        "outputId": "92cb6ee7-feff-4feb-c4e2-046383e7bf67"
      },
      "source": [
        "X = df_tab[['am', 'pm']].values\n",
        "y = df_tab['target'].values\n",
        "logreg = LogisticRegression(random_state=21, fit_intercept=False)\n",
        "logreg.fit(X, y)"
      ],
      "execution_count": 235,
      "outputs": [
        {
          "output_type": "execute_result",
          "data": {
            "text/plain": [
              "LogisticRegression(fit_intercept=False, random_state=21)"
            ]
          },
          "metadata": {},
          "execution_count": 235
        }
      ]
    },
    {
      "cell_type": "code",
      "metadata": {
        "colab": {
          "base_uri": "https://localhost:8080/",
          "height": 1000
        },
        "id": "Ei_QQ-gA0Ata",
        "outputId": "4c2e3af4-0749-4be5-e091-7be1ef4b9698"
      },
      "source": [
        "pred = logreg.predict(X)\n",
        "df_tab['predict'] = pred\n",
        "df_tab.to_csv('../data/am_pm.csv')\n",
        "df_tab"
      ],
      "execution_count": 236,
      "outputs": [
        {
          "output_type": "execute_result",
          "data": {
            "text/html": [
              "<div>\n",
              "<style scoped>\n",
              "    .dataframe tbody tr th:only-of-type {\n",
              "        vertical-align: middle;\n",
              "    }\n",
              "\n",
              "    .dataframe tbody tr th {\n",
              "        vertical-align: top;\n",
              "    }\n",
              "\n",
              "    .dataframe thead th {\n",
              "        text-align: right;\n",
              "    }\n",
              "</style>\n",
              "<table border=\"1\" class=\"dataframe\">\n",
              "  <thead>\n",
              "    <tr style=\"text-align: right;\">\n",
              "      <th></th>\n",
              "      <th>date</th>\n",
              "      <th>am</th>\n",
              "      <th>pm</th>\n",
              "      <th>target</th>\n",
              "      <th>predict</th>\n",
              "    </tr>\n",
              "  </thead>\n",
              "  <tbody>\n",
              "    <tr>\n",
              "      <th>0</th>\n",
              "      <td>2020-04-17</td>\n",
              "      <td>21.0</td>\n",
              "      <td>2.0</td>\n",
              "      <td>working_day</td>\n",
              "      <td>weekend</td>\n",
              "    </tr>\n",
              "    <tr>\n",
              "      <th>23</th>\n",
              "      <td>2020-04-18</td>\n",
              "      <td>1.0</td>\n",
              "      <td>68.0</td>\n",
              "      <td>weekend</td>\n",
              "      <td>working_day</td>\n",
              "    </tr>\n",
              "    <tr>\n",
              "      <th>92</th>\n",
              "      <td>2020-04-19</td>\n",
              "      <td>18.0</td>\n",
              "      <td>15.0</td>\n",
              "      <td>weekend</td>\n",
              "      <td>working_day</td>\n",
              "    </tr>\n",
              "    <tr>\n",
              "      <th>125</th>\n",
              "      <td>2020-04-20</td>\n",
              "      <td>2.0</td>\n",
              "      <td>23.0</td>\n",
              "      <td>working_day</td>\n",
              "      <td>working_day</td>\n",
              "    </tr>\n",
              "    <tr>\n",
              "      <th>150</th>\n",
              "      <td>2020-04-21</td>\n",
              "      <td>0.0</td>\n",
              "      <td>25.0</td>\n",
              "      <td>working_day</td>\n",
              "      <td>working_day</td>\n",
              "    </tr>\n",
              "    <tr>\n",
              "      <th>175</th>\n",
              "      <td>2020-04-22</td>\n",
              "      <td>0.0</td>\n",
              "      <td>28.0</td>\n",
              "      <td>working_day</td>\n",
              "      <td>working_day</td>\n",
              "    </tr>\n",
              "    <tr>\n",
              "      <th>203</th>\n",
              "      <td>2020-04-23</td>\n",
              "      <td>10.0</td>\n",
              "      <td>33.0</td>\n",
              "      <td>working_day</td>\n",
              "      <td>working_day</td>\n",
              "    </tr>\n",
              "    <tr>\n",
              "      <th>246</th>\n",
              "      <td>2020-04-24</td>\n",
              "      <td>2.0</td>\n",
              "      <td>14.0</td>\n",
              "      <td>working_day</td>\n",
              "      <td>working_day</td>\n",
              "    </tr>\n",
              "    <tr>\n",
              "      <th>262</th>\n",
              "      <td>2020-04-25</td>\n",
              "      <td>30.0</td>\n",
              "      <td>74.0</td>\n",
              "      <td>weekend</td>\n",
              "      <td>working_day</td>\n",
              "    </tr>\n",
              "    <tr>\n",
              "      <th>366</th>\n",
              "      <td>2020-04-26</td>\n",
              "      <td>28.0</td>\n",
              "      <td>233.0</td>\n",
              "      <td>weekend</td>\n",
              "      <td>working_day</td>\n",
              "    </tr>\n",
              "    <tr>\n",
              "      <th>627</th>\n",
              "      <td>2020-04-27</td>\n",
              "      <td>4.0</td>\n",
              "      <td>2.0</td>\n",
              "      <td>working_day</td>\n",
              "      <td>working_day</td>\n",
              "    </tr>\n",
              "    <tr>\n",
              "      <th>633</th>\n",
              "      <td>2020-04-28</td>\n",
              "      <td>4.0</td>\n",
              "      <td>1.0</td>\n",
              "      <td>working_day</td>\n",
              "      <td>working_day</td>\n",
              "    </tr>\n",
              "    <tr>\n",
              "      <th>638</th>\n",
              "      <td>2020-04-29</td>\n",
              "      <td>0.0</td>\n",
              "      <td>17.0</td>\n",
              "      <td>working_day</td>\n",
              "      <td>working_day</td>\n",
              "    </tr>\n",
              "    <tr>\n",
              "      <th>655</th>\n",
              "      <td>2020-04-30</td>\n",
              "      <td>13.0</td>\n",
              "      <td>40.0</td>\n",
              "      <td>working_day</td>\n",
              "      <td>working_day</td>\n",
              "    </tr>\n",
              "    <tr>\n",
              "      <th>708</th>\n",
              "      <td>2020-05-01</td>\n",
              "      <td>8.0</td>\n",
              "      <td>52.0</td>\n",
              "      <td>working_day</td>\n",
              "      <td>working_day</td>\n",
              "    </tr>\n",
              "    <tr>\n",
              "      <th>768</th>\n",
              "      <td>2020-05-02</td>\n",
              "      <td>91.0</td>\n",
              "      <td>151.0</td>\n",
              "      <td>weekend</td>\n",
              "      <td>working_day</td>\n",
              "    </tr>\n",
              "    <tr>\n",
              "      <th>1010</th>\n",
              "      <td>2020-05-03</td>\n",
              "      <td>47.0</td>\n",
              "      <td>133.0</td>\n",
              "      <td>weekend</td>\n",
              "      <td>working_day</td>\n",
              "    </tr>\n",
              "    <tr>\n",
              "      <th>1190</th>\n",
              "      <td>2020-05-04</td>\n",
              "      <td>11.0</td>\n",
              "      <td>26.0</td>\n",
              "      <td>working_day</td>\n",
              "      <td>working_day</td>\n",
              "    </tr>\n",
              "    <tr>\n",
              "      <th>1227</th>\n",
              "      <td>2020-05-05</td>\n",
              "      <td>81.0</td>\n",
              "      <td>58.0</td>\n",
              "      <td>working_day</td>\n",
              "      <td>working_day</td>\n",
              "    </tr>\n",
              "    <tr>\n",
              "      <th>1366</th>\n",
              "      <td>2020-05-06</td>\n",
              "      <td>2.0</td>\n",
              "      <td>0.0</td>\n",
              "      <td>working_day</td>\n",
              "      <td>weekend</td>\n",
              "    </tr>\n",
              "    <tr>\n",
              "      <th>1368</th>\n",
              "      <td>2020-05-07</td>\n",
              "      <td>14.0</td>\n",
              "      <td>38.0</td>\n",
              "      <td>working_day</td>\n",
              "      <td>working_day</td>\n",
              "    </tr>\n",
              "    <tr>\n",
              "      <th>1420</th>\n",
              "      <td>2020-05-08</td>\n",
              "      <td>3.0</td>\n",
              "      <td>84.0</td>\n",
              "      <td>working_day</td>\n",
              "      <td>working_day</td>\n",
              "    </tr>\n",
              "    <tr>\n",
              "      <th>1507</th>\n",
              "      <td>2020-05-09</td>\n",
              "      <td>0.0</td>\n",
              "      <td>86.0</td>\n",
              "      <td>weekend</td>\n",
              "      <td>working_day</td>\n",
              "    </tr>\n",
              "    <tr>\n",
              "      <th>1593</th>\n",
              "      <td>2020-05-10</td>\n",
              "      <td>10.0</td>\n",
              "      <td>133.0</td>\n",
              "      <td>weekend</td>\n",
              "      <td>working_day</td>\n",
              "    </tr>\n",
              "    <tr>\n",
              "      <th>1736</th>\n",
              "      <td>2020-05-11</td>\n",
              "      <td>3.0</td>\n",
              "      <td>183.0</td>\n",
              "      <td>working_day</td>\n",
              "      <td>working_day</td>\n",
              "    </tr>\n",
              "    <tr>\n",
              "      <th>1922</th>\n",
              "      <td>2020-05-12</td>\n",
              "      <td>56.0</td>\n",
              "      <td>267.0</td>\n",
              "      <td>working_day</td>\n",
              "      <td>working_day</td>\n",
              "    </tr>\n",
              "    <tr>\n",
              "      <th>2245</th>\n",
              "      <td>2020-05-13</td>\n",
              "      <td>6.0</td>\n",
              "      <td>205.0</td>\n",
              "      <td>working_day</td>\n",
              "      <td>working_day</td>\n",
              "    </tr>\n",
              "    <tr>\n",
              "      <th>2456</th>\n",
              "      <td>2020-05-14</td>\n",
              "      <td>66.0</td>\n",
              "      <td>509.0</td>\n",
              "      <td>working_day</td>\n",
              "      <td>working_day</td>\n",
              "    </tr>\n",
              "    <tr>\n",
              "      <th>3031</th>\n",
              "      <td>2020-05-15</td>\n",
              "      <td>10.0</td>\n",
              "      <td>0.0</td>\n",
              "      <td>working_day</td>\n",
              "      <td>weekend</td>\n",
              "    </tr>\n",
              "    <tr>\n",
              "      <th>3041</th>\n",
              "      <td>2020-05-16</td>\n",
              "      <td>0.0</td>\n",
              "      <td>4.0</td>\n",
              "      <td>weekend</td>\n",
              "      <td>working_day</td>\n",
              "    </tr>\n",
              "    <tr>\n",
              "      <th>3045</th>\n",
              "      <td>2020-05-17</td>\n",
              "      <td>2.0</td>\n",
              "      <td>46.0</td>\n",
              "      <td>weekend</td>\n",
              "      <td>working_day</td>\n",
              "    </tr>\n",
              "    <tr>\n",
              "      <th>3093</th>\n",
              "      <td>2020-05-18</td>\n",
              "      <td>0.0</td>\n",
              "      <td>3.0</td>\n",
              "      <td>working_day</td>\n",
              "      <td>working_day</td>\n",
              "    </tr>\n",
              "    <tr>\n",
              "      <th>3096</th>\n",
              "      <td>2020-05-19</td>\n",
              "      <td>20.0</td>\n",
              "      <td>14.0</td>\n",
              "      <td>working_day</td>\n",
              "      <td>working_day</td>\n",
              "    </tr>\n",
              "    <tr>\n",
              "      <th>3130</th>\n",
              "      <td>2020-05-20</td>\n",
              "      <td>7.0</td>\n",
              "      <td>21.0</td>\n",
              "      <td>working_day</td>\n",
              "      <td>working_day</td>\n",
              "    </tr>\n",
              "    <tr>\n",
              "      <th>3158</th>\n",
              "      <td>2020-05-21</td>\n",
              "      <td>1.0</td>\n",
              "      <td>48.0</td>\n",
              "      <td>working_day</td>\n",
              "      <td>working_day</td>\n",
              "    </tr>\n",
              "  </tbody>\n",
              "</table>\n",
              "</div>"
            ],
            "text/plain": [
              "            date    am     pm       target      predict\n",
              "0     2020-04-17  21.0    2.0  working_day      weekend\n",
              "23    2020-04-18   1.0   68.0      weekend  working_day\n",
              "92    2020-04-19  18.0   15.0      weekend  working_day\n",
              "125   2020-04-20   2.0   23.0  working_day  working_day\n",
              "150   2020-04-21   0.0   25.0  working_day  working_day\n",
              "175   2020-04-22   0.0   28.0  working_day  working_day\n",
              "203   2020-04-23  10.0   33.0  working_day  working_day\n",
              "246   2020-04-24   2.0   14.0  working_day  working_day\n",
              "262   2020-04-25  30.0   74.0      weekend  working_day\n",
              "366   2020-04-26  28.0  233.0      weekend  working_day\n",
              "627   2020-04-27   4.0    2.0  working_day  working_day\n",
              "633   2020-04-28   4.0    1.0  working_day  working_day\n",
              "638   2020-04-29   0.0   17.0  working_day  working_day\n",
              "655   2020-04-30  13.0   40.0  working_day  working_day\n",
              "708   2020-05-01   8.0   52.0  working_day  working_day\n",
              "768   2020-05-02  91.0  151.0      weekend  working_day\n",
              "1010  2020-05-03  47.0  133.0      weekend  working_day\n",
              "1190  2020-05-04  11.0   26.0  working_day  working_day\n",
              "1227  2020-05-05  81.0   58.0  working_day  working_day\n",
              "1366  2020-05-06   2.0    0.0  working_day      weekend\n",
              "1368  2020-05-07  14.0   38.0  working_day  working_day\n",
              "1420  2020-05-08   3.0   84.0  working_day  working_day\n",
              "1507  2020-05-09   0.0   86.0      weekend  working_day\n",
              "1593  2020-05-10  10.0  133.0      weekend  working_day\n",
              "1736  2020-05-11   3.0  183.0  working_day  working_day\n",
              "1922  2020-05-12  56.0  267.0  working_day  working_day\n",
              "2245  2020-05-13   6.0  205.0  working_day  working_day\n",
              "2456  2020-05-14  66.0  509.0  working_day  working_day\n",
              "3031  2020-05-15  10.0    0.0  working_day      weekend\n",
              "3041  2020-05-16   0.0    4.0      weekend  working_day\n",
              "3045  2020-05-17   2.0   46.0      weekend  working_day\n",
              "3093  2020-05-18   0.0    3.0  working_day  working_day\n",
              "3096  2020-05-19  20.0   14.0  working_day  working_day\n",
              "3130  2020-05-20   7.0   21.0  working_day  working_day\n",
              "3158  2020-05-21   1.0   48.0  working_day  working_day"
            ]
          },
          "metadata": {},
          "execution_count": 236
        }
      ]
    },
    {
      "cell_type": "code",
      "metadata": {
        "colab": {
          "base_uri": "https://localhost:8080/",
          "height": 513
        },
        "id": "hsU1krD-HemC",
        "outputId": "53af2b61-5c40-4177-bd01-34468ac09838"
      },
      "source": [
        "ds1 = df_tab[df_tab.predict == 'working_day']\n",
        "ds2 = df_tab[df_tab.predict == 'weekend']\n",
        "fig, ax = plt.subplots(figsize=(15, 8))\n",
        "scatter = ax.scatter(ds1['am'], ds1['pm'], c= 'red', label = 'working_day')\n",
        "scatter = ax.scatter(ds2['am'], ds2['pm'], c= 'green', label = 'weekend')\n",
        "ax.legend()\n",
        "ax.set_title('Commits')\n",
        "ax.set_xlabel('am')\n",
        "ax.set_ylabel('pm')\n",
        "plt.show()"
      ],
      "execution_count": 237,
      "outputs": [
        {
          "output_type": "display_data",
          "data": {
            "image/png": "[encoded data removed]",
            "text/plain": [
              "<Figure size 1080x576 with 1 Axes>"
            ]
          },
          "metadata": {
            "needs_background": "light"
          }
        }
      ]
    },
    {
      "cell_type": "markdown",
      "metadata": {
        "id": "UA7ozKPTUmcM"
      },
      "source": [
        "no, it is not good"
      ]
    },
    {
      "cell_type": "code",
      "metadata": {
        "colab": {
          "base_uri": "https://localhost:8080/"
        },
        "id": "mmaMnZSWU114",
        "outputId": "36976277-ed5a-448b-f9aa-8d49389558f8"
      },
      "source": [
        "accuracy_score(y, pred)"
      ],
      "execution_count": 238,
      "outputs": [
        {
          "output_type": "execute_result",
          "data": {
            "text/plain": [
              "0.6285714285714286"
            ]
          },
          "metadata": {},
          "execution_count": 238
        }
      ]
    },
    {
      "cell_type": "code",
      "metadata": {
        "colab": {
          "base_uri": "https://localhost:8080/"
        },
        "id": "PTe96FW0VItD",
        "outputId": "e13b8957-2d33-4d7e-fae3-ba1336787c12"
      },
      "source": [
        "accuracy_score(y, [df['target'].max()] * len(y))"
      ],
      "execution_count": 239,
      "outputs": [
        {
          "output_type": "execute_result",
          "data": {
            "text/plain": [
              "0.7142857142857143"
            ]
          },
          "metadata": {},
          "execution_count": 239
        }
      ]
    },
    {
      "cell_type": "markdown",
      "metadata": {
        "id": "SJQStcrBVavN"
      },
      "source": [
        "no, it is not good"
      ]
    }
  ]
}